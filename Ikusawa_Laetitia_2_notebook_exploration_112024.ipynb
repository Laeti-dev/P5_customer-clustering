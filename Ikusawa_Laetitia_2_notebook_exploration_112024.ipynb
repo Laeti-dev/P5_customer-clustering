{
 "cells": [
  {
   "cell_type": "markdown",
   "metadata": {},
   "source": [
    "# Imports"
   ]
  },
  {
   "cell_type": "code",
   "execution_count": 2,
   "metadata": {},
   "outputs": [],
   "source": [
    "import sqlite3\n",
    "import pandas as pd\n",
    "import matplotlib.pyplot as plt\n",
    "import plotly.express as px"
   ]
  },
  {
   "cell_type": "markdown",
   "metadata": {},
   "source": [
    "# DATABASE EXPLORATION"
   ]
  },
  {
   "cell_type": "code",
   "execution_count": 3,
   "metadata": {},
   "outputs": [],
   "source": [
    "# Connect to database\n",
    "path_to_db = \"../data/DB/olist.db\"\n",
    "connection = sqlite3.connect(path_to_db)\n",
    "\n",
    "# Create a cursor object to execute SQL queries\n",
    "cursor = connection.cursor()"
   ]
  },
  {
   "cell_type": "markdown",
   "metadata": {},
   "source": [
    "We will start by exploring the table related to customers : customers."
   ]
  },
  {
   "cell_type": "code",
   "execution_count": 7,
   "metadata": {},
   "outputs": [],
   "source": [
    "customers_info = \"\"\"\n",
    "    SELECT DISTINCT\n",
    "    c.customer_unique_id, c.customer_id, c.customer_state,c.customer_city\n",
    "    FROM customers c\n",
    "\"\"\"\n",
    "    # ,g.geolocation_lat, g.geolocation_lng\n",
    "    # LEFT JOIN geoloc g ON c.customer_zip_code_prefix = g.geolocation_zip_code_prefix"
   ]
  },
  {
   "cell_type": "code",
   "execution_count": 13,
   "metadata": {},
   "outputs": [
    {
     "name": "stdout",
     "output_type": "stream",
     "text": [
      "<class 'pandas.core.frame.DataFrame'>\n",
      "RangeIndex: 99441 entries, 0 to 99440\n",
      "Data columns (total 4 columns):\n",
      " #   Column              Non-Null Count  Dtype \n",
      "---  ------              --------------  ----- \n",
      " 0   customer_unique_id  99441 non-null  object\n",
      " 1   customer_id         99441 non-null  object\n",
      " 2   customer_state      99441 non-null  object\n",
      " 3   customer_city       99441 non-null  object\n",
      "dtypes: object(4)\n",
      "memory usage: 3.0+ MB\n"
     ]
    }
   ],
   "source": [
    "# Display the results in a pandas dataframe\n",
    "df_customers = pd.read_sql_query(customers_info, connection)\n",
    "df_customers.info()"
   ]
  },
  {
   "cell_type": "markdown",
   "metadata": {},
   "source": [
    "## How many customers ? Where are they living ?"
   ]
  },
  {
   "cell_type": "code",
   "execution_count": 5,
   "metadata": {},
   "outputs": [
    {
     "name": "stdout",
     "output_type": "stream",
     "text": [
      "Number of customers : 96096\n",
      "Customers are from 27 different states and 4119 different cities\n",
      "The number of orders can be from 1 to 17 with an average of 1.03 orders per customer\n"
     ]
    }
   ],
   "source": [
    "print(f\"Number of customers : {len(df_customers['customer_unique_id'].unique())}\")\n",
    "print(f\"Customers are from {len(df_customers['customer_state'].unique())} different states and {len(df_customers['customer_city'].unique())} different cities\")\n",
    "\n",
    "# get the number of orders per customer\n",
    "orders_by_customer = df_customers.groupby(\"customer_unique_id\")[\"customer_id\"].count().sort_values(ascending=False)\n",
    "# get min and max number of orders\n",
    "min_orders = orders_by_customer.min()\n",
    "max_orders = orders_by_customer.max()\n",
    "# get the average number of orders\n",
    "average_orders = orders_by_customer.mean()\n",
    "\n",
    "print(f\"The number of orders can be from {min_orders} to {max_orders} with an average of {round(average_orders, 2)} orders per customer\")\n"
   ]
  },
  {
   "cell_type": "code",
   "execution_count": 6,
   "metadata": {},
   "outputs": [
    {
     "data": {
      "text/plain": [
       "customer_state\n",
       "SP    41746\n",
       "RJ    12852\n",
       "MG    11635\n",
       "RS     5466\n",
       "PR     5045\n",
       "Name: customer_unique_id, dtype: int64"
      ]
     },
     "execution_count": 6,
     "metadata": {},
     "output_type": "execute_result"
    }
   ],
   "source": [
    "# Group customer by state and cities then count the number of customers in each group\n",
    "customers_by_state = df_customers.groupby(\"customer_state\")[\"customer_unique_id\"].count().sort_values(ascending=False)\n",
    "customers_by_state.head()"
   ]
  },
  {
   "cell_type": "code",
   "execution_count": 7,
   "metadata": {},
   "outputs": [
    {
     "data": {
      "text/html": [
       "<div>\n",
       "<style scoped>\n",
       "    .dataframe tbody tr th:only-of-type {\n",
       "        vertical-align: middle;\n",
       "    }\n",
       "\n",
       "    .dataframe tbody tr th {\n",
       "        vertical-align: top;\n",
       "    }\n",
       "\n",
       "    .dataframe thead th {\n",
       "        text-align: right;\n",
       "    }\n",
       "</style>\n",
       "<table border=\"1\" class=\"dataframe\">\n",
       "  <thead>\n",
       "    <tr style=\"text-align: right;\">\n",
       "      <th></th>\n",
       "      <th>state</th>\n",
       "      <th>number_of_customers</th>\n",
       "      <th>percentage</th>\n",
       "    </tr>\n",
       "  </thead>\n",
       "  <tbody>\n",
       "    <tr>\n",
       "      <th>0</th>\n",
       "      <td>SP</td>\n",
       "      <td>41746</td>\n",
       "      <td>42.0</td>\n",
       "    </tr>\n",
       "    <tr>\n",
       "      <th>1</th>\n",
       "      <td>RJ</td>\n",
       "      <td>12852</td>\n",
       "      <td>13.0</td>\n",
       "    </tr>\n",
       "    <tr>\n",
       "      <th>2</th>\n",
       "      <td>MG</td>\n",
       "      <td>11635</td>\n",
       "      <td>12.0</td>\n",
       "    </tr>\n",
       "    <tr>\n",
       "      <th>3</th>\n",
       "      <td>RS</td>\n",
       "      <td>5466</td>\n",
       "      <td>5.0</td>\n",
       "    </tr>\n",
       "    <tr>\n",
       "      <th>4</th>\n",
       "      <td>PR</td>\n",
       "      <td>5045</td>\n",
       "      <td>5.0</td>\n",
       "    </tr>\n",
       "  </tbody>\n",
       "</table>\n",
       "</div>"
      ],
      "text/plain": [
       "  state  number_of_customers  percentage\n",
       "0    SP                41746        42.0\n",
       "1    RJ                12852        13.0\n",
       "2    MG                11635        12.0\n",
       "3    RS                 5466         5.0\n",
       "4    PR                 5045         5.0"
      ]
     },
     "execution_count": 7,
     "metadata": {},
     "output_type": "execute_result"
    }
   ],
   "source": [
    "# get the proportion of customers by state\n",
    "customers_by_state = customers_by_state.reset_index()\n",
    "customers_by_state.columns = [\"state\", \"number_of_customers\"]\n",
    "customers_by_state[\"percentage\"] = round(customers_by_state[\"number_of_customers\"] / customers_by_state[\"number_of_customers\"].sum() * 100)\n",
    "customers_by_state.head()"
   ]
  },
  {
   "cell_type": "code",
   "execution_count": 8,
   "metadata": {},
   "outputs": [
    {
     "data": {
      "text/html": [
       "<div>\n",
       "<style scoped>\n",
       "    .dataframe tbody tr th:only-of-type {\n",
       "        vertical-align: middle;\n",
       "    }\n",
       "\n",
       "    .dataframe tbody tr th {\n",
       "        vertical-align: top;\n",
       "    }\n",
       "\n",
       "    .dataframe thead th {\n",
       "        text-align: right;\n",
       "    }\n",
       "</style>\n",
       "<table border=\"1\" class=\"dataframe\">\n",
       "  <thead>\n",
       "    <tr style=\"text-align: right;\">\n",
       "      <th></th>\n",
       "      <th>state</th>\n",
       "      <th>number_of_customers</th>\n",
       "    </tr>\n",
       "  </thead>\n",
       "  <tbody>\n",
       "    <tr>\n",
       "      <th>0</th>\n",
       "      <td>SP</td>\n",
       "      <td>41746</td>\n",
       "    </tr>\n",
       "    <tr>\n",
       "      <th>1</th>\n",
       "      <td>OTHER</td>\n",
       "      <td>22697</td>\n",
       "    </tr>\n",
       "    <tr>\n",
       "      <th>2</th>\n",
       "      <td>RJ</td>\n",
       "      <td>12852</td>\n",
       "    </tr>\n",
       "    <tr>\n",
       "      <th>3</th>\n",
       "      <td>MG</td>\n",
       "      <td>11635</td>\n",
       "    </tr>\n",
       "    <tr>\n",
       "      <th>4</th>\n",
       "      <td>RS</td>\n",
       "      <td>5466</td>\n",
       "    </tr>\n",
       "    <tr>\n",
       "      <th>5</th>\n",
       "      <td>PR</td>\n",
       "      <td>5045</td>\n",
       "    </tr>\n",
       "  </tbody>\n",
       "</table>\n",
       "</div>"
      ],
      "text/plain": [
       "   state  number_of_customers\n",
       "0     SP                41746\n",
       "1  OTHER                22697\n",
       "2     RJ                12852\n",
       "3     MG                11635\n",
       "4     RS                 5466\n",
       "5     PR                 5045"
      ]
     },
     "execution_count": 8,
     "metadata": {},
     "output_type": "execute_result"
    }
   ],
   "source": [
    "# Replace state name by OTHER if the percentage of customers is less than 1%\n",
    "customers_by_state.loc[customers_by_state[\"percentage\"] < 5, \"state\"] = \"OTHER\"\n",
    "customers_by_state = customers_by_state.groupby(\"state\")[\"number_of_customers\"].sum().sort_values(ascending=False)\n",
    "customers_by_state = customers_by_state.reset_index()\n",
    "\n",
    "customers_by_state"
   ]
  },
  {
   "cell_type": "code",
   "execution_count": 9,
   "metadata": {},
   "outputs": [
    {
     "data": {
      "image/png": "[encoded data removed]",
      "text/plain": [
       "<Figure size 1000x1000 with 1 Axes>"
      ]
     },
     "metadata": {},
     "output_type": "display_data"
    }
   ],
   "source": [
    "# plot the proportion of customers by state\n",
    "plt.figure(figsize=(10, 10))\n",
    "plt.pie(customers_by_state[\"number_of_customers\"], labels=customers_by_state[\"state\"], autopct='%1.1f%%')\n",
    "plt.title(\"Proportion of customers by state\")\n",
    "plt.show()"
   ]
  },
  {
   "cell_type": "markdown",
   "metadata": {},
   "source": [
    "## Orders related informations"
   ]
  },
  {
   "cell_type": "code",
   "execution_count": 14,
   "metadata": {},
   "outputs": [
    {
     "data": {
      "text/html": [
       "<div>\n",
       "<style scoped>\n",
       "    .dataframe tbody tr th:only-of-type {\n",
       "        vertical-align: middle;\n",
       "    }\n",
       "\n",
       "    .dataframe tbody tr th {\n",
       "        vertical-align: top;\n",
       "    }\n",
       "\n",
       "    .dataframe thead th {\n",
       "        text-align: right;\n",
       "    }\n",
       "</style>\n",
       "<table border=\"1\" class=\"dataframe\">\n",
       "  <thead>\n",
       "    <tr style=\"text-align: right;\">\n",
       "      <th></th>\n",
       "      <th>customer_unique_id</th>\n",
       "      <th>customer_zip_code_prefix</th>\n",
       "      <th>order_id</th>\n",
       "      <th>order_status</th>\n",
       "      <th>order_purchase_timestamp</th>\n",
       "      <th>order_approved_at</th>\n",
       "      <th>order_delivered_carrier_date</th>\n",
       "      <th>order_delivered_customer_date</th>\n",
       "      <th>order_estimated_delivery_date</th>\n",
       "    </tr>\n",
       "  </thead>\n",
       "  <tbody>\n",
       "    <tr>\n",
       "      <th>0</th>\n",
       "      <td>861eff4711a542e4b93843c6dd7febb0</td>\n",
       "      <td>14409</td>\n",
       "      <td>00e7ee1b050b8499577073aeb2a297a1</td>\n",
       "      <td>delivered</td>\n",
       "      <td>2017-05-16 15:05:35</td>\n",
       "      <td>2017-05-16 15:22:12</td>\n",
       "      <td>2017-05-23 10:47:57</td>\n",
       "      <td>2017-05-25 10:35:35</td>\n",
       "      <td>2017-06-05 00:00:00</td>\n",
       "    </tr>\n",
       "    <tr>\n",
       "      <th>1</th>\n",
       "      <td>290c77bc529b7ac935b93aa66c333dc3</td>\n",
       "      <td>9790</td>\n",
       "      <td>29150127e6685892b6eab3eec79f59c7</td>\n",
       "      <td>delivered</td>\n",
       "      <td>2018-01-12 20:48:24</td>\n",
       "      <td>2018-01-12 20:58:32</td>\n",
       "      <td>2018-01-15 17:14:59</td>\n",
       "      <td>2018-01-29 12:41:19</td>\n",
       "      <td>2018-02-06 00:00:00</td>\n",
       "    </tr>\n",
       "    <tr>\n",
       "      <th>2</th>\n",
       "      <td>060e732b5b29e8181a18229c7b0b2b5e</td>\n",
       "      <td>1151</td>\n",
       "      <td>b2059ed67ce144a36e2aa97d2c9e9ad2</td>\n",
       "      <td>delivered</td>\n",
       "      <td>2018-05-19 16:07:45</td>\n",
       "      <td>2018-05-20 16:19:10</td>\n",
       "      <td>2018-06-11 14:31:00</td>\n",
       "      <td>2018-06-14 17:58:51</td>\n",
       "      <td>2018-06-13 00:00:00</td>\n",
       "    </tr>\n",
       "    <tr>\n",
       "      <th>3</th>\n",
       "      <td>259dac757896d24d7702b9acbbff3f3c</td>\n",
       "      <td>8775</td>\n",
       "      <td>951670f92359f4fe4a63112aa7306eba</td>\n",
       "      <td>delivered</td>\n",
       "      <td>2018-03-13 16:06:38</td>\n",
       "      <td>2018-03-13 17:29:19</td>\n",
       "      <td>2018-03-27 23:22:42</td>\n",
       "      <td>2018-03-28 16:04:25</td>\n",
       "      <td>2018-04-10 00:00:00</td>\n",
       "    </tr>\n",
       "    <tr>\n",
       "      <th>4</th>\n",
       "      <td>345ecd01c38d18a9036ed96c73b8d066</td>\n",
       "      <td>13056</td>\n",
       "      <td>6b7d50bd145f6fc7f33cebabd7e49d0f</td>\n",
       "      <td>delivered</td>\n",
       "      <td>2018-07-29 09:51:30</td>\n",
       "      <td>2018-07-29 10:10:09</td>\n",
       "      <td>2018-07-30 15:16:00</td>\n",
       "      <td>2018-08-09 20:55:48</td>\n",
       "      <td>2018-08-15 00:00:00</td>\n",
       "    </tr>\n",
       "  </tbody>\n",
       "</table>\n",
       "</div>"
      ],
      "text/plain": [
       "                 customer_unique_id  customer_zip_code_prefix  \\\n",
       "0  861eff4711a542e4b93843c6dd7febb0                     14409   \n",
       "1  290c77bc529b7ac935b93aa66c333dc3                      9790   \n",
       "2  060e732b5b29e8181a18229c7b0b2b5e                      1151   \n",
       "3  259dac757896d24d7702b9acbbff3f3c                      8775   \n",
       "4  345ecd01c38d18a9036ed96c73b8d066                     13056   \n",
       "\n",
       "                           order_id order_status order_purchase_timestamp  \\\n",
       "0  00e7ee1b050b8499577073aeb2a297a1    delivered      2017-05-16 15:05:35   \n",
       "1  29150127e6685892b6eab3eec79f59c7    delivered      2018-01-12 20:48:24   \n",
       "2  b2059ed67ce144a36e2aa97d2c9e9ad2    delivered      2018-05-19 16:07:45   \n",
       "3  951670f92359f4fe4a63112aa7306eba    delivered      2018-03-13 16:06:38   \n",
       "4  6b7d50bd145f6fc7f33cebabd7e49d0f    delivered      2018-07-29 09:51:30   \n",
       "\n",
       "     order_approved_at order_delivered_carrier_date  \\\n",
       "0  2017-05-16 15:22:12          2017-05-23 10:47:57   \n",
       "1  2018-01-12 20:58:32          2018-01-15 17:14:59   \n",
       "2  2018-05-20 16:19:10          2018-06-11 14:31:00   \n",
       "3  2018-03-13 17:29:19          2018-03-27 23:22:42   \n",
       "4  2018-07-29 10:10:09          2018-07-30 15:16:00   \n",
       "\n",
       "  order_delivered_customer_date order_estimated_delivery_date  \n",
       "0           2017-05-25 10:35:35           2017-06-05 00:00:00  \n",
       "1           2018-01-29 12:41:19           2018-02-06 00:00:00  \n",
       "2           2018-06-14 17:58:51           2018-06-13 00:00:00  \n",
       "3           2018-03-28 16:04:25           2018-04-10 00:00:00  \n",
       "4           2018-08-09 20:55:48           2018-08-15 00:00:00  "
      ]
     },
     "execution_count": 14,
     "metadata": {},
     "output_type": "execute_result"
    }
   ],
   "source": [
    "query = \"\"\"\n",
    "    SELECT c.customer_unique_id, c.customer_zip_code_prefix\n",
    "    , o.order_id, o.order_status, o.order_purchase_timestamp, o.order_approved_at, o.order_delivered_carrier_date, o.order_delivered_customer_date, o.order_estimated_delivery_date\n",
    "    FROM customers c\n",
    "    LEFT JOIN orders o ON c.customer_id = o.customer_id\n",
    "\"\"\"\n",
    "    # , r.review_score, COALESCE(LENGTH(r.review_comment_message),0) as review_length\n",
    "    # , p.product_description_lenght, p.product_photos_qty\n",
    "    # LEFT JOIN order_items oi ON o.order_id = oi.order_id\n",
    "    # LEFT JOIN order_reviews r ON o.order_id = r.order_id\n",
    "    # LEFT JOIN products p ON oi.product_id = p.product_id\n",
    "    # , t.product_category_name_english\n",
    "    # LEFT JOIN translation t ON p.product_category_name = t.product_category_name\n",
    "\n",
    "df_orders = pd.read_sql_query(query, connection)\n",
    "df_orders.head()"
   ]
  },
  {
   "cell_type": "code",
   "execution_count": 11,
   "metadata": {},
   "outputs": [
    {
     "name": "stdout",
     "output_type": "stream",
     "text": [
      "Orders are from 2016-09-04 21:15:19 to 2018-10-17 17:30:18 for a total of 99441 orders\n"
     ]
    }
   ],
   "source": [
    "# first and last order dates\n",
    "first_order_date = df_orders[\"order_purchase_timestamp\"].min()\n",
    "last_order_date = df_orders[\"order_purchase_timestamp\"].max()\n",
    "# total orders\n",
    "total_orders = len(df_orders[\"order_id\"].unique())\n",
    "\n",
    "print(f\"Orders are from {first_order_date} to {last_order_date} for a total of {total_orders} orders\")"
   ]
  },
  {
   "cell_type": "code",
   "execution_count": 12,
   "metadata": {},
   "outputs": [
    {
     "data": {
      "text/plain": [
       "array(['delivered', 'canceled', 'invoiced', 'shipped', 'processing',\n",
       "       'unavailable', 'approved', 'created'], dtype=object)"
      ]
     },
     "execution_count": 12,
     "metadata": {},
     "output_type": "execute_result"
    }
   ],
   "source": [
    "# Different order statuses\n",
    "df_orders[\"order_status\"].unique()"
   ]
  },
  {
   "cell_type": "code",
   "execution_count": 13,
   "metadata": {},
   "outputs": [
    {
     "data": {
      "application/vnd.plotly.v1+json": {
       "config": {
        "plotlyServerURL": "https://plotly.com"
       },
       "data": [
        {
         "alignmentgroup": "True",
         "bingroup": "x",
         "histfunc": "sum",
         "hovertemplate": "status=%{x}<br>sum of number_of_orders=%{y}<extra></extra>",
         "legendgroup": "",
         "marker": {
          "color": "#636efa",
          "pattern": {
           "shape": ""
          }
         },
         "name": "",
         "offsetgroup": "",
         "orientation": "v",
         "showlegend": false,
         "type": "histogram",
         "x": [
          "delivered",
          "shipped",
          "canceled",
          "unavailable",
          "invoiced",
          "processing",
          "created",
          "approved"
         ],
         "xaxis": "x",
         "y": [
          96478,
          1107,
          625,
          609,
          314,
          301,
          5,
          2
         ],
         "yaxis": "y"
        }
       ],
       "layout": {
        "barmode": "relative",
        "legend": {
         "tracegroupgap": 0
        },
        "template": {
         "data": {
          "bar": [
           {
            "error_x": {
             "color": "#2a3f5f"
            },
            "error_y": {
             "color": "#2a3f5f"
            },
            "marker": {
             "line": {
              "color": "#E5ECF6",
              "width": 0.5
             },
             "pattern": {
              "fillmode": "overlay",
              "size": 10,
              "solidity": 0.2
             }
            },
            "type": "bar"
           }
          ],
          "barpolar": [
           {
            "marker": {
             "line": {
              "color": "#E5ECF6",
              "width": 0.5
             },
             "pattern": {
              "fillmode": "overlay",
              "size": 10,
              "solidity": 0.2
             }
            },
            "type": "barpolar"
           }
          ],
          "carpet": [
           {
            "aaxis": {
             "endlinecolor": "#2a3f5f",
             "gridcolor": "white",
             "linecolor": "white",
             "minorgridcolor": "white",
             "startlinecolor": "#2a3f5f"
            },
            "baxis": {
             "endlinecolor": "#2a3f5f",
             "gridcolor": "white",
             "linecolor": "white",
             "minorgridcolor": "white",
             "startlinecolor": "#2a3f5f"
            },
            "type": "carpet"
           }
          ],
          "choropleth": [
           {
            "colorbar": {
             "outlinewidth": 0,
             "ticks": ""
            },
            "type": "choropleth"
           }
          ],
          "contour": [
           {
            "colorbar": {
             "outlinewidth": 0,
             "ticks": ""
            },
            "colorscale": [
             [
              0,
              "#0d0887"
             ],
             [
              0.1111111111111111,
              "#46039f"
             ],
             [
              0.2222222222222222,
              "#7201a8"
             ],
             [
              0.3333333333333333,
              "#9c179e"
             ],
             [
              0.4444444444444444,
              "#bd3786"
             ],
             [
              0.5555555555555556,
              "#d8576b"
             ],
             [
              0.6666666666666666,
              "#ed7953"
             ],
             [
              0.7777777777777778,
              "#fb9f3a"
             ],
             [
              0.8888888888888888,
              "#fdca26"
             ],
             [
              1,
              "#f0f921"
             ]
            ],
            "type": "contour"
           }
          ],
          "contourcarpet": [
           {
            "colorbar": {
             "outlinewidth": 0,
             "ticks": ""
            },
            "type": "contourcarpet"
           }
          ],
          "heatmap": [
           {
            "colorbar": {
             "outlinewidth": 0,
             "ticks": ""
            },
            "colorscale": [
             [
              0,
              "#0d0887"
             ],
             [
              0.1111111111111111,
              "#46039f"
             ],
             [
              0.2222222222222222,
              "#7201a8"
             ],
             [
              0.3333333333333333,
              "#9c179e"
             ],
             [
              0.4444444444444444,
              "#bd3786"
             ],
             [
              0.5555555555555556,
              "#d8576b"
             ],
             [
              0.6666666666666666,
              "#ed7953"
             ],
             [
              0.7777777777777778,
              "#fb9f3a"
             ],
             [
              0.8888888888888888,
              "#fdca26"
             ],
             [
              1,
              "#f0f921"
             ]
            ],
            "type": "heatmap"
           }
          ],
          "heatmapgl": [
           {
            "colorbar": {
             "outlinewidth": 0,
             "ticks": ""
            },
            "colorscale": [
             [
              0,
              "#0d0887"
             ],
             [
              0.1111111111111111,
              "#46039f"
             ],
             [
              0.2222222222222222,
              "#7201a8"
             ],
             [
              0.3333333333333333,
              "#9c179e"
             ],
             [
              0.4444444444444444,
              "#bd3786"
             ],
             [
              0.5555555555555556,
              "#d8576b"
             ],
             [
              0.6666666666666666,
              "#ed7953"
             ],
             [
              0.7777777777777778,
              "#fb9f3a"
             ],
             [
              0.8888888888888888,
              "#fdca26"
             ],
             [
              1,
              "#f0f921"
             ]
            ],
            "type": "heatmapgl"
           }
          ],
          "histogram": [
           {
            "marker": {
             "pattern": {
              "fillmode": "overlay",
              "size": 10,
              "solidity": 0.2
             }
            },
            "type": "histogram"
           }
          ],
          "histogram2d": [
           {
            "colorbar": {
             "outlinewidth": 0,
             "ticks": ""
            },
            "colorscale": [
             [
              0,
              "#0d0887"
             ],
             [
              0.1111111111111111,
              "#46039f"
             ],
             [
              0.2222222222222222,
              "#7201a8"
             ],
             [
              0.3333333333333333,
              "#9c179e"
             ],
             [
              0.4444444444444444,
              "#bd3786"
             ],
             [
              0.5555555555555556,
              "#d8576b"
             ],
             [
              0.6666666666666666,
              "#ed7953"
             ],
             [
              0.7777777777777778,
              "#fb9f3a"
             ],
             [
              0.8888888888888888,
              "#fdca26"
             ],
             [
              1,
              "#f0f921"
             ]
            ],
            "type": "histogram2d"
           }
          ],
          "histogram2dcontour": [
           {
            "colorbar": {
             "outlinewidth": 0,
             "ticks": ""
            },
            "colorscale": [
             [
              0,
              "#0d0887"
             ],
             [
              0.1111111111111111,
              "#46039f"
             ],
             [
              0.2222222222222222,
              "#7201a8"
             ],
             [
              0.3333333333333333,
              "#9c179e"
             ],
             [
              0.4444444444444444,
              "#bd3786"
             ],
             [
              0.5555555555555556,
              "#d8576b"
             ],
             [
              0.6666666666666666,
              "#ed7953"
             ],
             [
              0.7777777777777778,
              "#fb9f3a"
             ],
             [
              0.8888888888888888,
              "#fdca26"
             ],
             [
              1,
              "#f0f921"
             ]
            ],
            "type": "histogram2dcontour"
           }
          ],
          "mesh3d": [
           {
            "colorbar": {
             "outlinewidth": 0,
             "ticks": ""
            },
            "type": "mesh3d"
           }
          ],
          "parcoords": [
           {
            "line": {
             "colorbar": {
              "outlinewidth": 0,
              "ticks": ""
             }
            },
            "type": "parcoords"
           }
          ],
          "pie": [
           {
            "automargin": true,
            "type": "pie"
           }
          ],
          "scatter": [
           {
            "fillpattern": {
             "fillmode": "overlay",
             "size": 10,
             "solidity": 0.2
            },
            "type": "scatter"
           }
          ],
          "scatter3d": [
           {
            "line": {
             "colorbar": {
              "outlinewidth": 0,
              "ticks": ""
             }
            },
            "marker": {
             "colorbar": {
              "outlinewidth": 0,
              "ticks": ""
             }
            },
            "type": "scatter3d"
           }
          ],
          "scattercarpet": [
           {
            "marker": {
             "colorbar": {
              "outlinewidth": 0,
              "ticks": ""
             }
            },
            "type": "scattercarpet"
           }
          ],
          "scattergeo": [
           {
            "marker": {
             "colorbar": {
              "outlinewidth": 0,
              "ticks": ""
             }
            },
            "type": "scattergeo"
           }
          ],
          "scattergl": [
           {
            "marker": {
             "colorbar": {
              "outlinewidth": 0,
              "ticks": ""
             }
            },
            "type": "scattergl"
           }
          ],
          "scattermapbox": [
           {
            "marker": {
             "colorbar": {
              "outlinewidth": 0,
              "ticks": ""
             }
            },
            "type": "scattermapbox"
           }
          ],
          "scatterpolar": [
           {
            "marker": {
             "colorbar": {
              "outlinewidth": 0,
              "ticks": ""
             }
            },
            "type": "scatterpolar"
           }
          ],
          "scatterpolargl": [
           {
            "marker": {
             "colorbar": {
              "outlinewidth": 0,
              "ticks": ""
             }
            },
            "type": "scatterpolargl"
           }
          ],
          "scatterternary": [
           {
            "marker": {
             "colorbar": {
              "outlinewidth": 0,
              "ticks": ""
             }
            },
            "type": "scatterternary"
           }
          ],
          "surface": [
           {
            "colorbar": {
             "outlinewidth": 0,
             "ticks": ""
            },
            "colorscale": [
             [
              0,
              "#0d0887"
             ],
             [
              0.1111111111111111,
              "#46039f"
             ],
             [
              0.2222222222222222,
              "#7201a8"
             ],
             [
              0.3333333333333333,
              "#9c179e"
             ],
             [
              0.4444444444444444,
              "#bd3786"
             ],
             [
              0.5555555555555556,
              "#d8576b"
             ],
             [
              0.6666666666666666,
              "#ed7953"
             ],
             [
              0.7777777777777778,
              "#fb9f3a"
             ],
             [
              0.8888888888888888,
              "#fdca26"
             ],
             [
              1,
              "#f0f921"
             ]
            ],
            "type": "surface"
           }
          ],
          "table": [
           {
            "cells": {
             "fill": {
              "color": "#EBF0F8"
             },
             "line": {
              "color": "white"
             }
            },
            "header": {
             "fill": {
              "color": "#C8D4E3"
             },
             "line": {
              "color": "white"
             }
            },
            "type": "table"
           }
          ]
         },
         "layout": {
          "annotationdefaults": {
           "arrowcolor": "#2a3f5f",
           "arrowhead": 0,
           "arrowwidth": 1
          },
          "autotypenumbers": "strict",
          "coloraxis": {
           "colorbar": {
            "outlinewidth": 0,
            "ticks": ""
           }
          },
          "colorscale": {
           "diverging": [
            [
             0,
             "#8e0152"
            ],
            [
             0.1,
             "#c51b7d"
            ],
            [
             0.2,
             "#de77ae"
            ],
            [
             0.3,
             "#f1b6da"
            ],
            [
             0.4,
             "#fde0ef"
            ],
            [
             0.5,
             "#f7f7f7"
            ],
            [
             0.6,
             "#e6f5d0"
            ],
            [
             0.7,
             "#b8e186"
            ],
            [
             0.8,
             "#7fbc41"
            ],
            [
             0.9,
             "#4d9221"
            ],
            [
             1,
             "#276419"
            ]
           ],
           "sequential": [
            [
             0,
             "#0d0887"
            ],
            [
             0.1111111111111111,
             "#46039f"
            ],
            [
             0.2222222222222222,
             "#7201a8"
            ],
            [
             0.3333333333333333,
             "#9c179e"
            ],
            [
             0.4444444444444444,
             "#bd3786"
            ],
            [
             0.5555555555555556,
             "#d8576b"
            ],
            [
             0.6666666666666666,
             "#ed7953"
            ],
            [
             0.7777777777777778,
             "#fb9f3a"
            ],
            [
             0.8888888888888888,
             "#fdca26"
            ],
            [
             1,
             "#f0f921"
            ]
           ],
           "sequentialminus": [
            [
             0,
             "#0d0887"
            ],
            [
             0.1111111111111111,
             "#46039f"
            ],
            [
             0.2222222222222222,
             "#7201a8"
            ],
            [
             0.3333333333333333,
             "#9c179e"
            ],
            [
             0.4444444444444444,
             "#bd3786"
            ],
            [
             0.5555555555555556,
             "#d8576b"
            ],
            [
             0.6666666666666666,
             "#ed7953"
            ],
            [
             0.7777777777777778,
             "#fb9f3a"
            ],
            [
             0.8888888888888888,
             "#fdca26"
            ],
            [
             1,
             "#f0f921"
            ]
           ]
          },
          "colorway": [
           "#636efa",
           "#EF553B",
           "#00cc96",
           "#ab63fa",
           "#FFA15A",
           "#19d3f3",
           "#FF6692",
           "#B6E880",
           "#FF97FF",
           "#FECB52"
          ],
          "font": {
           "color": "#2a3f5f"
          },
          "geo": {
           "bgcolor": "white",
           "lakecolor": "white",
           "landcolor": "#E5ECF6",
           "showlakes": true,
           "showland": true,
           "subunitcolor": "white"
          },
          "hoverlabel": {
           "align": "left"
          },
          "hovermode": "closest",
          "mapbox": {
           "style": "light"
          },
          "paper_bgcolor": "white",
          "plot_bgcolor": "#E5ECF6",
          "polar": {
           "angularaxis": {
            "gridcolor": "white",
            "linecolor": "white",
            "ticks": ""
           },
           "bgcolor": "#E5ECF6",
           "radialaxis": {
            "gridcolor": "white",
            "linecolor": "white",
            "ticks": ""
           }
          },
          "scene": {
           "xaxis": {
            "backgroundcolor": "#E5ECF6",
            "gridcolor": "white",
            "gridwidth": 2,
            "linecolor": "white",
            "showbackground": true,
            "ticks": "",
            "zerolinecolor": "white"
           },
           "yaxis": {
            "backgroundcolor": "#E5ECF6",
            "gridcolor": "white",
            "gridwidth": 2,
            "linecolor": "white",
            "showbackground": true,
            "ticks": "",
            "zerolinecolor": "white"
           },
           "zaxis": {
            "backgroundcolor": "#E5ECF6",
            "gridcolor": "white",
            "gridwidth": 2,
            "linecolor": "white",
            "showbackground": true,
            "ticks": "",
            "zerolinecolor": "white"
           }
          },
          "shapedefaults": {
           "line": {
            "color": "#2a3f5f"
           }
          },
          "ternary": {
           "aaxis": {
            "gridcolor": "white",
            "linecolor": "white",
            "ticks": ""
           },
           "baxis": {
            "gridcolor": "white",
            "linecolor": "white",
            "ticks": ""
           },
           "bgcolor": "#E5ECF6",
           "caxis": {
            "gridcolor": "white",
            "linecolor": "white",
            "ticks": ""
           }
          },
          "title": {
           "x": 0.05
          },
          "xaxis": {
           "automargin": true,
           "gridcolor": "white",
           "linecolor": "white",
           "ticks": "",
           "title": {
            "standoff": 15
           },
           "zerolinecolor": "white",
           "zerolinewidth": 2
          },
          "yaxis": {
           "automargin": true,
           "gridcolor": "white",
           "linecolor": "white",
           "ticks": "",
           "title": {
            "standoff": 15
           },
           "zerolinecolor": "white",
           "zerolinewidth": 2
          }
         }
        },
        "title": {
         "text": "Number of orders by status"
        },
        "xaxis": {
         "anchor": "y",
         "domain": [
          0,
          1
         ],
         "title": {
          "text": "status"
         }
        },
        "yaxis": {
         "anchor": "x",
         "domain": [
          0,
          1
         ],
         "title": {
          "text": "sum of number_of_orders"
         }
        }
       }
      }
     },
     "metadata": {},
     "output_type": "display_data"
    }
   ],
   "source": [
    "# Plot the number of orders by status\n",
    "orders_by_status = df_orders.groupby(\"order_status\")[\"order_id\"].count().sort_values(ascending=False)\n",
    "orders_by_status = orders_by_status.reset_index()\n",
    "orders_by_status.columns = [\"status\", \"number_of_orders\"]\n",
    "orders_by_status[\"percentage\"] = round(orders_by_status[\"number_of_orders\"] / orders_by_status[\"number_of_orders\"].sum() * 100)\n",
    "\n",
    "fig = px.histogram(orders_by_status, x=\"status\", y=\"number_of_orders\", title=\"Number of orders by status\")\n",
    "fig.show()"
   ]
  },
  {
   "cell_type": "markdown",
   "metadata": {},
   "source": [
    "### Orders logistics"
   ]
  },
  {
   "cell_type": "markdown",
   "metadata": {},
   "source": [
    "## Evolution of orders with time"
   ]
  },
  {
   "cell_type": "code",
   "execution_count": 21,
   "metadata": {},
   "outputs": [
    {
     "data": {
      "image/png": "[encoded data removed]",
      "text/plain": [
       "<Figure size 1500x500 with 1 Axes>"
      ]
     },
     "metadata": {},
     "output_type": "display_data"
    }
   ],
   "source": [
    "# Plot the evolution of number of orders over time\n",
    "df_orders[\"order_purchase_timestamp\"] = pd.to_datetime(df_orders[\"order_purchase_timestamp\"])\n",
    "orders_by_date = df_orders.groupby(df_orders[\"order_purchase_timestamp\"].dt.date)[\"order_id\"].count()\n",
    "orders_by_date = orders_by_date.reset_index()\n",
    "orders_by_date.columns = [\"date\", \"number_of_orders\"]\n",
    "\n",
    "# Plot the evolution of number of customers over time\n",
    "customers_by_date = df_orders.groupby(df_orders[\"order_purchase_timestamp\"].dt.date)[\"customer_unique_id\"].nunique()\n",
    "customers_by_date = customers_by_date.reset_index()\n",
    "customers_by_date.columns = [\"date\", \"number_of_customers\"]\n",
    "\n",
    "# PLot the evolution of number of orders and customers over time\n",
    "fig, ax = plt.subplots(figsize=(15, 5))\n",
    "ax.plot(orders_by_date[\"date\"], orders_by_date[\"number_of_orders\"], label=\"Number of orders\")\n",
    "ax.plot(customers_by_date[\"date\"], customers_by_date[\"number_of_customers\"], label=\"Number of customers\")\n",
    "ax.set_title(\"Evolution of number of orders and customers over time\")\n",
    "# Add vertical axis at 05-01-2017 and 30-08-2018 converted to datetime\n",
    "ax.axvline(pd.to_datetime(\"2017-01-05\"), color=\"green\", linestyle=\"--\")\n",
    "ax.axvline(pd.to_datetime(\"2018-08-30\"), color=\"green\", linestyle=\"--\")\n",
    "ax.legend()\n",
    "plt.show()"
   ]
  },
  {
   "cell_type": "code",
   "execution_count": 28,
   "metadata": {},
   "outputs": [
    {
     "data": {
      "application/vnd.plotly.v1+json": {
       "config": {
        "plotlyServerURL": "https://plot.ly"
       },
       "data": [
        {
         "hovertemplate": "date=%{x}<br>number_of_customers=%{y}<extra></extra>",
         "legendgroup": "",
         "line": {
          "color": "#636efa",
          "dash": "solid"
         },
         "marker": {
          "symbol": "circle"
         },
         "mode": "lines",
         "name": "",
         "orientation": "v",
         "showlegend": false,
         "type": "scatter",
         "x": [
          "2017-11-02T00:00:00",
          "2017-11-03T00:00:00",
          "2017-11-04T00:00:00",
          "2017-11-05T00:00:00",
          "2017-11-06T00:00:00",
          "2017-11-07T00:00:00",
          "2017-11-08T00:00:00",
          "2017-11-09T00:00:00",
          "2017-11-10T00:00:00",
          "2017-11-11T00:00:00",
          "2017-11-12T00:00:00",
          "2017-11-13T00:00:00",
          "2017-11-14T00:00:00",
          "2017-11-15T00:00:00",
          "2017-11-16T00:00:00",
          "2017-11-17T00:00:00",
          "2017-11-18T00:00:00",
          "2017-11-19T00:00:00",
          "2017-11-20T00:00:00",
          "2017-11-21T00:00:00",
          "2017-11-22T00:00:00",
          "2017-11-23T00:00:00",
          "2017-11-24T00:00:00",
          "2017-11-25T00:00:00",
          "2017-11-26T00:00:00",
          "2017-11-27T00:00:00",
          "2017-11-28T00:00:00",
          "2017-11-29T00:00:00"
         ],
         "xaxis": "x",
         "y": [
          124,
          140,
          110,
          139,
          193,
          159,
          173,
          190,
          164,
          158,
          174,
          204,
          190,
          185,
          224,
          195,
          146,
          155,
          228,
          227,
          198,
          279,
          1161,
          492,
          386,
          399,
          377,
          322
         ],
         "yaxis": "y"
        }
       ],
       "layout": {
        "legend": {
         "tracegroupgap": 0
        },
        "template": {
         "data": {
          "bar": [
           {
            "error_x": {
             "color": "#2a3f5f"
            },
            "error_y": {
             "color": "#2a3f5f"
            },
            "marker": {
             "line": {
              "color": "#E5ECF6",
              "width": 0.5
             },
             "pattern": {
              "fillmode": "overlay",
              "size": 10,
              "solidity": 0.2
             }
            },
            "type": "bar"
           }
          ],
          "barpolar": [
           {
            "marker": {
             "line": {
              "color": "#E5ECF6",
              "width": 0.5
             },
             "pattern": {
              "fillmode": "overlay",
              "size": 10,
              "solidity": 0.2
             }
            },
            "type": "barpolar"
           }
          ],
          "carpet": [
           {
            "aaxis": {
             "endlinecolor": "#2a3f5f",
             "gridcolor": "white",
             "linecolor": "white",
             "minorgridcolor": "white",
             "startlinecolor": "#2a3f5f"
            },
            "baxis": {
             "endlinecolor": "#2a3f5f",
             "gridcolor": "white",
             "linecolor": "white",
             "minorgridcolor": "white",
             "startlinecolor": "#2a3f5f"
            },
            "type": "carpet"
           }
          ],
          "choropleth": [
           {
            "colorbar": {
             "outlinewidth": 0,
             "ticks": ""
            },
            "type": "choropleth"
           }
          ],
          "contour": [
           {
            "colorbar": {
             "outlinewidth": 0,
             "ticks": ""
            },
            "colorscale": [
             [
              0,
              "#0d0887"
             ],
             [
              0.1111111111111111,
              "#46039f"
             ],
             [
              0.2222222222222222,
              "#7201a8"
             ],
             [
              0.3333333333333333,
              "#9c179e"
             ],
             [
              0.4444444444444444,
              "#bd3786"
             ],
             [
              0.5555555555555556,
              "#d8576b"
             ],
             [
              0.6666666666666666,
              "#ed7953"
             ],
             [
              0.7777777777777778,
              "#fb9f3a"
             ],
             [
              0.8888888888888888,
              "#fdca26"
             ],
             [
              1,
              "#f0f921"
             ]
            ],
            "type": "contour"
           }
          ],
          "contourcarpet": [
           {
            "colorbar": {
             "outlinewidth": 0,
             "ticks": ""
            },
            "type": "contourcarpet"
           }
          ],
          "heatmap": [
           {
            "colorbar": {
             "outlinewidth": 0,
             "ticks": ""
            },
            "colorscale": [
             [
              0,
              "#0d0887"
             ],
             [
              0.1111111111111111,
              "#46039f"
             ],
             [
              0.2222222222222222,
              "#7201a8"
             ],
             [
              0.3333333333333333,
              "#9c179e"
             ],
             [
              0.4444444444444444,
              "#bd3786"
             ],
             [
              0.5555555555555556,
              "#d8576b"
             ],
             [
              0.6666666666666666,
              "#ed7953"
             ],
             [
              0.7777777777777778,
              "#fb9f3a"
             ],
             [
              0.8888888888888888,
              "#fdca26"
             ],
             [
              1,
              "#f0f921"
             ]
            ],
            "type": "heatmap"
           }
          ],
          "heatmapgl": [
           {
            "colorbar": {
             "outlinewidth": 0,
             "ticks": ""
            },
            "colorscale": [
             [
              0,
              "#0d0887"
             ],
             [
              0.1111111111111111,
              "#46039f"
             ],
             [
              0.2222222222222222,
              "#7201a8"
             ],
             [
              0.3333333333333333,
              "#9c179e"
             ],
             [
              0.4444444444444444,
              "#bd3786"
             ],
             [
              0.5555555555555556,
              "#d8576b"
             ],
             [
              0.6666666666666666,
              "#ed7953"
             ],
             [
              0.7777777777777778,
              "#fb9f3a"
             ],
             [
              0.8888888888888888,
              "#fdca26"
             ],
             [
              1,
              "#f0f921"
             ]
            ],
            "type": "heatmapgl"
           }
          ],
          "histogram": [
           {
            "marker": {
             "pattern": {
              "fillmode": "overlay",
              "size": 10,
              "solidity": 0.2
             }
            },
            "type": "histogram"
           }
          ],
          "histogram2d": [
           {
            "colorbar": {
             "outlinewidth": 0,
             "ticks": ""
            },
            "colorscale": [
             [
              0,
              "#0d0887"
             ],
             [
              0.1111111111111111,
              "#46039f"
             ],
             [
              0.2222222222222222,
              "#7201a8"
             ],
             [
              0.3333333333333333,
              "#9c179e"
             ],
             [
              0.4444444444444444,
              "#bd3786"
             ],
             [
              0.5555555555555556,
              "#d8576b"
             ],
             [
              0.6666666666666666,
              "#ed7953"
             ],
             [
              0.7777777777777778,
              "#fb9f3a"
             ],
             [
              0.8888888888888888,
              "#fdca26"
             ],
             [
              1,
              "#f0f921"
             ]
            ],
            "type": "histogram2d"
           }
          ],
          "histogram2dcontour": [
           {
            "colorbar": {
             "outlinewidth": 0,
             "ticks": ""
            },
            "colorscale": [
             [
              0,
              "#0d0887"
             ],
             [
              0.1111111111111111,
              "#46039f"
             ],
             [
              0.2222222222222222,
              "#7201a8"
             ],
             [
              0.3333333333333333,
              "#9c179e"
             ],
             [
              0.4444444444444444,
              "#bd3786"
             ],
             [
              0.5555555555555556,
              "#d8576b"
             ],
             [
              0.6666666666666666,
              "#ed7953"
             ],
             [
              0.7777777777777778,
              "#fb9f3a"
             ],
             [
              0.8888888888888888,
              "#fdca26"
             ],
             [
              1,
              "#f0f921"
             ]
            ],
            "type": "histogram2dcontour"
           }
          ],
          "mesh3d": [
           {
            "colorbar": {
             "outlinewidth": 0,
             "ticks": ""
            },
            "type": "mesh3d"
           }
          ],
          "parcoords": [
           {
            "line": {
             "colorbar": {
              "outlinewidth": 0,
              "ticks": ""
             }
            },
            "type": "parcoords"
           }
          ],
          "pie": [
           {
            "automargin": true,
            "type": "pie"
           }
          ],
          "scatter": [
           {
            "fillpattern": {
             "fillmode": "overlay",
             "size": 10,
             "solidity": 0.2
            },
            "type": "scatter"
           }
          ],
          "scatter3d": [
           {
            "line": {
             "colorbar": {
              "outlinewidth": 0,
              "ticks": ""
             }
            },
            "marker": {
             "colorbar": {
              "outlinewidth": 0,
              "ticks": ""
             }
            },
            "type": "scatter3d"
           }
          ],
          "scattercarpet": [
           {
            "marker": {
             "colorbar": {
              "outlinewidth": 0,
              "ticks": ""
             }
            },
            "type": "scattercarpet"
           }
          ],
          "scattergeo": [
           {
            "marker": {
             "colorbar": {
              "outlinewidth": 0,
              "ticks": ""
             }
            },
            "type": "scattergeo"
           }
          ],
          "scattergl": [
           {
            "marker": {
             "colorbar": {
              "outlinewidth": 0,
              "ticks": ""
             }
            },
            "type": "scattergl"
           }
          ],
          "scattermapbox": [
           {
            "marker": {
             "colorbar": {
              "outlinewidth": 0,
              "ticks": ""
             }
            },
            "type": "scattermapbox"
           }
          ],
          "scatterpolar": [
           {
            "marker": {
             "colorbar": {
              "outlinewidth": 0,
              "ticks": ""
             }
            },
            "type": "scatterpolar"
           }
          ],
          "scatterpolargl": [
           {
            "marker": {
             "colorbar": {
              "outlinewidth": 0,
              "ticks": ""
             }
            },
            "type": "scatterpolargl"
           }
          ],
          "scatterternary": [
           {
            "marker": {
             "colorbar": {
              "outlinewidth": 0,
              "ticks": ""
             }
            },
            "type": "scatterternary"
           }
          ],
          "surface": [
           {
            "colorbar": {
             "outlinewidth": 0,
             "ticks": ""
            },
            "colorscale": [
             [
              0,
              "#0d0887"
             ],
             [
              0.1111111111111111,
              "#46039f"
             ],
             [
              0.2222222222222222,
              "#7201a8"
             ],
             [
              0.3333333333333333,
              "#9c179e"
             ],
             [
              0.4444444444444444,
              "#bd3786"
             ],
             [
              0.5555555555555556,
              "#d8576b"
             ],
             [
              0.6666666666666666,
              "#ed7953"
             ],
             [
              0.7777777777777778,
              "#fb9f3a"
             ],
             [
              0.8888888888888888,
              "#fdca26"
             ],
             [
              1,
              "#f0f921"
             ]
            ],
            "type": "surface"
           }
          ],
          "table": [
           {
            "cells": {
             "fill": {
              "color": "#EBF0F8"
             },
             "line": {
              "color": "white"
             }
            },
            "header": {
             "fill": {
              "color": "#C8D4E3"
             },
             "line": {
              "color": "white"
             }
            },
            "type": "table"
           }
          ]
         },
         "layout": {
          "annotationdefaults": {
           "arrowcolor": "#2a3f5f",
           "arrowhead": 0,
           "arrowwidth": 1
          },
          "autotypenumbers": "strict",
          "coloraxis": {
           "colorbar": {
            "outlinewidth": 0,
            "ticks": ""
           }
          },
          "colorscale": {
           "diverging": [
            [
             0,
             "#8e0152"
            ],
            [
             0.1,
             "#c51b7d"
            ],
            [
             0.2,
             "#de77ae"
            ],
            [
             0.3,
             "#f1b6da"
            ],
            [
             0.4,
             "#fde0ef"
            ],
            [
             0.5,
             "#f7f7f7"
            ],
            [
             0.6,
             "#e6f5d0"
            ],
            [
             0.7,
             "#b8e186"
            ],
            [
             0.8,
             "#7fbc41"
            ],
            [
             0.9,
             "#4d9221"
            ],
            [
             1,
             "#276419"
            ]
           ],
           "sequential": [
            [
             0,
             "#0d0887"
            ],
            [
             0.1111111111111111,
             "#46039f"
            ],
            [
             0.2222222222222222,
             "#7201a8"
            ],
            [
             0.3333333333333333,
             "#9c179e"
            ],
            [
             0.4444444444444444,
             "#bd3786"
            ],
            [
             0.5555555555555556,
             "#d8576b"
            ],
            [
             0.6666666666666666,
             "#ed7953"
            ],
            [
             0.7777777777777778,
             "#fb9f3a"
            ],
            [
             0.8888888888888888,
             "#fdca26"
            ],
            [
             1,
             "#f0f921"
            ]
           ],
           "sequentialminus": [
            [
             0,
             "#0d0887"
            ],
            [
             0.1111111111111111,
             "#46039f"
            ],
            [
             0.2222222222222222,
             "#7201a8"
            ],
            [
             0.3333333333333333,
             "#9c179e"
            ],
            [
             0.4444444444444444,
             "#bd3786"
            ],
            [
             0.5555555555555556,
             "#d8576b"
            ],
            [
             0.6666666666666666,
             "#ed7953"
            ],
            [
             0.7777777777777778,
             "#fb9f3a"
            ],
            [
             0.8888888888888888,
             "#fdca26"
            ],
            [
             1,
             "#f0f921"
            ]
           ]
          },
          "colorway": [
           "#636efa",
           "#EF553B",
           "#00cc96",
           "#ab63fa",
           "#FFA15A",
           "#19d3f3",
           "#FF6692",
           "#B6E880",
           "#FF97FF",
           "#FECB52"
          ],
          "font": {
           "color": "#2a3f5f"
          },
          "geo": {
           "bgcolor": "white",
           "lakecolor": "white",
           "landcolor": "#E5ECF6",
           "showlakes": true,
           "showland": true,
           "subunitcolor": "white"
          },
          "hoverlabel": {
           "align": "left"
          },
          "hovermode": "closest",
          "mapbox": {
           "style": "light"
          },
          "paper_bgcolor": "white",
          "plot_bgcolor": "#E5ECF6",
          "polar": {
           "angularaxis": {
            "gridcolor": "white",
            "linecolor": "white",
            "ticks": ""
           },
           "bgcolor": "#E5ECF6",
           "radialaxis": {
            "gridcolor": "white",
            "linecolor": "white",
            "ticks": ""
           }
          },
          "scene": {
           "xaxis": {
            "backgroundcolor": "#E5ECF6",
            "gridcolor": "white",
            "gridwidth": 2,
            "linecolor": "white",
            "showbackground": true,
            "ticks": "",
            "zerolinecolor": "white"
           },
           "yaxis": {
            "backgroundcolor": "#E5ECF6",
            "gridcolor": "white",
            "gridwidth": 2,
            "linecolor": "white",
            "showbackground": true,
            "ticks": "",
            "zerolinecolor": "white"
           },
           "zaxis": {
            "backgroundcolor": "#E5ECF6",
            "gridcolor": "white",
            "gridwidth": 2,
            "linecolor": "white",
            "showbackground": true,
            "ticks": "",
            "zerolinecolor": "white"
           }
          },
          "shapedefaults": {
           "line": {
            "color": "#2a3f5f"
           }
          },
          "ternary": {
           "aaxis": {
            "gridcolor": "white",
            "linecolor": "white",
            "ticks": ""
           },
           "baxis": {
            "gridcolor": "white",
            "linecolor": "white",
            "ticks": ""
           },
           "bgcolor": "#E5ECF6",
           "caxis": {
            "gridcolor": "white",
            "linecolor": "white",
            "ticks": ""
           }
          },
          "title": {
           "x": 0.05
          },
          "xaxis": {
           "automargin": true,
           "gridcolor": "white",
           "linecolor": "white",
           "ticks": "",
           "title": {
            "standoff": 15
           },
           "zerolinecolor": "white",
           "zerolinewidth": 2
          },
          "yaxis": {
           "automargin": true,
           "gridcolor": "white",
           "linecolor": "white",
           "ticks": "",
           "title": {
            "standoff": 15
           },
           "zerolinecolor": "white",
           "zerolinewidth": 2
          }
         }
        },
        "title": {
         "text": "Number of customers in November 2017"
        },
        "xaxis": {
         "anchor": "y",
         "domain": [
          0,
          1
         ],
         "title": {
          "text": "date"
         }
        },
        "yaxis": {
         "anchor": "x",
         "domain": [
          0,
          1
         ],
         "title": {
          "text": "number_of_customers"
         }
        }
       }
      }
     },
     "metadata": {},
     "output_type": "display_data"
    }
   ],
   "source": [
    "# What is happening on november 2017\n",
    "# Convert 'date' column to pd.Timestamp\n",
    "customers_by_date[\"date\"] = pd.to_datetime(customers_by_date[\"date\"])\n",
    "nov = customers_by_date.loc[\n",
    "    (customers_by_date[\"date\"] > pd.Timestamp(\"2017-11-01\"))\n",
    "    & (customers_by_date[\"date\"] < pd.Timestamp(\"2017-11-30\"))\n",
    "]\n",
    "\n",
    "# Plot the detail using plotly\n",
    "fig = px.line(nov, x=\"date\", y=\"number_of_customers\", title=\"Number of customers in November 2017\")\n",
    "fig.show()"
   ]
  },
  {
   "cell_type": "code",
   "execution_count": 30,
   "metadata": {},
   "outputs": [
    {
     "data": {
      "text/html": [
       "<div>\n",
       "<style scoped>\n",
       "    .dataframe tbody tr th:only-of-type {\n",
       "        vertical-align: middle;\n",
       "    }\n",
       "\n",
       "    .dataframe tbody tr th {\n",
       "        vertical-align: top;\n",
       "    }\n",
       "\n",
       "    .dataframe thead th {\n",
       "        text-align: right;\n",
       "    }\n",
       "</style>\n",
       "<table border=\"1\" class=\"dataframe\">\n",
       "  <thead>\n",
       "    <tr style=\"text-align: right;\">\n",
       "      <th></th>\n",
       "      <th>customer_unique_id</th>\n",
       "      <th>customer_zip_code_prefix</th>\n",
       "      <th>order_id</th>\n",
       "      <th>order_status</th>\n",
       "      <th>order_purchase_timestamp</th>\n",
       "      <th>order_approved_at</th>\n",
       "      <th>order_delivered_carrier_date</th>\n",
       "      <th>order_delivered_customer_date</th>\n",
       "      <th>order_estimated_delivery_date</th>\n",
       "      <th>processing_time</th>\n",
       "      <th>month</th>\n",
       "      <th>year</th>\n",
       "      <th>month_year</th>\n",
       "    </tr>\n",
       "  </thead>\n",
       "  <tbody>\n",
       "  </tbody>\n",
       "</table>\n",
       "</div>"
      ],
      "text/plain": [
       "Empty DataFrame\n",
       "Columns: [customer_unique_id, customer_zip_code_prefix, order_id, order_status, order_purchase_timestamp, order_approved_at, order_delivered_carrier_date, order_delivered_customer_date, order_estimated_delivery_date, processing_time, month, year, month_year]\n",
       "Index: []"
      ]
     },
     "execution_count": 30,
     "metadata": {},
     "output_type": "execute_result"
    }
   ],
   "source": [
    "# count unique customers on  24th november 2017\n",
    "nov_24 = df_orders.loc[df_orders[\"order_purchase_timestamp\"].dt.date == pd.Timestamp(\"2017-11-24\")]\n",
    "nov_24"
   ]
  },
  {
   "cell_type": "markdown",
   "metadata": {},
   "source": [
    "#### Processing time"
   ]
  },
  {
   "cell_type": "code",
   "execution_count": 15,
   "metadata": {},
   "outputs": [
    {
     "name": "stdout",
     "output_type": "stream",
     "text": [
      "The average processing time is 12.09 days\n"
     ]
    }
   ],
   "source": [
    "# Get the processing time of the orders\n",
    "df_orders[\"order_purchase_timestamp\"] = pd.to_datetime(df_orders[\"order_purchase_timestamp\"])\n",
    "df_orders[\"order_delivered_customer_date\"] = pd.to_datetime(df_orders[\"order_delivered_customer_date\"])\n",
    "df_orders[\"processing_time\"] = df_orders[\"order_delivered_customer_date\"] - df_orders[\"order_purchase_timestamp\"]\n",
    "df_orders[\"processing_time\"] = df_orders[\"processing_time\"].dt.days\n",
    "\n",
    "# get the average processing time\n",
    "average_processing_time = df_orders[\"processing_time\"].mean()\n",
    "print(f\"The average processing time is {round(average_processing_time, 2)} days\")"
   ]
  },
  {
   "cell_type": "markdown",
   "metadata": {},
   "source": [
    "#### Deliveries ( using SQL query to transform data)"
   ]
  },
  {
   "cell_type": "code",
   "execution_count": null,
   "metadata": {},
   "outputs": [],
   "source": [
    "late_orders_query = \"\"\"\n",
    "    SELECT\n",
    "        order_id,\n",
    "        customer_id,\n",
    "        order_purchase_timestamp,\n",
    "        order_delivered_customer_date,\n",
    "        order_estimated_delivery_date,\n",
    "        julianday(order_delivered_customer_date) - julianday(order_estimated_delivery_date) as delay\n",
    "    FROM orders\n",
    "    WHERE order_status = 'delivered'\n",
    "        AND order_delivered_customer_date IS NOT NULL\n",
    "        AND order_status != 'canceled'\n",
    "        -- Select recent orders (past 3 months)\n",
    "        AND julianday(\n",
    "            (SELECT MAX(order_purchase_timestamp) FROM orders)\n",
    "        ) - julianday(order_purchase_timestamp) <= 90\n",
    "        AND (julianday(order_delivered_customer_date) - julianday(order_estimated_delivery_date)) >= 2\n",
    "    ORDER BY order_purchase_timestamp DESC\n",
    "\"\"\"\n",
    "\n",
    "df_late_orders = pd.read_sql_query(late_orders_query, connection)"
   ]
  },
  {
   "cell_type": "code",
   "execution_count": 16,
   "metadata": {},
   "outputs": [],
   "source": [
    "df_late_orders[\"order_purchase_timestamp\"] = pd.to_datetime(df_late_orders[\"order_purchase_timestamp\"])\n",
    "df_late_orders[\"order_delivered_customer_date\"] = pd.to_datetime(df_late_orders[\"order_delivered_customer_date\"])\n",
    "df_late_orders[\"order_estimated_delivery_date\"] = pd.to_datetime(df_late_orders[\"order_estimated_delivery_date\"])"
   ]
  },
  {
   "cell_type": "code",
   "execution_count": null,
   "metadata": {},
   "outputs": [
    {
     "data": {
      "application/vnd.plotly.v1+json": {
       "config": {
        "plotlyServerURL": "https://plotly.com"
       },
       "data": [
        {
         "alignmentgroup": "True",
         "bingroup": "x",
         "hovertemplate": "delay=%{x}<br>count=%{y}<extra></extra>",
         "legendgroup": "",
         "marker": {
          "color": "#636efa",
          "pattern": {
           "shape": ""
          }
         },
         "name": "",
         "nbinsx": 10,
         "offsetgroup": "",
         "orientation": "v",
         "showlegend": false,
         "texttemplate": "%{value}",
         "type": "histogram",
         "x": [
          5.763067129533738,
          5.721319444477558,
          2.6890162038616836,
          2.825428240932524,
          3.7046874999068677,
          2.853460648097098,
          3.751608796417713,
          7.871967592742294,
          13.943553240969777,
          4.828275463078171,
          8.612476851791143,
          2.957557870540768,
          3.6682638889178634,
          7.694861111231148,
          3.748912036884576,
          3.6687731482088566,
          11.061631944496185,
          5.734375,
          2.6509374999441206,
          4.9109490741975605,
          7.890775463078171,
          6.755925925914198,
          3.0026504630222917,
          2.672650462947786,
          5.859409722033888,
          2.4350115740671754,
          7.070613426156342,
          2.102349536959082,
          7.772349536884576,
          2.6144212963990867,
          11.796469907276332,
          3.47210648143664,
          7.59643518505618,
          7.883310185279697,
          12.650567129720002,
          2.7293518516235054,
          16.808738425839692,
          3.8879398149438202,
          12.91934027755633,
          4.751990740653127,
          7.814999999944121,
          5.0136226853355765,
          2.8586805555969477,
          13.897928240709007,
          2.874016203917563,
          18.02608796302229,
          3.8600347223691642,
          7.931956018321216,
          3.6018287036567926,
          9.760208333376795,
          3.474837963003665,
          2.69564814819023,
          2.8070023148320615,
          8.950416666455567,
          3.7698032408952713,
          8.548298611305654,
          11.838171296287328,
          10.096331018488854,
          3.0636689816601574,
          2.619756944477558,
          2.9195601851679385,
          2.0339004630222917,
          7.575706018600613,
          3.8103125002235174,
          4.025486111175269,
          3.84634259250015,
          3.903240740764886,
          2.4850578703917563,
          2.84820601856336,
          2.0147453704848886,
          12.137986110989004,
          7.7186689814552665,
          14.706203703768551,
          8.943611111026257,
          6.839317129459232,
          15.998923610895872,
          6.397581018507481,
          3.7072222223505378,
          8.78915509255603,
          6.679513888899237,
          15.844189814757556,
          3.619594907388091,
          4.033217592630535,
          3.936377314850688,
          4.990000000223517,
          2.84902777755633,
          3.740868055727333,
          9.89263888867572,
          5.571180555503815,
          5.122453703545034,
          6.596238425932825,
          7.836377314757556,
          2.01006944430992,
          18.862013889010996,
          7.478344907518476,
          3.953287037089467,
          4.763206018600613,
          3.0499768517911434,
          5.924872685223818,
          2.8726504631340504,
          6.77914351830259,
          5.825428240932524,
          7.546365740709007,
          2.8063888889737427,
          2.8880092594772577,
          6.837349536828697,
          3.066493055783212,
          8.90390046313405,
          3.931747685186565,
          5.835127315018326,
          3.8351041665300727,
          3.764710647985339,
          6.790810185018927,
          6.924872685223818,
          4.653541666455567,
          3.86944444430992,
          2.065810185391456,
          4.947106481529772,
          3.5603472222574055,
          2.0638425927609205,
          7.846111111342907,
          2.8122337963432074,
          8.756886573974043,
          2.790821759030223,
          6.903877314645797,
          4.730289351660758,
          3.5338773149996996,
          2.7255671294406056,
          7.7198032406158745,
          7.7553587961010635,
          3.4559259261004627,
          2.700717592611909,
          2.731041666585952,
          2.693576388992369,
          8.853101851884276,
          4.051157407462597,
          6.8116087964735925,
          4.018391203600913,
          5.863634259440005,
          2.867199074011296,
          3.971331018488854,
          4.743981481529772,
          3.6838657408952713,
          2.9782291664741933,
          3.1057407408952713,
          4.985150462947786,
          4.996111111249775,
          5.5243171295151114,
          3.8621412036009133,
          3.6520138890482485,
          6.491400463040918,
          3.6603472223505378,
          5.0324074071832,
          6.044097222387791,
          4.644965277984738,
          2.8019328704103827,
          2.0240393518470228,
          6.903969907201827,
          10.644861110951751,
          6.06872685207054,
          15.110196759458631,
          4.650624999776483,
          3.765798611100763,
          5.726956018712372,
          7.087870370596647,
          7.02865740749985,
          4.661620370578021,
          4.728113425895572,
          4.062384259421378,
          33.69773148139939,
          4.990219907369465,
          4.678831018507481,
          4.70135416649282,
          8.758043981622905,
          5.7076736111193895,
          12.030416666530073,
          4.813043981324881,
          4.841041666455567,
          3.6781365741044283,
          7.788715277798474,
          2.803414351772517,
          5.76519675925374,
          2.758587962947786,
          6.029733796138316,
          6.002442129421979,
          2.6767476852983236,
          4.044120370410383,
          2.4804861112497747,
          4.00824074074626,
          8.575601852033287,
          2.8533796295523643,
          36.03292824095115,
          4.96692129643634,
          2.6226967591792345,
          3.768495370168239,
          14.897939814720303,
          6.730497685261071,
          2.612569444347173,
          5.591250000055879,
          9.84222222212702,
          4.700543981511146,
          4.688923611305654,
          2.9325000001117587,
          18.79131944430992,
          4.450486110989004,
          10.714374999981374,
          4.512407407630235,
          8.075486110989004,
          11.710624999832362,
          7.815543981269002,
          2.8025115742348135,
          20.64206018531695,
          8.763240740634501,
          4.631215277593583,
          5.071793981362134,
          13.984537037089467,
          8.88998842611909,
          3.981180555652827,
          4.765729166567326,
          3.639837963040918,
          4.718449073843658,
          9.003495370503515,
          4.947812499944121,
          2.762905092444271,
          5.043402777984738,
          17.952048610895872,
          5.6998379630967975,
          2.9503356483764946,
          12.740717592649162,
          9.01293981494382,
          8.531018518377095,
          5.699259259272367,
          4.68682870361954,
          8.8555902778171,
          9.00445601856336,
          2.9532060185447335,
          5.697708333376795,
          6.1026157406158745,
          3.654988425783813,
          3.5027662036009133,
          3.963009259197861,
          21.97115740738809,
          4.992222222033888,
          2.0498263887129724,
          5.002384259365499,
          5.019895833451301,
          3.1094328705221415,
          5.871192129794508,
          5.704525462817401,
          3.762303240597248,
          4.841516203712672,
          2.0022916668094695,
          5.745092592667788,
          8.554699074011296,
          2.683032407425344,
          4.716805555392057,
          18.828993055503815,
          3.9143055556342006,
          3.681898148264736,
          8.008564814925194,
          7.735173610970378,
          2.9476504628546536,
          4.6752893519587815,
          5.6602777778171,
          6.752662037033588,
          4.992175925988704,
          5.846331018488854,
          8.77237268537283,
          7.663680555764586,
          5.664421296212822,
          5.896689814981073,
          9.768263889010996,
          4.855474537238479,
          5.685937500093132,
          7.0142939812503755,
          2.8116087964735925,
          2.03796296287328,
          29.663217592518777,
          5.637835648376495,
          3.9393518520519137,
          16.925393518526107,
          2.9659837963990867,
          2.6032523149624467,
          6.0379050928168,
          5.864513888955116,
          6.855474537238479,
          3.477500000037253,
          7.6450115740299225,
          5.568344907369465,
          2.699317129794508,
          2.8156249998137355,
          2.6099652778357267,
          5.578240740578622,
          14.567847222089767,
          7.057268518488854,
          3.4407986109144986,
          3.5603819442912936,
          4.762916666455567,
          6.047164351679385,
          9.740914351772517,
          4.813182870391756,
          7.8558101849630475,
          3.589421296492219,
          13.754606481641531,
          3.1017824076116085,
          4.994236111175269,
          8.009560185018927,
          7.856157407630235,
          3.4962268518283963,
          3.676701388787478,
          5.022465277928859,
          12.872615740634501,
          5.91296296287328,
          7.854930555447936,
          5.911701388657093,
          5.046863425988704,
          6.693356481380761,
          5.995034722145647,
          2.5438194442540407,
          4.5399537035264075,
          8.643506944645196,
          2.0616550925187767,
          3.9991319444961846,
          49.013078703545034,
          7.86987268505618,
          6.6729282406158745,
          2.7214351850561798,
          23.890590277966112,
          12.023888888768852,
          16.64081018511206,
          4.557303240522742,
          2.737581018358469,
          19.60864583356306,
          4.75881944457069,
          7.049513889010996,
          32.71619212953374,
          3.8206018516793847,
          6.696238426025957,
          2.8691898146644235,
          12.494594907388091,
          5.623495370149612,
          7.592974537052214,
          7.538090277928859,
          38.6091319443658,
          17.486956018488854,
          12.744224537163973,
          2.4548148149624467,
          11.672905092593282,
          12.981400462798774,
          8.762835648376495,
          10.057476851623505,
          7.8200810183770955,
          4.7232870371080935,
          8.594340277835727,
          2.7672685184516013,
          9.013541666790843,
          7.990671296138316,
          38.67260416643694,
          5.010219907388091,
          3.4191087963990867,
          3.942870370578021,
          6.926817129831761,
          41.10038194432855,
          4.505138888955116,
          4.320520833134651,
          2.961712962947786,
          4.824826389085501,
          12.64373842580244,
          18.021782407537103,
          3.7803935185074806,
          4.932199073955417,
          32.5757407406345,
          7.634942129720002,
          6.902187500149012,
          3.8880208334885538
         ],
         "xaxis": "x",
         "yaxis": "y"
        }
       ],
       "layout": {
        "barmode": "relative",
        "legend": {
         "tracegroupgap": 0
        },
        "template": {
         "data": {
          "bar": [
           {
            "error_x": {
             "color": "#2a3f5f"
            },
            "error_y": {
             "color": "#2a3f5f"
            },
            "marker": {
             "line": {
              "color": "#E5ECF6",
              "width": 0.5
             },
             "pattern": {
              "fillmode": "overlay",
              "size": 10,
              "solidity": 0.2
             }
            },
            "type": "bar"
           }
          ],
          "barpolar": [
           {
            "marker": {
             "line": {
              "color": "#E5ECF6",
              "width": 0.5
             },
             "pattern": {
              "fillmode": "overlay",
              "size": 10,
              "solidity": 0.2
             }
            },
            "type": "barpolar"
           }
          ],
          "carpet": [
           {
            "aaxis": {
             "endlinecolor": "#2a3f5f",
             "gridcolor": "white",
             "linecolor": "white",
             "minorgridcolor": "white",
             "startlinecolor": "#2a3f5f"
            },
            "baxis": {
             "endlinecolor": "#2a3f5f",
             "gridcolor": "white",
             "linecolor": "white",
             "minorgridcolor": "white",
             "startlinecolor": "#2a3f5f"
            },
            "type": "carpet"
           }
          ],
          "choropleth": [
           {
            "colorbar": {
             "outlinewidth": 0,
             "ticks": ""
            },
            "type": "choropleth"
           }
          ],
          "contour": [
           {
            "colorbar": {
             "outlinewidth": 0,
             "ticks": ""
            },
            "colorscale": [
             [
              0,
              "#0d0887"
             ],
             [
              0.1111111111111111,
              "#46039f"
             ],
             [
              0.2222222222222222,
              "#7201a8"
             ],
             [
              0.3333333333333333,
              "#9c179e"
             ],
             [
              0.4444444444444444,
              "#bd3786"
             ],
             [
              0.5555555555555556,
              "#d8576b"
             ],
             [
              0.6666666666666666,
              "#ed7953"
             ],
             [
              0.7777777777777778,
              "#fb9f3a"
             ],
             [
              0.8888888888888888,
              "#fdca26"
             ],
             [
              1,
              "#f0f921"
             ]
            ],
            "type": "contour"
           }
          ],
          "contourcarpet": [
           {
            "colorbar": {
             "outlinewidth": 0,
             "ticks": ""
            },
            "type": "contourcarpet"
           }
          ],
          "heatmap": [
           {
            "colorbar": {
             "outlinewidth": 0,
             "ticks": ""
            },
            "colorscale": [
             [
              0,
              "#0d0887"
             ],
             [
              0.1111111111111111,
              "#46039f"
             ],
             [
              0.2222222222222222,
              "#7201a8"
             ],
             [
              0.3333333333333333,
              "#9c179e"
             ],
             [
              0.4444444444444444,
              "#bd3786"
             ],
             [
              0.5555555555555556,
              "#d8576b"
             ],
             [
              0.6666666666666666,
              "#ed7953"
             ],
             [
              0.7777777777777778,
              "#fb9f3a"
             ],
             [
              0.8888888888888888,
              "#fdca26"
             ],
             [
              1,
              "#f0f921"
             ]
            ],
            "type": "heatmap"
           }
          ],
          "heatmapgl": [
           {
            "colorbar": {
             "outlinewidth": 0,
             "ticks": ""
            },
            "colorscale": [
             [
              0,
              "#0d0887"
             ],
             [
              0.1111111111111111,
              "#46039f"
             ],
             [
              0.2222222222222222,
              "#7201a8"
             ],
             [
              0.3333333333333333,
              "#9c179e"
             ],
             [
              0.4444444444444444,
              "#bd3786"
             ],
             [
              0.5555555555555556,
              "#d8576b"
             ],
             [
              0.6666666666666666,
              "#ed7953"
             ],
             [
              0.7777777777777778,
              "#fb9f3a"
             ],
             [
              0.8888888888888888,
              "#fdca26"
             ],
             [
              1,
              "#f0f921"
             ]
            ],
            "type": "heatmapgl"
           }
          ],
          "histogram": [
           {
            "marker": {
             "pattern": {
              "fillmode": "overlay",
              "size": 10,
              "solidity": 0.2
             }
            },
            "type": "histogram"
           }
          ],
          "histogram2d": [
           {
            "colorbar": {
             "outlinewidth": 0,
             "ticks": ""
            },
            "colorscale": [
             [
              0,
              "#0d0887"
             ],
             [
              0.1111111111111111,
              "#46039f"
             ],
             [
              0.2222222222222222,
              "#7201a8"
             ],
             [
              0.3333333333333333,
              "#9c179e"
             ],
             [
              0.4444444444444444,
              "#bd3786"
             ],
             [
              0.5555555555555556,
              "#d8576b"
             ],
             [
              0.6666666666666666,
              "#ed7953"
             ],
             [
              0.7777777777777778,
              "#fb9f3a"
             ],
             [
              0.8888888888888888,
              "#fdca26"
             ],
             [
              1,
              "#f0f921"
             ]
            ],
            "type": "histogram2d"
           }
          ],
          "histogram2dcontour": [
           {
            "colorbar": {
             "outlinewidth": 0,
             "ticks": ""
            },
            "colorscale": [
             [
              0,
              "#0d0887"
             ],
             [
              0.1111111111111111,
              "#46039f"
             ],
             [
              0.2222222222222222,
              "#7201a8"
             ],
             [
              0.3333333333333333,
              "#9c179e"
             ],
             [
              0.4444444444444444,
              "#bd3786"
             ],
             [
              0.5555555555555556,
              "#d8576b"
             ],
             [
              0.6666666666666666,
              "#ed7953"
             ],
             [
              0.7777777777777778,
              "#fb9f3a"
             ],
             [
              0.8888888888888888,
              "#fdca26"
             ],
             [
              1,
              "#f0f921"
             ]
            ],
            "type": "histogram2dcontour"
           }
          ],
          "mesh3d": [
           {
            "colorbar": {
             "outlinewidth": 0,
             "ticks": ""
            },
            "type": "mesh3d"
           }
          ],
          "parcoords": [
           {
            "line": {
             "colorbar": {
              "outlinewidth": 0,
              "ticks": ""
             }
            },
            "type": "parcoords"
           }
          ],
          "pie": [
           {
            "automargin": true,
            "type": "pie"
           }
          ],
          "scatter": [
           {
            "fillpattern": {
             "fillmode": "overlay",
             "size": 10,
             "solidity": 0.2
            },
            "type": "scatter"
           }
          ],
          "scatter3d": [
           {
            "line": {
             "colorbar": {
              "outlinewidth": 0,
              "ticks": ""
             }
            },
            "marker": {
             "colorbar": {
              "outlinewidth": 0,
              "ticks": ""
             }
            },
            "type": "scatter3d"
           }
          ],
          "scattercarpet": [
           {
            "marker": {
             "colorbar": {
              "outlinewidth": 0,
              "ticks": ""
             }
            },
            "type": "scattercarpet"
           }
          ],
          "scattergeo": [
           {
            "marker": {
             "colorbar": {
              "outlinewidth": 0,
              "ticks": ""
             }
            },
            "type": "scattergeo"
           }
          ],
          "scattergl": [
           {
            "marker": {
             "colorbar": {
              "outlinewidth": 0,
              "ticks": ""
             }
            },
            "type": "scattergl"
           }
          ],
          "scattermapbox": [
           {
            "marker": {
             "colorbar": {
              "outlinewidth": 0,
              "ticks": ""
             }
            },
            "type": "scattermapbox"
           }
          ],
          "scatterpolar": [
           {
            "marker": {
             "colorbar": {
              "outlinewidth": 0,
              "ticks": ""
             }
            },
            "type": "scatterpolar"
           }
          ],
          "scatterpolargl": [
           {
            "marker": {
             "colorbar": {
              "outlinewidth": 0,
              "ticks": ""
             }
            },
            "type": "scatterpolargl"
           }
          ],
          "scatterternary": [
           {
            "marker": {
             "colorbar": {
              "outlinewidth": 0,
              "ticks": ""
             }
            },
            "type": "scatterternary"
           }
          ],
          "surface": [
           {
            "colorbar": {
             "outlinewidth": 0,
             "ticks": ""
            },
            "colorscale": [
             [
              0,
              "#0d0887"
             ],
             [
              0.1111111111111111,
              "#46039f"
             ],
             [
              0.2222222222222222,
              "#7201a8"
             ],
             [
              0.3333333333333333,
              "#9c179e"
             ],
             [
              0.4444444444444444,
              "#bd3786"
             ],
             [
              0.5555555555555556,
              "#d8576b"
             ],
             [
              0.6666666666666666,
              "#ed7953"
             ],
             [
              0.7777777777777778,
              "#fb9f3a"
             ],
             [
              0.8888888888888888,
              "#fdca26"
             ],
             [
              1,
              "#f0f921"
             ]
            ],
            "type": "surface"
           }
          ],
          "table": [
           {
            "cells": {
             "fill": {
              "color": "#EBF0F8"
             },
             "line": {
              "color": "white"
             }
            },
            "header": {
             "fill": {
              "color": "#C8D4E3"
             },
             "line": {
              "color": "white"
             }
            },
            "type": "table"
           }
          ]
         },
         "layout": {
          "annotationdefaults": {
           "arrowcolor": "#2a3f5f",
           "arrowhead": 0,
           "arrowwidth": 1
          },
          "autotypenumbers": "strict",
          "coloraxis": {
           "colorbar": {
            "outlinewidth": 0,
            "ticks": ""
           }
          },
          "colorscale": {
           "diverging": [
            [
             0,
             "#8e0152"
            ],
            [
             0.1,
             "#c51b7d"
            ],
            [
             0.2,
             "#de77ae"
            ],
            [
             0.3,
             "#f1b6da"
            ],
            [
             0.4,
             "#fde0ef"
            ],
            [
             0.5,
             "#f7f7f7"
            ],
            [
             0.6,
             "#e6f5d0"
            ],
            [
             0.7,
             "#b8e186"
            ],
            [
             0.8,
             "#7fbc41"
            ],
            [
             0.9,
             "#4d9221"
            ],
            [
             1,
             "#276419"
            ]
           ],
           "sequential": [
            [
             0,
             "#0d0887"
            ],
            [
             0.1111111111111111,
             "#46039f"
            ],
            [
             0.2222222222222222,
             "#7201a8"
            ],
            [
             0.3333333333333333,
             "#9c179e"
            ],
            [
             0.4444444444444444,
             "#bd3786"
            ],
            [
             0.5555555555555556,
             "#d8576b"
            ],
            [
             0.6666666666666666,
             "#ed7953"
            ],
            [
             0.7777777777777778,
             "#fb9f3a"
            ],
            [
             0.8888888888888888,
             "#fdca26"
            ],
            [
             1,
             "#f0f921"
            ]
           ],
           "sequentialminus": [
            [
             0,
             "#0d0887"
            ],
            [
             0.1111111111111111,
             "#46039f"
            ],
            [
             0.2222222222222222,
             "#7201a8"
            ],
            [
             0.3333333333333333,
             "#9c179e"
            ],
            [
             0.4444444444444444,
             "#bd3786"
            ],
            [
             0.5555555555555556,
             "#d8576b"
            ],
            [
             0.6666666666666666,
             "#ed7953"
            ],
            [
             0.7777777777777778,
             "#fb9f3a"
            ],
            [
             0.8888888888888888,
             "#fdca26"
            ],
            [
             1,
             "#f0f921"
            ]
           ]
          },
          "colorway": [
           "#636efa",
           "#EF553B",
           "#00cc96",
           "#ab63fa",
           "#FFA15A",
           "#19d3f3",
           "#FF6692",
           "#B6E880",
           "#FF97FF",
           "#FECB52"
          ],
          "font": {
           "color": "#2a3f5f"
          },
          "geo": {
           "bgcolor": "white",
           "lakecolor": "white",
           "landcolor": "#E5ECF6",
           "showlakes": true,
           "showland": true,
           "subunitcolor": "white"
          },
          "hoverlabel": {
           "align": "left"
          },
          "hovermode": "closest",
          "mapbox": {
           "style": "light"
          },
          "paper_bgcolor": "white",
          "plot_bgcolor": "#E5ECF6",
          "polar": {
           "angularaxis": {
            "gridcolor": "white",
            "linecolor": "white",
            "ticks": ""
           },
           "bgcolor": "#E5ECF6",
           "radialaxis": {
            "gridcolor": "white",
            "linecolor": "white",
            "ticks": ""
           }
          },
          "scene": {
           "xaxis": {
            "backgroundcolor": "#E5ECF6",
            "gridcolor": "white",
            "gridwidth": 2,
            "linecolor": "white",
            "showbackground": true,
            "ticks": "",
            "zerolinecolor": "white"
           },
           "yaxis": {
            "backgroundcolor": "#E5ECF6",
            "gridcolor": "white",
            "gridwidth": 2,
            "linecolor": "white",
            "showbackground": true,
            "ticks": "",
            "zerolinecolor": "white"
           },
           "zaxis": {
            "backgroundcolor": "#E5ECF6",
            "gridcolor": "white",
            "gridwidth": 2,
            "linecolor": "white",
            "showbackground": true,
            "ticks": "",
            "zerolinecolor": "white"
           }
          },
          "shapedefaults": {
           "line": {
            "color": "#2a3f5f"
           }
          },
          "ternary": {
           "aaxis": {
            "gridcolor": "white",
            "linecolor": "white",
            "ticks": ""
           },
           "baxis": {
            "gridcolor": "white",
            "linecolor": "white",
            "ticks": ""
           },
           "bgcolor": "#E5ECF6",
           "caxis": {
            "gridcolor": "white",
            "linecolor": "white",
            "ticks": ""
           }
          },
          "title": {
           "x": 0.05
          },
          "xaxis": {
           "automargin": true,
           "gridcolor": "white",
           "linecolor": "white",
           "ticks": "",
           "title": {
            "standoff": 15
           },
           "zerolinecolor": "white",
           "zerolinewidth": 2
          },
          "yaxis": {
           "automargin": true,
           "gridcolor": "white",
           "linecolor": "white",
           "ticks": "",
           "title": {
            "standoff": 15
           },
           "zerolinecolor": "white",
           "zerolinewidth": 2
          }
         }
        },
        "title": {
         "text": "Distribution of delays in delivery in days"
        },
        "xaxis": {
         "anchor": "y",
         "domain": [
          0,
          1
         ],
         "title": {
          "text": "Delay in days"
         }
        },
        "yaxis": {
         "anchor": "x",
         "domain": [
          0,
          1
         ],
         "title": {
          "text": "Number of orders"
         }
        }
       }
      }
     },
     "metadata": {},
     "output_type": "display_data"
    }
   ],
   "source": [
    "fig = px.histogram(df_late_orders, x=\"delay\", title=\"Distribution of delays in delivery in days\", nbins=10, text_auto=True)\n",
    "fig.update_layout(\n",
    "    xaxis_title=\"Delay in days\",\n",
    "    yaxis_title=\"Number of orders\",\n",
    ")\n",
    "fig.show()"
   ]
  },
  {
   "cell_type": "markdown",
   "metadata": {},
   "source": [
    "### Orders frequency."
   ]
  },
  {
   "cell_type": "markdown",
   "metadata": {},
   "source": [
    "Back to our previously queried dataframe"
   ]
  },
  {
   "cell_type": "code",
   "execution_count": 18,
   "metadata": {},
   "outputs": [
    {
     "data": {
      "text/html": [
       "<div>\n",
       "<style scoped>\n",
       "    .dataframe tbody tr th:only-of-type {\n",
       "        vertical-align: middle;\n",
       "    }\n",
       "\n",
       "    .dataframe tbody tr th {\n",
       "        vertical-align: top;\n",
       "    }\n",
       "\n",
       "    .dataframe thead th {\n",
       "        text-align: right;\n",
       "    }\n",
       "</style>\n",
       "<table border=\"1\" class=\"dataframe\">\n",
       "  <thead>\n",
       "    <tr style=\"text-align: right;\">\n",
       "      <th></th>\n",
       "      <th>customer_unique_id</th>\n",
       "      <th>last_order_date</th>\n",
       "      <th>total_orders</th>\n",
       "      <th>average_days_between_orders</th>\n",
       "    </tr>\n",
       "  </thead>\n",
       "  <tbody>\n",
       "    <tr>\n",
       "      <th>33</th>\n",
       "      <td>00172711b30d52eea8b313a7f2cced02</td>\n",
       "      <td>2018-08-13 09:14:07</td>\n",
       "      <td>2</td>\n",
       "      <td>8.0</td>\n",
       "    </tr>\n",
       "    <tr>\n",
       "      <th>106</th>\n",
       "      <td>004288347e5e88a27ded2bb23747066c</td>\n",
       "      <td>2018-01-14 07:36:54</td>\n",
       "      <td>2</td>\n",
       "      <td>85.0</td>\n",
       "    </tr>\n",
       "    <tr>\n",
       "      <th>124</th>\n",
       "      <td>004b45ec5c64187465168251cd1c9c2f</td>\n",
       "      <td>2018-05-26 19:42:48</td>\n",
       "      <td>2</td>\n",
       "      <td>133.5</td>\n",
       "    </tr>\n",
       "    <tr>\n",
       "      <th>144</th>\n",
       "      <td>0058f300f57d7b93c477a131a59b36c3</td>\n",
       "      <td>2018-03-22 18:09:41</td>\n",
       "      <td>2</td>\n",
       "      <td>15.5</td>\n",
       "    </tr>\n",
       "    <tr>\n",
       "      <th>249</th>\n",
       "      <td>00a39521eb40f7012db50455bf083460</td>\n",
       "      <td>2018-06-03 10:12:57</td>\n",
       "      <td>2</td>\n",
       "      <td>5.0</td>\n",
       "    </tr>\n",
       "  </tbody>\n",
       "</table>\n",
       "</div>"
      ],
      "text/plain": [
       "                   customer_unique_id     last_order_date  total_orders  \\\n",
       "33   00172711b30d52eea8b313a7f2cced02 2018-08-13 09:14:07             2   \n",
       "106  004288347e5e88a27ded2bb23747066c 2018-01-14 07:36:54             2   \n",
       "124  004b45ec5c64187465168251cd1c9c2f 2018-05-26 19:42:48             2   \n",
       "144  0058f300f57d7b93c477a131a59b36c3 2018-03-22 18:09:41             2   \n",
       "249  00a39521eb40f7012db50455bf083460 2018-06-03 10:12:57             2   \n",
       "\n",
       "     average_days_between_orders  \n",
       "33                           8.0  \n",
       "106                         85.0  \n",
       "124                        133.5  \n",
       "144                         15.5  \n",
       "249                          5.0  "
      ]
     },
     "execution_count": 18,
     "metadata": {},
     "output_type": "execute_result"
    }
   ],
   "source": [
    "# For the customers with more than one order, get the number of days between an order and the previous one for each customer. The first order should be considered as 0\n",
    "df_orders = df_orders.sort_values(by=[\"customer_unique_id\", \"order_purchase_timestamp\"])\n",
    "df_grouped = df_orders.groupby(\"customer_unique_id\")\n",
    "\n",
    "result = df_grouped.agg(\n",
    "    last_order_date=(\"order_purchase_timestamp\", \"max\"),\n",
    "    total_orders=(\"order_id\", \"count\"),\n",
    ")\n",
    "\n",
    "# Average days between orders\n",
    "df_orders[\"days_between_orders\"] = (\n",
    "    df_grouped[\"order_purchase_timestamp\"].diff().dt.days.fillna(0).fillna(0)\n",
    ")\n",
    "average_days_between_orders = df_orders.groupby(\"customer_unique_id\")[\"days_between_orders\"].mean().fillna(0)\n",
    "\n",
    "# Add average to results\n",
    "result[\"average_days_between_orders\"] = average_days_between_orders\n",
    "\n",
    "# Merge column order_id back to the results\n",
    "# result = result.merge(df_orders[[\"customer_unique_id\", \"order_id\"]], how=\"left\", on=\"customer_unique_id\")\n",
    "\n",
    "result = result.reset_index()\n",
    "\n",
    "result.loc[result[\"total_orders\"] > 1].head()"
   ]
  },
  {
   "cell_type": "code",
   "execution_count": 19,
   "metadata": {},
   "outputs": [
    {
     "data": {
      "text/html": [
       "<div>\n",
       "<style scoped>\n",
       "    .dataframe tbody tr th:only-of-type {\n",
       "        vertical-align: middle;\n",
       "    }\n",
       "\n",
       "    .dataframe tbody tr th {\n",
       "        vertical-align: top;\n",
       "    }\n",
       "\n",
       "    .dataframe thead th {\n",
       "        text-align: right;\n",
       "    }\n",
       "</style>\n",
       "<table border=\"1\" class=\"dataframe\">\n",
       "  <thead>\n",
       "    <tr style=\"text-align: right;\">\n",
       "      <th></th>\n",
       "      <th>customer_unique_id</th>\n",
       "      <th>customer_zip_code_prefix</th>\n",
       "      <th>order_id</th>\n",
       "      <th>order_status</th>\n",
       "      <th>order_purchase_timestamp</th>\n",
       "      <th>order_approved_at</th>\n",
       "      <th>order_delivered_carrier_date</th>\n",
       "      <th>order_delivered_customer_date</th>\n",
       "      <th>order_estimated_delivery_date</th>\n",
       "      <th>processing_time</th>\n",
       "      <th>days_between_orders</th>\n",
       "    </tr>\n",
       "  </thead>\n",
       "  <tbody>\n",
       "    <tr>\n",
       "      <th>19299</th>\n",
       "      <td>00172711b30d52eea8b313a7f2cced02</td>\n",
       "      <td>45200</td>\n",
       "      <td>bb874c45df1a3c97842d52f31efee99a</td>\n",
       "      <td>delivered</td>\n",
       "      <td>2018-07-28 00:23:49</td>\n",
       "      <td>2018-07-28 00:35:19</td>\n",
       "      <td>2018-07-31 15:57:00</td>\n",
       "      <td>2018-08-07 19:28:41</td>\n",
       "      <td>2018-08-22 00:00:00</td>\n",
       "      <td>10.0</td>\n",
       "      <td>0.0</td>\n",
       "    </tr>\n",
       "    <tr>\n",
       "      <th>35608</th>\n",
       "      <td>00172711b30d52eea8b313a7f2cced02</td>\n",
       "      <td>45200</td>\n",
       "      <td>c306eca42d32507b970739b5b6a5a33a</td>\n",
       "      <td>canceled</td>\n",
       "      <td>2018-08-13 09:14:07</td>\n",
       "      <td>None</td>\n",
       "      <td>None</td>\n",
       "      <td>NaT</td>\n",
       "      <td>2018-09-05 00:00:00</td>\n",
       "      <td>NaN</td>\n",
       "      <td>16.0</td>\n",
       "    </tr>\n",
       "  </tbody>\n",
       "</table>\n",
       "</div>"
      ],
      "text/plain": [
       "                     customer_unique_id  customer_zip_code_prefix  \\\n",
       "19299  00172711b30d52eea8b313a7f2cced02                     45200   \n",
       "35608  00172711b30d52eea8b313a7f2cced02                     45200   \n",
       "\n",
       "                               order_id order_status order_purchase_timestamp  \\\n",
       "19299  bb874c45df1a3c97842d52f31efee99a    delivered      2018-07-28 00:23:49   \n",
       "35608  c306eca42d32507b970739b5b6a5a33a     canceled      2018-08-13 09:14:07   \n",
       "\n",
       "         order_approved_at order_delivered_carrier_date  \\\n",
       "19299  2018-07-28 00:35:19          2018-07-31 15:57:00   \n",
       "35608                 None                         None   \n",
       "\n",
       "      order_delivered_customer_date order_estimated_delivery_date  \\\n",
       "19299           2018-08-07 19:28:41           2018-08-22 00:00:00   \n",
       "35608                           NaT           2018-09-05 00:00:00   \n",
       "\n",
       "       processing_time  days_between_orders  \n",
       "19299             10.0                  0.0  \n",
       "35608              NaN                 16.0  "
      ]
     },
     "execution_count": 19,
     "metadata": {},
     "output_type": "execute_result"
    }
   ],
   "source": [
    "df_orders.query(\"customer_unique_id == '00172711b30d52eea8b313a7f2cced02'\")"
   ]
  },
  {
   "cell_type": "code",
   "execution_count": 20,
   "metadata": {},
   "outputs": [
    {
     "data": {
      "text/html": [
       "<div>\n",
       "<style scoped>\n",
       "    .dataframe tbody tr th:only-of-type {\n",
       "        vertical-align: middle;\n",
       "    }\n",
       "\n",
       "    .dataframe tbody tr th {\n",
       "        vertical-align: top;\n",
       "    }\n",
       "\n",
       "    .dataframe thead th {\n",
       "        text-align: right;\n",
       "    }\n",
       "</style>\n",
       "<table border=\"1\" class=\"dataframe\">\n",
       "  <thead>\n",
       "    <tr style=\"text-align: right;\">\n",
       "      <th></th>\n",
       "      <th>customer_unique_id</th>\n",
       "      <th>last_order_date</th>\n",
       "      <th>total_orders</th>\n",
       "      <th>average_days_between_orders</th>\n",
       "      <th>last_order_time</th>\n",
       "    </tr>\n",
       "  </thead>\n",
       "  <tbody>\n",
       "    <tr>\n",
       "      <th>0</th>\n",
       "      <td>0000366f3b9a7992bf8c76cfdf3221e2</td>\n",
       "      <td>2018-05-10</td>\n",
       "      <td>1</td>\n",
       "      <td>0.0</td>\n",
       "      <td>10:56:27</td>\n",
       "    </tr>\n",
       "    <tr>\n",
       "      <th>1</th>\n",
       "      <td>0000b849f77a49e4a4ce2b2a4ca5be3f</td>\n",
       "      <td>2018-05-07</td>\n",
       "      <td>1</td>\n",
       "      <td>0.0</td>\n",
       "      <td>11:11:27</td>\n",
       "    </tr>\n",
       "    <tr>\n",
       "      <th>2</th>\n",
       "      <td>0000f46a3911fa3c0805444483337064</td>\n",
       "      <td>2017-03-10</td>\n",
       "      <td>1</td>\n",
       "      <td>0.0</td>\n",
       "      <td>21:05:03</td>\n",
       "    </tr>\n",
       "    <tr>\n",
       "      <th>3</th>\n",
       "      <td>0000f6ccb0745a6a4b88665a16c9f078</td>\n",
       "      <td>2017-10-12</td>\n",
       "      <td>1</td>\n",
       "      <td>0.0</td>\n",
       "      <td>20:29:41</td>\n",
       "    </tr>\n",
       "    <tr>\n",
       "      <th>4</th>\n",
       "      <td>0004aac84e0df4da2b147fca70cf8255</td>\n",
       "      <td>2017-11-14</td>\n",
       "      <td>1</td>\n",
       "      <td>0.0</td>\n",
       "      <td>19:45:42</td>\n",
       "    </tr>\n",
       "  </tbody>\n",
       "</table>\n",
       "</div>"
      ],
      "text/plain": [
       "                 customer_unique_id last_order_date  total_orders  \\\n",
       "0  0000366f3b9a7992bf8c76cfdf3221e2      2018-05-10             1   \n",
       "1  0000b849f77a49e4a4ce2b2a4ca5be3f      2018-05-07             1   \n",
       "2  0000f46a3911fa3c0805444483337064      2017-03-10             1   \n",
       "3  0000f6ccb0745a6a4b88665a16c9f078      2017-10-12             1   \n",
       "4  0004aac84e0df4da2b147fca70cf8255      2017-11-14             1   \n",
       "\n",
       "   average_days_between_orders last_order_time  \n",
       "0                          0.0        10:56:27  \n",
       "1                          0.0        11:11:27  \n",
       "2                          0.0        21:05:03  \n",
       "3                          0.0        20:29:41  \n",
       "4                          0.0        19:45:42  "
      ]
     },
     "execution_count": 20,
     "metadata": {},
     "output_type": "execute_result"
    }
   ],
   "source": [
    "# split last order date into date and time\n",
    "result[\"last_order_time\"] = result[\"last_order_date\"].dt.time\n",
    "result[\"last_order_date\"] = result[\"last_order_date\"].dt.date\n",
    "\n",
    "result.head()"
   ]
  },
  {
   "cell_type": "code",
   "execution_count": 21,
   "metadata": {},
   "outputs": [
    {
     "data": {
      "text/html": [
       "<div>\n",
       "<style scoped>\n",
       "    .dataframe tbody tr th:only-of-type {\n",
       "        vertical-align: middle;\n",
       "    }\n",
       "\n",
       "    .dataframe tbody tr th {\n",
       "        vertical-align: top;\n",
       "    }\n",
       "\n",
       "    .dataframe thead th {\n",
       "        text-align: right;\n",
       "    }\n",
       "</style>\n",
       "<table border=\"1\" class=\"dataframe\">\n",
       "  <thead>\n",
       "    <tr style=\"text-align: right;\">\n",
       "      <th></th>\n",
       "      <th>total_orders</th>\n",
       "      <th>average_days_between_orders</th>\n",
       "    </tr>\n",
       "  </thead>\n",
       "  <tbody>\n",
       "    <tr>\n",
       "      <th>count</th>\n",
       "      <td>96096.000000</td>\n",
       "      <td>96096.000000</td>\n",
       "    </tr>\n",
       "    <tr>\n",
       "      <th>mean</th>\n",
       "      <td>1.034809</td>\n",
       "      <td>1.275598</td>\n",
       "    </tr>\n",
       "    <tr>\n",
       "      <th>std</th>\n",
       "      <td>0.214384</td>\n",
       "      <td>11.984673</td>\n",
       "    </tr>\n",
       "    <tr>\n",
       "      <th>min</th>\n",
       "      <td>1.000000</td>\n",
       "      <td>0.000000</td>\n",
       "    </tr>\n",
       "    <tr>\n",
       "      <th>25%</th>\n",
       "      <td>1.000000</td>\n",
       "      <td>0.000000</td>\n",
       "    </tr>\n",
       "    <tr>\n",
       "      <th>50%</th>\n",
       "      <td>1.000000</td>\n",
       "      <td>0.000000</td>\n",
       "    </tr>\n",
       "    <tr>\n",
       "      <th>75%</th>\n",
       "      <td>1.000000</td>\n",
       "      <td>0.000000</td>\n",
       "    </tr>\n",
       "    <tr>\n",
       "      <th>max</th>\n",
       "      <td>17.000000</td>\n",
       "      <td>304.000000</td>\n",
       "    </tr>\n",
       "  </tbody>\n",
       "</table>\n",
       "</div>"
      ],
      "text/plain": [
       "       total_orders  average_days_between_orders\n",
       "count  96096.000000                 96096.000000\n",
       "mean       1.034809                     1.275598\n",
       "std        0.214384                    11.984673\n",
       "min        1.000000                     0.000000\n",
       "25%        1.000000                     0.000000\n",
       "50%        1.000000                     0.000000\n",
       "75%        1.000000                     0.000000\n",
       "max       17.000000                   304.000000"
      ]
     },
     "execution_count": 21,
     "metadata": {},
     "output_type": "execute_result"
    }
   ],
   "source": [
    "result.describe()"
   ]
  },
  {
   "cell_type": "markdown",
   "metadata": {},
   "source": [
    "Who are the most recent customers ?"
   ]
  },
  {
   "cell_type": "code",
   "execution_count": 22,
   "metadata": {},
   "outputs": [
    {
     "data": {
      "text/html": [
       "<div>\n",
       "<style scoped>\n",
       "    .dataframe tbody tr th:only-of-type {\n",
       "        vertical-align: middle;\n",
       "    }\n",
       "\n",
       "    .dataframe tbody tr th {\n",
       "        vertical-align: top;\n",
       "    }\n",
       "\n",
       "    .dataframe thead th {\n",
       "        text-align: right;\n",
       "    }\n",
       "</style>\n",
       "<table border=\"1\" class=\"dataframe\">\n",
       "  <thead>\n",
       "    <tr style=\"text-align: right;\">\n",
       "      <th></th>\n",
       "      <th>customer_unique_id</th>\n",
       "      <th>customer_zip_code_prefix</th>\n",
       "      <th>order_id</th>\n",
       "      <th>order_status</th>\n",
       "      <th>order_purchase_timestamp</th>\n",
       "      <th>order_approved_at</th>\n",
       "      <th>order_delivered_carrier_date</th>\n",
       "      <th>order_delivered_customer_date</th>\n",
       "      <th>order_estimated_delivery_date</th>\n",
       "      <th>processing_time</th>\n",
       "      <th>days_between_orders</th>\n",
       "    </tr>\n",
       "  </thead>\n",
       "  <tbody>\n",
       "    <tr>\n",
       "      <th>85415</th>\n",
       "      <td>87ab9fec999db8bd5774917de3cdf01c</td>\n",
       "      <td>18077</td>\n",
       "      <td>10a045cdf6a5650c21e9cfeb60384c16</td>\n",
       "      <td>canceled</td>\n",
       "      <td>2018-10-17 17:30:18</td>\n",
       "      <td>None</td>\n",
       "      <td>None</td>\n",
       "      <td>NaT</td>\n",
       "      <td>2018-10-30 00:00:00</td>\n",
       "      <td>NaN</td>\n",
       "      <td>0.0</td>\n",
       "    </tr>\n",
       "    <tr>\n",
       "      <th>69139</th>\n",
       "      <td>262e1f1e26e92e86375f86840b4ffd63</td>\n",
       "      <td>64600</td>\n",
       "      <td>b059ee4de278302d550a3035c4cdb740</td>\n",
       "      <td>canceled</td>\n",
       "      <td>2018-10-16 20:16:02</td>\n",
       "      <td>None</td>\n",
       "      <td>None</td>\n",
       "      <td>NaT</td>\n",
       "      <td>2018-11-12 00:00:00</td>\n",
       "      <td>NaN</td>\n",
       "      <td>127.0</td>\n",
       "    </tr>\n",
       "    <tr>\n",
       "      <th>68312</th>\n",
       "      <td>af5454198a97379394cacf676e1e96cb</td>\n",
       "      <td>11900</td>\n",
       "      <td>a2ac6dad85cf8af5b0afb510a240fe8c</td>\n",
       "      <td>canceled</td>\n",
       "      <td>2018-10-03 18:55:29</td>\n",
       "      <td>None</td>\n",
       "      <td>None</td>\n",
       "      <td>NaT</td>\n",
       "      <td>2018-10-16 00:00:00</td>\n",
       "      <td>NaN</td>\n",
       "      <td>30.0</td>\n",
       "    </tr>\n",
       "    <tr>\n",
       "      <th>75902</th>\n",
       "      <td>634420a0ea42302205032ed44ac7fccc</td>\n",
       "      <td>27175</td>\n",
       "      <td>616fa7d4871b87832197b2a137a115d2</td>\n",
       "      <td>canceled</td>\n",
       "      <td>2018-10-01 15:30:09</td>\n",
       "      <td>None</td>\n",
       "      <td>None</td>\n",
       "      <td>NaT</td>\n",
       "      <td>2018-10-23 00:00:00</td>\n",
       "      <td>NaN</td>\n",
       "      <td>46.0</td>\n",
       "    </tr>\n",
       "    <tr>\n",
       "      <th>75985</th>\n",
       "      <td>9bb92bebd4cb7511e1a02d5e50bc4655</td>\n",
       "      <td>7176</td>\n",
       "      <td>392ed9afd714e3c74767d0c4d3e3f477</td>\n",
       "      <td>canceled</td>\n",
       "      <td>2018-09-29 09:13:03</td>\n",
       "      <td>None</td>\n",
       "      <td>None</td>\n",
       "      <td>NaT</td>\n",
       "      <td>2018-10-15 00:00:00</td>\n",
       "      <td>NaN</td>\n",
       "      <td>0.0</td>\n",
       "    </tr>\n",
       "    <tr>\n",
       "      <th>75807</th>\n",
       "      <td>ba84da8c159659f116329563a0a981dd</td>\n",
       "      <td>25635</td>\n",
       "      <td>869997fbe01f39d184956b5c6bccfdbe</td>\n",
       "      <td>canceled</td>\n",
       "      <td>2018-09-26 08:40:15</td>\n",
       "      <td>None</td>\n",
       "      <td>None</td>\n",
       "      <td>NaT</td>\n",
       "      <td>2018-10-25 00:00:00</td>\n",
       "      <td>NaN</td>\n",
       "      <td>22.0</td>\n",
       "    </tr>\n",
       "    <tr>\n",
       "      <th>33139</th>\n",
       "      <td>9c3af16efacb7aa06aa3bc674556c5d6</td>\n",
       "      <td>30170</td>\n",
       "      <td>5aac76cf7b07dd06fa4d50bf461d2f40</td>\n",
       "      <td>canceled</td>\n",
       "      <td>2018-09-25 11:59:18</td>\n",
       "      <td>None</td>\n",
       "      <td>None</td>\n",
       "      <td>NaT</td>\n",
       "      <td>2018-10-11 00:00:00</td>\n",
       "      <td>NaN</td>\n",
       "      <td>53.0</td>\n",
       "    </tr>\n",
       "    <tr>\n",
       "      <th>41350</th>\n",
       "      <td>08642cd329066fe11ec63293f714f2f8</td>\n",
       "      <td>33030</td>\n",
       "      <td>ed3efbd3a87bea76c2812c66a0b32219</td>\n",
       "      <td>canceled</td>\n",
       "      <td>2018-09-20 13:54:16</td>\n",
       "      <td>None</td>\n",
       "      <td>None</td>\n",
       "      <td>NaT</td>\n",
       "      <td>2018-10-17 00:00:00</td>\n",
       "      <td>NaN</td>\n",
       "      <td>60.0</td>\n",
       "    </tr>\n",
       "    <tr>\n",
       "      <th>1087</th>\n",
       "      <td>ef0103e9602d12594d19c2b666219bc1</td>\n",
       "      <td>30810</td>\n",
       "      <td>bd35b677fd239386e9861d11ae98ab56</td>\n",
       "      <td>canceled</td>\n",
       "      <td>2018-09-17 17:21:16</td>\n",
       "      <td>None</td>\n",
       "      <td>None</td>\n",
       "      <td>NaT</td>\n",
       "      <td>2018-10-01 00:00:00</td>\n",
       "      <td>NaN</td>\n",
       "      <td>5.0</td>\n",
       "    </tr>\n",
       "    <tr>\n",
       "      <th>70913</th>\n",
       "      <td>c1ee153508c6b785b491443a95ff364e</td>\n",
       "      <td>89300</td>\n",
       "      <td>ea844c92cf978ea23321fa7fe5871761</td>\n",
       "      <td>canceled</td>\n",
       "      <td>2018-09-13 09:56:12</td>\n",
       "      <td>None</td>\n",
       "      <td>None</td>\n",
       "      <td>NaT</td>\n",
       "      <td>2018-09-27 00:00:00</td>\n",
       "      <td>NaN</td>\n",
       "      <td>0.0</td>\n",
       "    </tr>\n",
       "  </tbody>\n",
       "</table>\n",
       "</div>"
      ],
      "text/plain": [
       "                     customer_unique_id  customer_zip_code_prefix  \\\n",
       "85415  87ab9fec999db8bd5774917de3cdf01c                     18077   \n",
       "69139  262e1f1e26e92e86375f86840b4ffd63                     64600   \n",
       "68312  af5454198a97379394cacf676e1e96cb                     11900   \n",
       "75902  634420a0ea42302205032ed44ac7fccc                     27175   \n",
       "75985  9bb92bebd4cb7511e1a02d5e50bc4655                      7176   \n",
       "75807  ba84da8c159659f116329563a0a981dd                     25635   \n",
       "33139  9c3af16efacb7aa06aa3bc674556c5d6                     30170   \n",
       "41350  08642cd329066fe11ec63293f714f2f8                     33030   \n",
       "1087   ef0103e9602d12594d19c2b666219bc1                     30810   \n",
       "70913  c1ee153508c6b785b491443a95ff364e                     89300   \n",
       "\n",
       "                               order_id order_status order_purchase_timestamp  \\\n",
       "85415  10a045cdf6a5650c21e9cfeb60384c16     canceled      2018-10-17 17:30:18   \n",
       "69139  b059ee4de278302d550a3035c4cdb740     canceled      2018-10-16 20:16:02   \n",
       "68312  a2ac6dad85cf8af5b0afb510a240fe8c     canceled      2018-10-03 18:55:29   \n",
       "75902  616fa7d4871b87832197b2a137a115d2     canceled      2018-10-01 15:30:09   \n",
       "75985  392ed9afd714e3c74767d0c4d3e3f477     canceled      2018-09-29 09:13:03   \n",
       "75807  869997fbe01f39d184956b5c6bccfdbe     canceled      2018-09-26 08:40:15   \n",
       "33139  5aac76cf7b07dd06fa4d50bf461d2f40     canceled      2018-09-25 11:59:18   \n",
       "41350  ed3efbd3a87bea76c2812c66a0b32219     canceled      2018-09-20 13:54:16   \n",
       "1087   bd35b677fd239386e9861d11ae98ab56     canceled      2018-09-17 17:21:16   \n",
       "70913  ea844c92cf978ea23321fa7fe5871761     canceled      2018-09-13 09:56:12   \n",
       "\n",
       "      order_approved_at order_delivered_carrier_date  \\\n",
       "85415              None                         None   \n",
       "69139              None                         None   \n",
       "68312              None                         None   \n",
       "75902              None                         None   \n",
       "75985              None                         None   \n",
       "75807              None                         None   \n",
       "33139              None                         None   \n",
       "41350              None                         None   \n",
       "1087               None                         None   \n",
       "70913              None                         None   \n",
       "\n",
       "      order_delivered_customer_date order_estimated_delivery_date  \\\n",
       "85415                           NaT           2018-10-30 00:00:00   \n",
       "69139                           NaT           2018-11-12 00:00:00   \n",
       "68312                           NaT           2018-10-16 00:00:00   \n",
       "75902                           NaT           2018-10-23 00:00:00   \n",
       "75985                           NaT           2018-10-15 00:00:00   \n",
       "75807                           NaT           2018-10-25 00:00:00   \n",
       "33139                           NaT           2018-10-11 00:00:00   \n",
       "41350                           NaT           2018-10-17 00:00:00   \n",
       "1087                            NaT           2018-10-01 00:00:00   \n",
       "70913                           NaT           2018-09-27 00:00:00   \n",
       "\n",
       "       processing_time  days_between_orders  \n",
       "85415              NaN                  0.0  \n",
       "69139              NaN                127.0  \n",
       "68312              NaN                 30.0  \n",
       "75902              NaN                 46.0  \n",
       "75985              NaN                  0.0  \n",
       "75807              NaN                 22.0  \n",
       "33139              NaN                 53.0  \n",
       "41350              NaN                 60.0  \n",
       "1087               NaN                  5.0  \n",
       "70913              NaN                  0.0  "
      ]
     },
     "execution_count": 22,
     "metadata": {},
     "output_type": "execute_result"
    }
   ],
   "source": [
    "df_orders.sort_values(by=\"order_purchase_timestamp\", ascending=False).head(10)"
   ]
  },
  {
   "cell_type": "code",
   "execution_count": 23,
   "metadata": {},
   "outputs": [
    {
     "data": {
      "text/plain": [
       "array(['delivered', 'canceled', 'shipped', 'unavailable', 'invoiced',\n",
       "       'processing', 'created', 'approved'], dtype=object)"
      ]
     },
     "execution_count": 23,
     "metadata": {},
     "output_type": "execute_result"
    }
   ],
   "source": [
    "df_orders[\"order_status\"].unique()"
   ]
  },
  {
   "cell_type": "markdown",
   "metadata": {},
   "source": [
    "We'd like to keep all categories to keep track on clients that ordered abd are waiting for they order to be approved and to keep track on customers that canceled their order. What is \"unavailable\" ? Is this the information ? We can work on this information to check if it was delivered"
   ]
  },
  {
   "cell_type": "code",
   "execution_count": 24,
   "metadata": {},
   "outputs": [
    {
     "name": "stdout",
     "output_type": "stream",
     "text": [
      "<class 'pandas.core.frame.DataFrame'>\n",
      "Index: 609 entries, 83995 to 96595\n",
      "Data columns (total 11 columns):\n",
      " #   Column                         Non-Null Count  Dtype         \n",
      "---  ------                         --------------  -----         \n",
      " 0   customer_unique_id             609 non-null    object        \n",
      " 1   customer_zip_code_prefix       609 non-null    int64         \n",
      " 2   order_id                       609 non-null    object        \n",
      " 3   order_status                   609 non-null    object        \n",
      " 4   order_purchase_timestamp       609 non-null    datetime64[ns]\n",
      " 5   order_approved_at              609 non-null    object        \n",
      " 6   order_delivered_carrier_date   0 non-null      object        \n",
      " 7   order_delivered_customer_date  0 non-null      datetime64[ns]\n",
      " 8   order_estimated_delivery_date  609 non-null    object        \n",
      " 9   processing_time                0 non-null      float64       \n",
      " 10  days_between_orders            609 non-null    float64       \n",
      "dtypes: datetime64[ns](2), float64(2), int64(1), object(6)\n",
      "memory usage: 57.1+ KB\n"
     ]
    }
   ],
   "source": [
    "df_orders.loc[df_orders[\"order_status\"] == \"unavailable\"].info()"
   ]
  },
  {
   "cell_type": "markdown",
   "metadata": {},
   "source": [
    "It seems that the order nas never delivered, neither to the customer, neither to the carrier. It concerns 609 orders."
   ]
  },
  {
   "cell_type": "markdown",
   "metadata": {},
   "source": [
    "## Investigating on the reviews."
   ]
  },
  {
   "cell_type": "code",
   "execution_count": 25,
   "metadata": {},
   "outputs": [
    {
     "data": {
      "text/html": [
       "<div>\n",
       "<style scoped>\n",
       "    .dataframe tbody tr th:only-of-type {\n",
       "        vertical-align: middle;\n",
       "    }\n",
       "\n",
       "    .dataframe tbody tr th {\n",
       "        vertical-align: top;\n",
       "    }\n",
       "\n",
       "    .dataframe thead th {\n",
       "        text-align: right;\n",
       "    }\n",
       "</style>\n",
       "<table border=\"1\" class=\"dataframe\">\n",
       "  <thead>\n",
       "    <tr style=\"text-align: right;\">\n",
       "      <th></th>\n",
       "      <th>order_id</th>\n",
       "      <th>customer_unique_id</th>\n",
       "      <th>order_status</th>\n",
       "      <th>review_score</th>\n",
       "      <th>review_length</th>\n",
       "      <th>review_reation_date</th>\n",
       "    </tr>\n",
       "  </thead>\n",
       "  <tbody>\n",
       "    <tr>\n",
       "      <th>0</th>\n",
       "      <td>e481f51cbdc54678b7cc49136f2d6af7</td>\n",
       "      <td>7c396fd4830fd04220f754e42b4e5bff</td>\n",
       "      <td>delivered</td>\n",
       "      <td>4</td>\n",
       "      <td>170</td>\n",
       "      <td>2017-10-11</td>\n",
       "    </tr>\n",
       "    <tr>\n",
       "      <th>1</th>\n",
       "      <td>53cdb2fc8bc7dce0b6741e2150273451</td>\n",
       "      <td>af07308b275d755c9edb36a90c618231</td>\n",
       "      <td>delivered</td>\n",
       "      <td>4</td>\n",
       "      <td>20</td>\n",
       "      <td>2018-08-08</td>\n",
       "    </tr>\n",
       "    <tr>\n",
       "      <th>2</th>\n",
       "      <td>47770eb9100c2d0c44946d9cf07ec65d</td>\n",
       "      <td>3a653a41f6f9fc3d2a113cf8398680e8</td>\n",
       "      <td>delivered</td>\n",
       "      <td>5</td>\n",
       "      <td>0</td>\n",
       "      <td>2018-08-18</td>\n",
       "    </tr>\n",
       "    <tr>\n",
       "      <th>3</th>\n",
       "      <td>949d5b44dbf5de918fe9c16f97b45f8a</td>\n",
       "      <td>7c142cf63193a1473d2e66489a9ae977</td>\n",
       "      <td>delivered</td>\n",
       "      <td>5</td>\n",
       "      <td>105</td>\n",
       "      <td>2017-12-03</td>\n",
       "    </tr>\n",
       "    <tr>\n",
       "      <th>4</th>\n",
       "      <td>ad21c59c0840e6cb83a9ceb5573f8159</td>\n",
       "      <td>72632f0f9dd73dfee390c9b22eb56dd6</td>\n",
       "      <td>delivered</td>\n",
       "      <td>5</td>\n",
       "      <td>0</td>\n",
       "      <td>2018-02-17</td>\n",
       "    </tr>\n",
       "  </tbody>\n",
       "</table>\n",
       "</div>"
      ],
      "text/plain": [
       "                           order_id                customer_unique_id  \\\n",
       "0  e481f51cbdc54678b7cc49136f2d6af7  7c396fd4830fd04220f754e42b4e5bff   \n",
       "1  53cdb2fc8bc7dce0b6741e2150273451  af07308b275d755c9edb36a90c618231   \n",
       "2  47770eb9100c2d0c44946d9cf07ec65d  3a653a41f6f9fc3d2a113cf8398680e8   \n",
       "3  949d5b44dbf5de918fe9c16f97b45f8a  7c142cf63193a1473d2e66489a9ae977   \n",
       "4  ad21c59c0840e6cb83a9ceb5573f8159  72632f0f9dd73dfee390c9b22eb56dd6   \n",
       "\n",
       "  order_status  review_score  review_length review_reation_date  \n",
       "0    delivered             4            170          2017-10-11  \n",
       "1    delivered             4             20          2018-08-08  \n",
       "2    delivered             5              0          2018-08-18  \n",
       "3    delivered             5            105          2017-12-03  \n",
       "4    delivered             5              0          2018-02-17  "
      ]
     },
     "execution_count": 25,
     "metadata": {},
     "output_type": "execute_result"
    }
   ],
   "source": [
    "reviews_query = \"\"\"\n",
    "    SELECT o.order_id, c.customer_unique_id, o.order_status\n",
    "    , COALESCE(r.review_score,0) as review_score, COALESCE(LENGTH(r.review_comment_message),0) as review_length, DATE(r.review_creation_date) as review_reation_date\n",
    "    FROM orders o\n",
    "    JOIN customers c ON o.customer_id = c.customer_id\n",
    "    LEFT JOIN order_reviews r ON o.order_id = r.order_id\n",
    "\"\"\"\n",
    "\n",
    "order_reviews = pd.read_sql_query(reviews_query, connection)\n",
    "order_reviews.head()"
   ]
  },
  {
   "cell_type": "code",
   "execution_count": 26,
   "metadata": {},
   "outputs": [
    {
     "data": {
      "text/plain": [
       "review_score\n",
       "1    463\n",
       "2     43\n",
       "5     36\n",
       "3     35\n",
       "4     20\n",
       "0     14\n",
       "Name: count, dtype: int64"
      ]
     },
     "execution_count": 26,
     "metadata": {},
     "output_type": "execute_result"
    }
   ],
   "source": [
    "unavailable_order_reviews = order_reviews.loc[order_reviews[\"order_status\"] == \"unavailable\"]\n",
    "unavailable_order_reviews[\"review_score\"].value_counts()"
   ]
  },
  {
   "cell_type": "markdown",
   "metadata": {},
   "source": [
    "14 products have not been reviewed."
   ]
  },
  {
   "cell_type": "code",
   "execution_count": 27,
   "metadata": {},
   "outputs": [
    {
     "data": {
      "text/html": [
       "<div>\n",
       "<style scoped>\n",
       "    .dataframe tbody tr th:only-of-type {\n",
       "        vertical-align: middle;\n",
       "    }\n",
       "\n",
       "    .dataframe tbody tr th {\n",
       "        vertical-align: top;\n",
       "    }\n",
       "\n",
       "    .dataframe thead th {\n",
       "        text-align: right;\n",
       "    }\n",
       "</style>\n",
       "<table border=\"1\" class=\"dataframe\">\n",
       "  <thead>\n",
       "    <tr style=\"text-align: right;\">\n",
       "      <th></th>\n",
       "      <th>order_id</th>\n",
       "      <th>customer_unique_id</th>\n",
       "      <th>order_status</th>\n",
       "      <th>review_score</th>\n",
       "      <th>review_length</th>\n",
       "      <th>review_reation_date</th>\n",
       "    </tr>\n",
       "  </thead>\n",
       "  <tbody>\n",
       "    <tr>\n",
       "      <th>3475</th>\n",
       "      <td>2f30c0b1905c65a8ff6c6358bc909625</td>\n",
       "      <td>215e0a9044344dca7820b462c60bd206</td>\n",
       "      <td>unavailable</td>\n",
       "      <td>0</td>\n",
       "      <td>0</td>\n",
       "      <td>None</td>\n",
       "    </tr>\n",
       "    <tr>\n",
       "      <th>4627</th>\n",
       "      <td>b7be5e58fd37e6165dbb39e8362c8446</td>\n",
       "      <td>2d6e75f5a4a33d3a936f1ea68ac9bf01</td>\n",
       "      <td>unavailable</td>\n",
       "      <td>0</td>\n",
       "      <td>0</td>\n",
       "      <td>None</td>\n",
       "    </tr>\n",
       "    <tr>\n",
       "      <th>38306</th>\n",
       "      <td>5c4e4e1d3abaee058758731094e9a7cc</td>\n",
       "      <td>5192c897072033288df55bd01b0e5737</td>\n",
       "      <td>unavailable</td>\n",
       "      <td>0</td>\n",
       "      <td>0</td>\n",
       "      <td>None</td>\n",
       "    </tr>\n",
       "    <tr>\n",
       "      <th>43918</th>\n",
       "      <td>0a5c74ccc786ced7903270de9d6c170a</td>\n",
       "      <td>db6232ea09754a4b150da1dafb82fe45</td>\n",
       "      <td>unavailable</td>\n",
       "      <td>0</td>\n",
       "      <td>0</td>\n",
       "      <td>None</td>\n",
       "    </tr>\n",
       "    <tr>\n",
       "      <th>48650</th>\n",
       "      <td>974f9f87a3bad01b2ac72fe987505e9b</td>\n",
       "      <td>e075305a11bf4cc09e8395bd97266a1e</td>\n",
       "      <td>unavailable</td>\n",
       "      <td>0</td>\n",
       "      <td>0</td>\n",
       "      <td>None</td>\n",
       "    </tr>\n",
       "    <tr>\n",
       "      <th>49916</th>\n",
       "      <td>5f2dbe00a1732133a6809ae1af554123</td>\n",
       "      <td>359328b5ede8c2758bc8f1740565dda3</td>\n",
       "      <td>unavailable</td>\n",
       "      <td>0</td>\n",
       "      <td>0</td>\n",
       "      <td>None</td>\n",
       "    </tr>\n",
       "    <tr>\n",
       "      <th>52715</th>\n",
       "      <td>31b91033dcb0502e616f40ced16dccc6</td>\n",
       "      <td>864adb6f60fff0c2a11613045507d350</td>\n",
       "      <td>unavailable</td>\n",
       "      <td>0</td>\n",
       "      <td>0</td>\n",
       "      <td>None</td>\n",
       "    </tr>\n",
       "    <tr>\n",
       "      <th>52724</th>\n",
       "      <td>55aa287c6ca17e8c3262b9ef1e12fac6</td>\n",
       "      <td>429fbf4ee20691b0ae84c84c3ebc6897</td>\n",
       "      <td>unavailable</td>\n",
       "      <td>0</td>\n",
       "      <td>0</td>\n",
       "      <td>None</td>\n",
       "    </tr>\n",
       "    <tr>\n",
       "      <th>52928</th>\n",
       "      <td>adf5a3d223336c6b7965f3027bb7ddc2</td>\n",
       "      <td>af65b6eb3336048acc95ef62a4ac94c3</td>\n",
       "      <td>unavailable</td>\n",
       "      <td>0</td>\n",
       "      <td>0</td>\n",
       "      <td>None</td>\n",
       "    </tr>\n",
       "    <tr>\n",
       "      <th>70398</th>\n",
       "      <td>cd80f267aabc7357c2caaa8848e1cd3c</td>\n",
       "      <td>b52378d2bae15325d2dffddb403ff3e3</td>\n",
       "      <td>unavailable</td>\n",
       "      <td>0</td>\n",
       "      <td>0</td>\n",
       "      <td>None</td>\n",
       "    </tr>\n",
       "    <tr>\n",
       "      <th>73772</th>\n",
       "      <td>3f2467ae6b5a92494a59e95de0d79ba8</td>\n",
       "      <td>be702ead111ea16e09aba67f992c46c6</td>\n",
       "      <td>unavailable</td>\n",
       "      <td>0</td>\n",
       "      <td>0</td>\n",
       "      <td>None</td>\n",
       "    </tr>\n",
       "    <tr>\n",
       "      <th>78651</th>\n",
       "      <td>32c75dfb830b25a968cfd39e54d315a3</td>\n",
       "      <td>d29d20c2b98be8a4cdfb197a5e0a391d</td>\n",
       "      <td>unavailable</td>\n",
       "      <td>0</td>\n",
       "      <td>0</td>\n",
       "      <td>None</td>\n",
       "    </tr>\n",
       "    <tr>\n",
       "      <th>81766</th>\n",
       "      <td>93881917b8e0f2bf11eec7abbbfe43ec</td>\n",
       "      <td>e6925d3e39cebd0f699008b248e58361</td>\n",
       "      <td>unavailable</td>\n",
       "      <td>0</td>\n",
       "      <td>0</td>\n",
       "      <td>None</td>\n",
       "    </tr>\n",
       "    <tr>\n",
       "      <th>89928</th>\n",
       "      <td>a536059a071793ef05e7e63cbac9d50e</td>\n",
       "      <td>ecf38f5463ae0ba454bba9658371bc3d</td>\n",
       "      <td>unavailable</td>\n",
       "      <td>0</td>\n",
       "      <td>0</td>\n",
       "      <td>None</td>\n",
       "    </tr>\n",
       "  </tbody>\n",
       "</table>\n",
       "</div>"
      ],
      "text/plain": [
       "                               order_id                customer_unique_id  \\\n",
       "3475   2f30c0b1905c65a8ff6c6358bc909625  215e0a9044344dca7820b462c60bd206   \n",
       "4627   b7be5e58fd37e6165dbb39e8362c8446  2d6e75f5a4a33d3a936f1ea68ac9bf01   \n",
       "38306  5c4e4e1d3abaee058758731094e9a7cc  5192c897072033288df55bd01b0e5737   \n",
       "43918  0a5c74ccc786ced7903270de9d6c170a  db6232ea09754a4b150da1dafb82fe45   \n",
       "48650  974f9f87a3bad01b2ac72fe987505e9b  e075305a11bf4cc09e8395bd97266a1e   \n",
       "49916  5f2dbe00a1732133a6809ae1af554123  359328b5ede8c2758bc8f1740565dda3   \n",
       "52715  31b91033dcb0502e616f40ced16dccc6  864adb6f60fff0c2a11613045507d350   \n",
       "52724  55aa287c6ca17e8c3262b9ef1e12fac6  429fbf4ee20691b0ae84c84c3ebc6897   \n",
       "52928  adf5a3d223336c6b7965f3027bb7ddc2  af65b6eb3336048acc95ef62a4ac94c3   \n",
       "70398  cd80f267aabc7357c2caaa8848e1cd3c  b52378d2bae15325d2dffddb403ff3e3   \n",
       "73772  3f2467ae6b5a92494a59e95de0d79ba8  be702ead111ea16e09aba67f992c46c6   \n",
       "78651  32c75dfb830b25a968cfd39e54d315a3  d29d20c2b98be8a4cdfb197a5e0a391d   \n",
       "81766  93881917b8e0f2bf11eec7abbbfe43ec  e6925d3e39cebd0f699008b248e58361   \n",
       "89928  a536059a071793ef05e7e63cbac9d50e  ecf38f5463ae0ba454bba9658371bc3d   \n",
       "\n",
       "      order_status  review_score  review_length review_reation_date  \n",
       "3475   unavailable             0              0                None  \n",
       "4627   unavailable             0              0                None  \n",
       "38306  unavailable             0              0                None  \n",
       "43918  unavailable             0              0                None  \n",
       "48650  unavailable             0              0                None  \n",
       "49916  unavailable             0              0                None  \n",
       "52715  unavailable             0              0                None  \n",
       "52724  unavailable             0              0                None  \n",
       "52928  unavailable             0              0                None  \n",
       "70398  unavailable             0              0                None  \n",
       "73772  unavailable             0              0                None  \n",
       "78651  unavailable             0              0                None  \n",
       "81766  unavailable             0              0                None  \n",
       "89928  unavailable             0              0                None  "
      ]
     },
     "execution_count": 27,
     "metadata": {},
     "output_type": "execute_result"
    }
   ],
   "source": [
    "unavailable_order_reviews.loc[unavailable_order_reviews[\"review_score\"] == 0]"
   ]
  },
  {
   "cell_type": "markdown",
   "metadata": {},
   "source": [
    "The 14 missing reviews belong to products that don't have an order_status."
   ]
  },
  {
   "cell_type": "markdown",
   "metadata": {},
   "source": [
    "Might decide to drop those 609 rows..."
   ]
  },
  {
   "cell_type": "markdown",
   "metadata": {},
   "source": [
    "## Do customers leave reviews and rate the product ?"
   ]
  },
  {
   "cell_type": "code",
   "execution_count": 28,
   "metadata": {},
   "outputs": [
    {
     "data": {
      "text/html": [
       "<div>\n",
       "<style scoped>\n",
       "    .dataframe tbody tr th:only-of-type {\n",
       "        vertical-align: middle;\n",
       "    }\n",
       "\n",
       "    .dataframe tbody tr th {\n",
       "        vertical-align: top;\n",
       "    }\n",
       "\n",
       "    .dataframe thead th {\n",
       "        text-align: right;\n",
       "    }\n",
       "</style>\n",
       "<table border=\"1\" class=\"dataframe\">\n",
       "  <thead>\n",
       "    <tr style=\"text-align: right;\">\n",
       "      <th></th>\n",
       "      <th>customer_unique_id</th>\n",
       "      <th>total_reviews</th>\n",
       "      <th>average_review_score</th>\n",
       "    </tr>\n",
       "  </thead>\n",
       "  <tbody>\n",
       "  </tbody>\n",
       "</table>\n",
       "</div>"
      ],
      "text/plain": [
       "Empty DataFrame\n",
       "Columns: [customer_unique_id, total_reviews, average_review_score]\n",
       "Index: []"
      ]
     },
     "execution_count": 28,
     "metadata": {},
     "output_type": "execute_result"
    }
   ],
   "source": [
    "# Get the total of reviews given by a customer and the average review score\n",
    "reviews_by_customer = order_reviews.groupby(\"customer_unique_id\")[\"review_score\"].agg(\n",
    "    total_reviews=\"count\", average_review_score=\"mean\"\n",
    ")\n",
    "reviews_by_customer = reviews_by_customer.reset_index()\n",
    "\n",
    "reviews_by_customer.loc[reviews_by_customer[\"total_reviews\"] == 0].head()"
   ]
  },
  {
   "cell_type": "code",
   "execution_count": 29,
   "metadata": {},
   "outputs": [
    {
     "data": {
      "text/html": [
       "<div>\n",
       "<style scoped>\n",
       "    .dataframe tbody tr th:only-of-type {\n",
       "        vertical-align: middle;\n",
       "    }\n",
       "\n",
       "    .dataframe tbody tr th {\n",
       "        vertical-align: top;\n",
       "    }\n",
       "\n",
       "    .dataframe thead th {\n",
       "        text-align: right;\n",
       "    }\n",
       "</style>\n",
       "<table border=\"1\" class=\"dataframe\">\n",
       "  <thead>\n",
       "    <tr style=\"text-align: right;\">\n",
       "      <th></th>\n",
       "      <th>order_id</th>\n",
       "      <th>customer_unique_id</th>\n",
       "      <th>order_status</th>\n",
       "      <th>review_score</th>\n",
       "      <th>review_length</th>\n",
       "      <th>review_reation_date</th>\n",
       "    </tr>\n",
       "  </thead>\n",
       "  <tbody>\n",
       "    <tr>\n",
       "      <th>58892</th>\n",
       "      <td>0f1a032292563a581f27eac807f97a05</td>\n",
       "      <td>b5b2a7fd4d491c96d488db899e42e0e2</td>\n",
       "      <td>delivered</td>\n",
       "      <td>5</td>\n",
       "      <td>5</td>\n",
       "      <td>2018-07-31</td>\n",
       "    </tr>\n",
       "    <tr>\n",
       "      <th>22189</th>\n",
       "      <td>d5499e385aef94ea76d2ea5e6a73e60a</td>\n",
       "      <td>0d1b072f720c3e2778a1b93b937ec8ac</td>\n",
       "      <td>delivered</td>\n",
       "      <td>5</td>\n",
       "      <td>5</td>\n",
       "      <td>2017-03-04</td>\n",
       "    </tr>\n",
       "    <tr>\n",
       "      <th>54021</th>\n",
       "      <td>0eb7dc4e9168fd2e3bc791983492d99a</td>\n",
       "      <td>22f2ac2a52ef231ad6d14660da9054ee</td>\n",
       "      <td>delivered</td>\n",
       "      <td>5</td>\n",
       "      <td>5</td>\n",
       "      <td>2018-07-13</td>\n",
       "    </tr>\n",
       "    <tr>\n",
       "      <th>28262</th>\n",
       "      <td>c588d6fe9640b6198171ed8c30981057</td>\n",
       "      <td>c49003818eeffa06a089d621c92f05c0</td>\n",
       "      <td>delivered</td>\n",
       "      <td>5</td>\n",
       "      <td>5</td>\n",
       "      <td>2018-07-10</td>\n",
       "    </tr>\n",
       "    <tr>\n",
       "      <th>96735</th>\n",
       "      <td>eddc2675550fd30e8c067b3fdd08ad60</td>\n",
       "      <td>b903cf485dbbbca3620a415d018565f6</td>\n",
       "      <td>delivered</td>\n",
       "      <td>5</td>\n",
       "      <td>5</td>\n",
       "      <td>2017-11-23</td>\n",
       "    </tr>\n",
       "    <tr>\n",
       "      <th>...</th>\n",
       "      <td>...</td>\n",
       "      <td>...</td>\n",
       "      <td>...</td>\n",
       "      <td>...</td>\n",
       "      <td>...</td>\n",
       "      <td>...</td>\n",
       "    </tr>\n",
       "    <tr>\n",
       "      <th>33769</th>\n",
       "      <td>b1a000260e2f3760e5ec18566db7d592</td>\n",
       "      <td>0f2bf926e0f3cdc9092f3388063eec2e</td>\n",
       "      <td>delivered</td>\n",
       "      <td>4</td>\n",
       "      <td>0</td>\n",
       "      <td>2017-06-30</td>\n",
       "    </tr>\n",
       "    <tr>\n",
       "      <th>33772</th>\n",
       "      <td>85b4db0acc8f67917cb9245d8547ecaa</td>\n",
       "      <td>fe40c8ed5d902c8ec1032044a223b285</td>\n",
       "      <td>shipped</td>\n",
       "      <td>1</td>\n",
       "      <td>0</td>\n",
       "      <td>2018-03-24</td>\n",
       "    </tr>\n",
       "    <tr>\n",
       "      <th>33773</th>\n",
       "      <td>10856b02e17c5d56a06c2ee75079d338</td>\n",
       "      <td>6c00d2b9180327258ff03b6acd57ded1</td>\n",
       "      <td>delivered</td>\n",
       "      <td>5</td>\n",
       "      <td>0</td>\n",
       "      <td>2018-01-11</td>\n",
       "    </tr>\n",
       "    <tr>\n",
       "      <th>33774</th>\n",
       "      <td>9645c5cc1c315607f2524b2189d3efe1</td>\n",
       "      <td>be96f24255f8b90d5401437eb2f56c83</td>\n",
       "      <td>delivered</td>\n",
       "      <td>5</td>\n",
       "      <td>0</td>\n",
       "      <td>2017-07-07</td>\n",
       "    </tr>\n",
       "    <tr>\n",
       "      <th>99991</th>\n",
       "      <td>66dea50a8b16d9b4dee7af250b4be1a5</td>\n",
       "      <td>60350aa974b26ff12caad89e55993bd6</td>\n",
       "      <td>delivered</td>\n",
       "      <td>5</td>\n",
       "      <td>0</td>\n",
       "      <td>2018-03-17</td>\n",
       "    </tr>\n",
       "  </tbody>\n",
       "</table>\n",
       "<p>60369 rows × 6 columns</p>\n",
       "</div>"
      ],
      "text/plain": [
       "                               order_id                customer_unique_id  \\\n",
       "58892  0f1a032292563a581f27eac807f97a05  b5b2a7fd4d491c96d488db899e42e0e2   \n",
       "22189  d5499e385aef94ea76d2ea5e6a73e60a  0d1b072f720c3e2778a1b93b937ec8ac   \n",
       "54021  0eb7dc4e9168fd2e3bc791983492d99a  22f2ac2a52ef231ad6d14660da9054ee   \n",
       "28262  c588d6fe9640b6198171ed8c30981057  c49003818eeffa06a089d621c92f05c0   \n",
       "96735  eddc2675550fd30e8c067b3fdd08ad60  b903cf485dbbbca3620a415d018565f6   \n",
       "...                                 ...                               ...   \n",
       "33769  b1a000260e2f3760e5ec18566db7d592  0f2bf926e0f3cdc9092f3388063eec2e   \n",
       "33772  85b4db0acc8f67917cb9245d8547ecaa  fe40c8ed5d902c8ec1032044a223b285   \n",
       "33773  10856b02e17c5d56a06c2ee75079d338  6c00d2b9180327258ff03b6acd57ded1   \n",
       "33774  9645c5cc1c315607f2524b2189d3efe1  be96f24255f8b90d5401437eb2f56c83   \n",
       "99991  66dea50a8b16d9b4dee7af250b4be1a5  60350aa974b26ff12caad89e55993bd6   \n",
       "\n",
       "      order_status  review_score  review_length review_reation_date  \n",
       "58892    delivered             5              5          2018-07-31  \n",
       "22189    delivered             5              5          2017-03-04  \n",
       "54021    delivered             5              5          2018-07-13  \n",
       "28262    delivered             5              5          2018-07-10  \n",
       "96735    delivered             5              5          2017-11-23  \n",
       "...            ...           ...            ...                 ...  \n",
       "33769    delivered             4              0          2017-06-30  \n",
       "33772      shipped             1              0          2018-03-24  \n",
       "33773    delivered             5              0          2018-01-11  \n",
       "33774    delivered             5              0          2017-07-07  \n",
       "99991    delivered             5              0          2018-03-17  \n",
       "\n",
       "[60369 rows x 6 columns]"
      ]
     },
     "execution_count": 29,
     "metadata": {},
     "output_type": "execute_result"
    }
   ],
   "source": [
    "order_reviews.loc[(order_reviews[\"review_length\"] < 6)].sort_values(by=\"review_length\", ascending=False)"
   ]
  },
  {
   "cell_type": "code",
   "execution_count": 30,
   "metadata": {},
   "outputs": [
    {
     "data": {
      "text/html": [
       "<div>\n",
       "<style scoped>\n",
       "    .dataframe tbody tr th:only-of-type {\n",
       "        vertical-align: middle;\n",
       "    }\n",
       "\n",
       "    .dataframe tbody tr th {\n",
       "        vertical-align: top;\n",
       "    }\n",
       "\n",
       "    .dataframe thead th {\n",
       "        text-align: right;\n",
       "    }\n",
       "</style>\n",
       "<table border=\"1\" class=\"dataframe\">\n",
       "  <thead>\n",
       "    <tr style=\"text-align: right;\">\n",
       "      <th></th>\n",
       "      <th>order_id</th>\n",
       "      <th>customer_unique_id</th>\n",
       "      <th>order_status</th>\n",
       "      <th>review_score</th>\n",
       "      <th>review_reation_date</th>\n",
       "      <th>left_review</th>\n",
       "    </tr>\n",
       "  </thead>\n",
       "  <tbody>\n",
       "    <tr>\n",
       "      <th>0</th>\n",
       "      <td>e481f51cbdc54678b7cc49136f2d6af7</td>\n",
       "      <td>7c396fd4830fd04220f754e42b4e5bff</td>\n",
       "      <td>delivered</td>\n",
       "      <td>4</td>\n",
       "      <td>2017-10-11</td>\n",
       "      <td>1</td>\n",
       "    </tr>\n",
       "    <tr>\n",
       "      <th>1</th>\n",
       "      <td>53cdb2fc8bc7dce0b6741e2150273451</td>\n",
       "      <td>af07308b275d755c9edb36a90c618231</td>\n",
       "      <td>delivered</td>\n",
       "      <td>4</td>\n",
       "      <td>2018-08-08</td>\n",
       "      <td>0</td>\n",
       "    </tr>\n",
       "    <tr>\n",
       "      <th>2</th>\n",
       "      <td>47770eb9100c2d0c44946d9cf07ec65d</td>\n",
       "      <td>3a653a41f6f9fc3d2a113cf8398680e8</td>\n",
       "      <td>delivered</td>\n",
       "      <td>5</td>\n",
       "      <td>2018-08-18</td>\n",
       "      <td>0</td>\n",
       "    </tr>\n",
       "    <tr>\n",
       "      <th>3</th>\n",
       "      <td>949d5b44dbf5de918fe9c16f97b45f8a</td>\n",
       "      <td>7c142cf63193a1473d2e66489a9ae977</td>\n",
       "      <td>delivered</td>\n",
       "      <td>5</td>\n",
       "      <td>2017-12-03</td>\n",
       "      <td>1</td>\n",
       "    </tr>\n",
       "    <tr>\n",
       "      <th>4</th>\n",
       "      <td>ad21c59c0840e6cb83a9ceb5573f8159</td>\n",
       "      <td>72632f0f9dd73dfee390c9b22eb56dd6</td>\n",
       "      <td>delivered</td>\n",
       "      <td>5</td>\n",
       "      <td>2018-02-17</td>\n",
       "      <td>0</td>\n",
       "    </tr>\n",
       "  </tbody>\n",
       "</table>\n",
       "</div>"
      ],
      "text/plain": [
       "                           order_id                customer_unique_id  \\\n",
       "0  e481f51cbdc54678b7cc49136f2d6af7  7c396fd4830fd04220f754e42b4e5bff   \n",
       "1  53cdb2fc8bc7dce0b6741e2150273451  af07308b275d755c9edb36a90c618231   \n",
       "2  47770eb9100c2d0c44946d9cf07ec65d  3a653a41f6f9fc3d2a113cf8398680e8   \n",
       "3  949d5b44dbf5de918fe9c16f97b45f8a  7c142cf63193a1473d2e66489a9ae977   \n",
       "4  ad21c59c0840e6cb83a9ceb5573f8159  72632f0f9dd73dfee390c9b22eb56dd6   \n",
       "\n",
       "  order_status  review_score review_reation_date  left_review  \n",
       "0    delivered             4          2017-10-11            1  \n",
       "1    delivered             4          2018-08-08            0  \n",
       "2    delivered             5          2018-08-18            0  \n",
       "3    delivered             5          2017-12-03            1  \n",
       "4    delivered             5          2018-02-17            0  "
      ]
     },
     "execution_count": 30,
     "metadata": {},
     "output_type": "execute_result"
    }
   ],
   "source": [
    "order_reviews[\"left_review\"] = order_reviews.apply(lambda x: 1 if x[\"review_length\"] >= 100 else 0, axis=1)\n",
    "order_reviews.drop(columns=[\"review_length\"], inplace=True)\n",
    "order_reviews.head()"
   ]
  },
  {
   "cell_type": "code",
   "execution_count": 31,
   "metadata": {},
   "outputs": [
    {
     "data": {
      "text/html": [
       "<div>\n",
       "<style scoped>\n",
       "    .dataframe tbody tr th:only-of-type {\n",
       "        vertical-align: middle;\n",
       "    }\n",
       "\n",
       "    .dataframe tbody tr th {\n",
       "        vertical-align: top;\n",
       "    }\n",
       "\n",
       "    .dataframe thead th {\n",
       "        text-align: right;\n",
       "    }\n",
       "</style>\n",
       "<table border=\"1\" class=\"dataframe\">\n",
       "  <thead>\n",
       "    <tr style=\"text-align: right;\">\n",
       "      <th></th>\n",
       "      <th>customer_unique_id</th>\n",
       "      <th>last_order_date</th>\n",
       "      <th>total_orders</th>\n",
       "      <th>average_days_between_orders</th>\n",
       "      <th>last_order_time</th>\n",
       "      <th>total_reviews</th>\n",
       "      <th>average_review_score</th>\n",
       "    </tr>\n",
       "  </thead>\n",
       "  <tbody>\n",
       "    <tr>\n",
       "      <th>0</th>\n",
       "      <td>0000366f3b9a7992bf8c76cfdf3221e2</td>\n",
       "      <td>2018-05-10</td>\n",
       "      <td>1</td>\n",
       "      <td>0.0</td>\n",
       "      <td>10:56:27</td>\n",
       "      <td>1</td>\n",
       "      <td>5.0</td>\n",
       "    </tr>\n",
       "    <tr>\n",
       "      <th>1</th>\n",
       "      <td>0000b849f77a49e4a4ce2b2a4ca5be3f</td>\n",
       "      <td>2018-05-07</td>\n",
       "      <td>1</td>\n",
       "      <td>0.0</td>\n",
       "      <td>11:11:27</td>\n",
       "      <td>1</td>\n",
       "      <td>4.0</td>\n",
       "    </tr>\n",
       "    <tr>\n",
       "      <th>2</th>\n",
       "      <td>0000f46a3911fa3c0805444483337064</td>\n",
       "      <td>2017-03-10</td>\n",
       "      <td>1</td>\n",
       "      <td>0.0</td>\n",
       "      <td>21:05:03</td>\n",
       "      <td>1</td>\n",
       "      <td>3.0</td>\n",
       "    </tr>\n",
       "    <tr>\n",
       "      <th>3</th>\n",
       "      <td>0000f6ccb0745a6a4b88665a16c9f078</td>\n",
       "      <td>2017-10-12</td>\n",
       "      <td>1</td>\n",
       "      <td>0.0</td>\n",
       "      <td>20:29:41</td>\n",
       "      <td>1</td>\n",
       "      <td>4.0</td>\n",
       "    </tr>\n",
       "    <tr>\n",
       "      <th>4</th>\n",
       "      <td>0004aac84e0df4da2b147fca70cf8255</td>\n",
       "      <td>2017-11-14</td>\n",
       "      <td>1</td>\n",
       "      <td>0.0</td>\n",
       "      <td>19:45:42</td>\n",
       "      <td>1</td>\n",
       "      <td>5.0</td>\n",
       "    </tr>\n",
       "  </tbody>\n",
       "</table>\n",
       "</div>"
      ],
      "text/plain": [
       "                 customer_unique_id last_order_date  total_orders  \\\n",
       "0  0000366f3b9a7992bf8c76cfdf3221e2      2018-05-10             1   \n",
       "1  0000b849f77a49e4a4ce2b2a4ca5be3f      2018-05-07             1   \n",
       "2  0000f46a3911fa3c0805444483337064      2017-03-10             1   \n",
       "3  0000f6ccb0745a6a4b88665a16c9f078      2017-10-12             1   \n",
       "4  0004aac84e0df4da2b147fca70cf8255      2017-11-14             1   \n",
       "\n",
       "   average_days_between_orders last_order_time  total_reviews  \\\n",
       "0                          0.0        10:56:27              1   \n",
       "1                          0.0        11:11:27              1   \n",
       "2                          0.0        21:05:03              1   \n",
       "3                          0.0        20:29:41              1   \n",
       "4                          0.0        19:45:42              1   \n",
       "\n",
       "   average_review_score  \n",
       "0                   5.0  \n",
       "1                   4.0  \n",
       "2                   3.0  \n",
       "3                   4.0  \n",
       "4                   5.0  "
      ]
     },
     "execution_count": 31,
     "metadata": {},
     "output_type": "execute_result"
    }
   ],
   "source": [
    "# add to the result dataframe\n",
    "result = result.merge(reviews_by_customer, on=\"customer_unique_id\", how=\"left\")\n",
    "result.head()"
   ]
  },
  {
   "cell_type": "markdown",
   "metadata": {},
   "source": [
    "## What do they order and how much they pay?"
   ]
  },
  {
   "cell_type": "code",
   "execution_count": 32,
   "metadata": {},
   "outputs": [
    {
     "data": {
      "text/html": [
       "<div>\n",
       "<style scoped>\n",
       "    .dataframe tbody tr th:only-of-type {\n",
       "        vertical-align: middle;\n",
       "    }\n",
       "\n",
       "    .dataframe tbody tr th {\n",
       "        vertical-align: top;\n",
       "    }\n",
       "\n",
       "    .dataframe thead th {\n",
       "        text-align: right;\n",
       "    }\n",
       "</style>\n",
       "<table border=\"1\" class=\"dataframe\">\n",
       "  <thead>\n",
       "    <tr style=\"text-align: right;\">\n",
       "      <th></th>\n",
       "      <th>customer_unique_id</th>\n",
       "      <th>order_id</th>\n",
       "      <th>price</th>\n",
       "      <th>freight_value</th>\n",
       "      <th>product_category_name_english</th>\n",
       "      <th>product_description_lenght</th>\n",
       "      <th>product_photos_qty</th>\n",
       "    </tr>\n",
       "  </thead>\n",
       "  <tbody>\n",
       "    <tr>\n",
       "      <th>0</th>\n",
       "      <td>861eff4711a542e4b93843c6dd7febb0</td>\n",
       "      <td>00e7ee1b050b8499577073aeb2a297a1</td>\n",
       "      <td>124.99</td>\n",
       "      <td>21.88</td>\n",
       "      <td>office_furniture</td>\n",
       "      <td>1141.0</td>\n",
       "      <td>1.0</td>\n",
       "    </tr>\n",
       "    <tr>\n",
       "      <th>1</th>\n",
       "      <td>290c77bc529b7ac935b93aa66c333dc3</td>\n",
       "      <td>29150127e6685892b6eab3eec79f59c7</td>\n",
       "      <td>289.00</td>\n",
       "      <td>46.48</td>\n",
       "      <td>housewares</td>\n",
       "      <td>1002.0</td>\n",
       "      <td>3.0</td>\n",
       "    </tr>\n",
       "    <tr>\n",
       "      <th>2</th>\n",
       "      <td>060e732b5b29e8181a18229c7b0b2b5e</td>\n",
       "      <td>b2059ed67ce144a36e2aa97d2c9e9ad2</td>\n",
       "      <td>139.94</td>\n",
       "      <td>17.79</td>\n",
       "      <td>office_furniture</td>\n",
       "      <td>955.0</td>\n",
       "      <td>1.0</td>\n",
       "    </tr>\n",
       "    <tr>\n",
       "      <th>3</th>\n",
       "      <td>259dac757896d24d7702b9acbbff3f3c</td>\n",
       "      <td>951670f92359f4fe4a63112aa7306eba</td>\n",
       "      <td>149.94</td>\n",
       "      <td>23.36</td>\n",
       "      <td>office_furniture</td>\n",
       "      <td>1066.0</td>\n",
       "      <td>1.0</td>\n",
       "    </tr>\n",
       "    <tr>\n",
       "      <th>4</th>\n",
       "      <td>345ecd01c38d18a9036ed96c73b8d066</td>\n",
       "      <td>6b7d50bd145f6fc7f33cebabd7e49d0f</td>\n",
       "      <td>230.00</td>\n",
       "      <td>22.25</td>\n",
       "      <td>home_confort</td>\n",
       "      <td>407.0</td>\n",
       "      <td>1.0</td>\n",
       "    </tr>\n",
       "  </tbody>\n",
       "</table>\n",
       "</div>"
      ],
      "text/plain": [
       "                 customer_unique_id                          order_id   price  \\\n",
       "0  861eff4711a542e4b93843c6dd7febb0  00e7ee1b050b8499577073aeb2a297a1  124.99   \n",
       "1  290c77bc529b7ac935b93aa66c333dc3  29150127e6685892b6eab3eec79f59c7  289.00   \n",
       "2  060e732b5b29e8181a18229c7b0b2b5e  b2059ed67ce144a36e2aa97d2c9e9ad2  139.94   \n",
       "3  259dac757896d24d7702b9acbbff3f3c  951670f92359f4fe4a63112aa7306eba  149.94   \n",
       "4  345ecd01c38d18a9036ed96c73b8d066  6b7d50bd145f6fc7f33cebabd7e49d0f  230.00   \n",
       "\n",
       "   freight_value product_category_name_english  product_description_lenght  \\\n",
       "0          21.88              office_furniture                      1141.0   \n",
       "1          46.48                    housewares                      1002.0   \n",
       "2          17.79              office_furniture                       955.0   \n",
       "3          23.36              office_furniture                      1066.0   \n",
       "4          22.25                  home_confort                       407.0   \n",
       "\n",
       "   product_photos_qty  \n",
       "0                 1.0  \n",
       "1                 3.0  \n",
       "2                 1.0  \n",
       "3                 1.0  \n",
       "4                 1.0  "
      ]
     },
     "execution_count": 32,
     "metadata": {},
     "output_type": "execute_result"
    }
   ],
   "source": [
    "products_query = \"\"\"\n",
    "    SELECT c.customer_unique_id, o.order_id, oi.price, oi.freight_value, t.product_category_name_english, p.product_description_lenght, p.product_photos_qty\n",
    "    FROM customers c\n",
    "    LEFT JOIN orders o ON c.customer_id = o.customer_id\n",
    "    JOIN order_items oi ON o.order_id = oi.order_id\n",
    "    JOIN products p ON oi.product_id = p.product_id\n",
    "    LEFT JOIN translation t ON p.product_category_name = t.product_category_name\n",
    "\"\"\"\n",
    "\n",
    "df_orders_detail = pd.read_sql_query(products_query, connection)\n",
    "df_orders_detail.head()"
   ]
  },
  {
   "cell_type": "code",
   "execution_count": 33,
   "metadata": {},
   "outputs": [
    {
     "data": {
      "text/html": [
       "<div>\n",
       "<style scoped>\n",
       "    .dataframe tbody tr th:only-of-type {\n",
       "        vertical-align: middle;\n",
       "    }\n",
       "\n",
       "    .dataframe tbody tr th {\n",
       "        vertical-align: top;\n",
       "    }\n",
       "\n",
       "    .dataframe thead th {\n",
       "        text-align: right;\n",
       "    }\n",
       "</style>\n",
       "<table border=\"1\" class=\"dataframe\">\n",
       "  <thead>\n",
       "    <tr style=\"text-align: right;\">\n",
       "      <th></th>\n",
       "      <th>customer_unique_id</th>\n",
       "      <th>order_id</th>\n",
       "      <th>product_category</th>\n",
       "      <th>total_price</th>\n",
       "      <th>total_freight</th>\n",
       "      <th>avg_product_description_lenght</th>\n",
       "      <th>avg_product_photos_qty</th>\n",
       "    </tr>\n",
       "  </thead>\n",
       "  <tbody>\n",
       "    <tr>\n",
       "      <th>98661</th>\n",
       "      <td>fffcf5a5ff07b0908bd4e2dbc735a684</td>\n",
       "      <td>725cf8e9c24e679a8a5a32cb92c9ce1e</td>\n",
       "      <td>[health_beauty, health_beauty]</td>\n",
       "      <td>1570.00</td>\n",
       "      <td>497.42</td>\n",
       "      <td>478.5</td>\n",
       "      <td>1.0</td>\n",
       "    </tr>\n",
       "    <tr>\n",
       "      <th>98662</th>\n",
       "      <td>fffea47cd6d3cc0a88bd621562a9d061</td>\n",
       "      <td>c71b9252fd7b3b263aaa4cb09319a323</td>\n",
       "      <td>[baby]</td>\n",
       "      <td>64.89</td>\n",
       "      <td>19.69</td>\n",
       "      <td>506.0</td>\n",
       "      <td>2.0</td>\n",
       "    </tr>\n",
       "    <tr>\n",
       "      <th>98663</th>\n",
       "      <td>ffff371b4d645b6ecea244b27531430a</td>\n",
       "      <td>fdc45e6c7555e6cb3cc0daca2557dbe1</td>\n",
       "      <td>[auto]</td>\n",
       "      <td>89.90</td>\n",
       "      <td>22.56</td>\n",
       "      <td>716.0</td>\n",
       "      <td>5.0</td>\n",
       "    </tr>\n",
       "    <tr>\n",
       "      <th>98664</th>\n",
       "      <td>ffff5962728ec6157033ef9805bacc48</td>\n",
       "      <td>94d3ee0bc2a0af9d4fa47a4d63616e8d</td>\n",
       "      <td>[watches_gifts]</td>\n",
       "      <td>115.00</td>\n",
       "      <td>18.69</td>\n",
       "      <td>591.0</td>\n",
       "      <td>3.0</td>\n",
       "    </tr>\n",
       "    <tr>\n",
       "      <th>98665</th>\n",
       "      <td>ffffd2657e2aad2907e67c3e9daecbeb</td>\n",
       "      <td>f79a35da168301ae56922475da21117b</td>\n",
       "      <td>[perfumery]</td>\n",
       "      <td>56.99</td>\n",
       "      <td>14.57</td>\n",
       "      <td>1003.0</td>\n",
       "      <td>2.0</td>\n",
       "    </tr>\n",
       "  </tbody>\n",
       "</table>\n",
       "</div>"
      ],
      "text/plain": [
       "                     customer_unique_id                          order_id  \\\n",
       "98661  fffcf5a5ff07b0908bd4e2dbc735a684  725cf8e9c24e679a8a5a32cb92c9ce1e   \n",
       "98662  fffea47cd6d3cc0a88bd621562a9d061  c71b9252fd7b3b263aaa4cb09319a323   \n",
       "98663  ffff371b4d645b6ecea244b27531430a  fdc45e6c7555e6cb3cc0daca2557dbe1   \n",
       "98664  ffff5962728ec6157033ef9805bacc48  94d3ee0bc2a0af9d4fa47a4d63616e8d   \n",
       "98665  ffffd2657e2aad2907e67c3e9daecbeb  f79a35da168301ae56922475da21117b   \n",
       "\n",
       "                     product_category  total_price  total_freight  \\\n",
       "98661  [health_beauty, health_beauty]      1570.00         497.42   \n",
       "98662                          [baby]        64.89          19.69   \n",
       "98663                          [auto]        89.90          22.56   \n",
       "98664                 [watches_gifts]       115.00          18.69   \n",
       "98665                     [perfumery]        56.99          14.57   \n",
       "\n",
       "       avg_product_description_lenght  avg_product_photos_qty  \n",
       "98661                           478.5                     1.0  \n",
       "98662                           506.0                     2.0  \n",
       "98663                           716.0                     5.0  \n",
       "98664                           591.0                     3.0  \n",
       "98665                          1003.0                     2.0  "
      ]
     },
     "execution_count": 33,
     "metadata": {},
     "output_type": "execute_result"
    }
   ],
   "source": [
    "# group by customer and order then create a column product_category which is a list of all the products bought by the customer\n",
    "df_orders_detail_agg = df_orders_detail.groupby([\"customer_unique_id\", \"order_id\"]).agg(\n",
    "    product_category=(\"product_category_name_english\", lambda x: list(x)),\n",
    "    total_price=(\"price\", \"sum\"),\n",
    "    total_freight=(\"freight_value\", \"sum\"),\n",
    "    avg_product_description_lenght=(\"product_description_lenght\", \"mean\"),\n",
    "    avg_product_photos_qty=(\"product_photos_qty\", \"mean\"),\n",
    ").reset_index()\n",
    "\n",
    "df_orders_detail_agg.tail()"
   ]
  },
  {
   "cell_type": "markdown",
   "metadata": {},
   "source": [
    "## Select data according to RFM - Recency, Frequency, Monetary"
   ]
  },
  {
   "cell_type": "code",
   "execution_count": 5,
   "metadata": {},
   "outputs": [
    {
     "data": {
      "text/html": [
       "<div>\n",
       "<style scoped>\n",
       "    .dataframe tbody tr th:only-of-type {\n",
       "        vertical-align: middle;\n",
       "    }\n",
       "\n",
       "    .dataframe tbody tr th {\n",
       "        vertical-align: top;\n",
       "    }\n",
       "\n",
       "    .dataframe thead th {\n",
       "        text-align: right;\n",
       "    }\n",
       "</style>\n",
       "<table border=\"1\" class=\"dataframe\">\n",
       "  <thead>\n",
       "    <tr style=\"text-align: right;\">\n",
       "      <th></th>\n",
       "      <th>customer_unique_id</th>\n",
       "      <th>order_id</th>\n",
       "      <th>order_status</th>\n",
       "      <th>order_purchase_timestamp</th>\n",
       "      <th>price</th>\n",
       "      <th>freight_value</th>\n",
       "    </tr>\n",
       "  </thead>\n",
       "  <tbody>\n",
       "    <tr>\n",
       "      <th>0</th>\n",
       "      <td>7c396fd4830fd04220f754e42b4e5bff</td>\n",
       "      <td>e481f51cbdc54678b7cc49136f2d6af7</td>\n",
       "      <td>delivered</td>\n",
       "      <td>2017-10-02 10:56:33</td>\n",
       "      <td>29.99</td>\n",
       "      <td>8.72</td>\n",
       "    </tr>\n",
       "    <tr>\n",
       "      <th>1</th>\n",
       "      <td>af07308b275d755c9edb36a90c618231</td>\n",
       "      <td>53cdb2fc8bc7dce0b6741e2150273451</td>\n",
       "      <td>delivered</td>\n",
       "      <td>2018-07-24 20:41:37</td>\n",
       "      <td>118.70</td>\n",
       "      <td>22.76</td>\n",
       "    </tr>\n",
       "    <tr>\n",
       "      <th>2</th>\n",
       "      <td>3a653a41f6f9fc3d2a113cf8398680e8</td>\n",
       "      <td>47770eb9100c2d0c44946d9cf07ec65d</td>\n",
       "      <td>delivered</td>\n",
       "      <td>2018-08-08 08:38:49</td>\n",
       "      <td>159.90</td>\n",
       "      <td>19.22</td>\n",
       "    </tr>\n",
       "    <tr>\n",
       "      <th>3</th>\n",
       "      <td>7c142cf63193a1473d2e66489a9ae977</td>\n",
       "      <td>949d5b44dbf5de918fe9c16f97b45f8a</td>\n",
       "      <td>delivered</td>\n",
       "      <td>2017-11-18 19:28:06</td>\n",
       "      <td>45.00</td>\n",
       "      <td>27.20</td>\n",
       "    </tr>\n",
       "    <tr>\n",
       "      <th>4</th>\n",
       "      <td>72632f0f9dd73dfee390c9b22eb56dd6</td>\n",
       "      <td>ad21c59c0840e6cb83a9ceb5573f8159</td>\n",
       "      <td>delivered</td>\n",
       "      <td>2018-02-13 21:18:39</td>\n",
       "      <td>19.90</td>\n",
       "      <td>8.72</td>\n",
       "    </tr>\n",
       "  </tbody>\n",
       "</table>\n",
       "</div>"
      ],
      "text/plain": [
       "                 customer_unique_id                          order_id  \\\n",
       "0  7c396fd4830fd04220f754e42b4e5bff  e481f51cbdc54678b7cc49136f2d6af7   \n",
       "1  af07308b275d755c9edb36a90c618231  53cdb2fc8bc7dce0b6741e2150273451   \n",
       "2  3a653a41f6f9fc3d2a113cf8398680e8  47770eb9100c2d0c44946d9cf07ec65d   \n",
       "3  7c142cf63193a1473d2e66489a9ae977  949d5b44dbf5de918fe9c16f97b45f8a   \n",
       "4  72632f0f9dd73dfee390c9b22eb56dd6  ad21c59c0840e6cb83a9ceb5573f8159   \n",
       "\n",
       "  order_status order_purchase_timestamp   price  freight_value  \n",
       "0    delivered      2017-10-02 10:56:33   29.99           8.72  \n",
       "1    delivered      2018-07-24 20:41:37  118.70          22.76  \n",
       "2    delivered      2018-08-08 08:38:49  159.90          19.22  \n",
       "3    delivered      2017-11-18 19:28:06   45.00          27.20  \n",
       "4    delivered      2018-02-13 21:18:39   19.90           8.72  "
      ]
     },
     "execution_count": 5,
     "metadata": {},
     "output_type": "execute_result"
    }
   ],
   "source": [
    "rfm_query = \"\"\"\n",
    "    SELECT\n",
    "    c.customer_unique_id,\n",
    "    o.order_id,\n",
    "    o.order_status, o.order_purchase_timestamp,\n",
    "    oi.price, oi.freight_value\n",
    "    FROM orders o\n",
    "    LEFT JOIN customers c ON o.customer_id = c.customer_id\n",
    "    LEFT JOIN order_items oi ON o.order_id = oi.order_id\n",
    "\"\"\"\n",
    "df_rfm = pd.read_sql_query(rfm_query, connection)\n",
    "df_rfm.head()\n"
   ]
  },
  {
   "cell_type": "markdown",
   "metadata": {},
   "source": [
    "# GET FULL INFORMATION"
   ]
  },
  {
   "cell_type": "code",
   "execution_count": 4,
   "metadata": {},
   "outputs": [
    {
     "name": "stdout",
     "output_type": "stream",
     "text": [
      "<class 'pandas.core.frame.DataFrame'>\n",
      "RangeIndex: 117918 entries, 0 to 117917\n",
      "Data columns (total 24 columns):\n",
      " #   Column                         Non-Null Count   Dtype  \n",
      "---  ------                         --------------   -----  \n",
      " 0   customer_unique_id             117918 non-null  object \n",
      " 1   customer_state                 117918 non-null  object \n",
      " 2   customer_zip_code_prefix       117918 non-null  int64  \n",
      " 3   order_id                       117918 non-null  object \n",
      " 4   order_status                   117918 non-null  object \n",
      " 5   order_purchase_timestamp       117918 non-null  object \n",
      " 6   order_approved_at              117903 non-null  object \n",
      " 7   order_delivered_customer_date  115378 non-null  object \n",
      " 8   order_estimated_delivery_date  117918 non-null  object \n",
      " 9   item_price                     117918 non-null  float64\n",
      " 10  freight_value                  117918 non-null  float64\n",
      " 11  payment_value                  117918 non-null  float64\n",
      " 12  payment_sequential             117918 non-null  int64  \n",
      " 13  payment_type                   117918 non-null  object \n",
      " 14  payment_installments           117918 non-null  int64  \n",
      " 15  seller_id                      117918 non-null  object \n",
      " 16  seller_state                   117918 non-null  object \n",
      " 17  seller_zip_code_prefix         117918 non-null  int64  \n",
      " 18  review_score                   117918 non-null  int64  \n",
      " 19  review_length                  117918 non-null  int64  \n",
      " 20  product_description_lenght     116211 non-null  float64\n",
      " 21  product_photos_qty             116211 non-null  float64\n",
      " 22  product_category_name          116211 non-null  object \n",
      " 23  product_category_name_english  116186 non-null  object \n",
      "dtypes: float64(5), int64(6), object(13)\n",
      "memory usage: 21.6+ MB\n"
     ]
    }
   ],
   "source": [
    "details_query = \"\"\"\n",
    "    SELECT\n",
    "        c.customer_unique_id, c.customer_state, c.customer_zip_code_prefix,\n",
    "        o.order_id, o.order_status, o.order_purchase_timestamp, o.order_approved_at, o.order_delivered_customer_date, o.order_estimated_delivery_date,\n",
    "        oi.price as item_price, oi.freight_value,\n",
    "        pmt.payment_value, pmt.payment_sequential, pmt.payment_type, pmt.payment_installments,\n",
    "        s.seller_id, s.seller_state, s.seller_zip_code_prefix,\n",
    "        COALESCE(r.review_score,0) as review_score, COALESCE(LENGTH(r.review_comment_message),0) as review_length,\n",
    "        p.product_description_lenght, p.product_photos_qty, p.product_category_name,\n",
    "        t.product_category_name_english\n",
    "    FROM order_items oi\n",
    "    LEFT JOIN orders o ON oi.order_id = o.order_id\n",
    "    LEFT JOIN customers c ON o.customer_id = c.customer_id\n",
    "    LEFT JOIN order_pymts pmt ON o.order_id = pmt.order_id\n",
    "    LEFT JOIN order_reviews r ON o.order_id = r.order_id\n",
    "    LEFT JOIN sellers s ON oi.seller_id = s.seller_id\n",
    "    LEFT JOIN products p ON oi.product_id = p.product_id\n",
    "    LEFT JOIN translation t ON p.product_category_name = t.product_category_name\n",
    "    -- get rid of unavailable status orders\n",
    "    WHERE o.order_status != 'unavailable'\n",
    "    AND o.order_purchase_timestamp >= '2017-01-05'\n",
    "\n",
    "\"\"\"\n",
    "df_details = pd.read_sql_query(details_query, connection)\n",
    "df_details.info()"
   ]
  },
  {
   "cell_type": "markdown",
   "metadata": {},
   "source": [
    "# EXPLORATORY DATA ANALYSIS"
   ]
  },
  {
   "cell_type": "markdown",
   "metadata": {},
   "source": [
    "We are working on a dataframe based on the marketing principles RFM. We will try to answer to the following questions :\n",
    "\n",
    "- How many customers de we have ?\n",
    "- When was their last order ?\n",
    "- How often do they order ?\n",
    "- What is their average expenses ?\n",
    "- How much did they spend in total ?\n",
    "\n",
    "Before answering these questions, we shall check the quality of our data. Starting with the datatype we are working with."
   ]
  },
  {
   "cell_type": "markdown",
   "metadata": {},
   "source": [
    "## Datatypes ?"
   ]
  },
  {
   "cell_type": "code",
   "execution_count": 5,
   "metadata": {},
   "outputs": [
    {
     "name": "stdout",
     "output_type": "stream",
     "text": [
      "<class 'pandas.core.frame.DataFrame'>\n",
      "RangeIndex: 117918 entries, 0 to 117917\n",
      "Data columns (total 24 columns):\n",
      " #   Column                         Non-Null Count   Dtype  \n",
      "---  ------                         --------------   -----  \n",
      " 0   customer_unique_id             117918 non-null  object \n",
      " 1   customer_state                 117918 non-null  object \n",
      " 2   customer_zip_code_prefix       117918 non-null  int64  \n",
      " 3   order_id                       117918 non-null  object \n",
      " 4   order_status                   117918 non-null  object \n",
      " 5   order_purchase_timestamp       117918 non-null  object \n",
      " 6   order_approved_at              117903 non-null  object \n",
      " 7   order_delivered_customer_date  115378 non-null  object \n",
      " 8   order_estimated_delivery_date  117918 non-null  object \n",
      " 9   item_price                     117918 non-null  float64\n",
      " 10  freight_value                  117918 non-null  float64\n",
      " 11  payment_value                  117918 non-null  float64\n",
      " 12  payment_sequential             117918 non-null  int64  \n",
      " 13  payment_type                   117918 non-null  object \n",
      " 14  payment_installments           117918 non-null  int64  \n",
      " 15  seller_id                      117918 non-null  object \n",
      " 16  seller_state                   117918 non-null  object \n",
      " 17  seller_zip_code_prefix         117918 non-null  int64  \n",
      " 18  review_score                   117918 non-null  int64  \n",
      " 19  review_length                  117918 non-null  int64  \n",
      " 20  product_description_lenght     116211 non-null  float64\n",
      " 21  product_photos_qty             116211 non-null  float64\n",
      " 22  product_category_name          116211 non-null  object \n",
      " 23  product_category_name_english  116186 non-null  object \n",
      "dtypes: float64(5), int64(6), object(13)\n",
      "memory usage: 21.6+ MB\n"
     ]
    }
   ],
   "source": [
    "df_details.info()"
   ]
  },
  {
   "cell_type": "code",
   "execution_count": 6,
   "metadata": {},
   "outputs": [
    {
     "name": "stdout",
     "output_type": "stream",
     "text": [
      "Total number of customers : 95121\n",
      "Total number of orders : 98354\n",
      "Total number of sellers : 3068\n",
      "Sellers are from 22 different states\n"
     ]
    }
   ],
   "source": [
    "# total number of customers\n",
    "total_customers = len(df_details[\"customer_unique_id\"].unique())\n",
    "print(f\"Total number of customers : {total_customers}\")\n",
    "\n",
    "# total number of orders\n",
    "total_orders = len(df_details[\"order_id\"].unique())\n",
    "print(f\"Total number of orders : {total_orders}\")\n",
    "\n",
    "# total number of sellers\n",
    "total_sellers = len(df_details[\"seller_id\"].unique())\n",
    "print(f\"Total number of sellers : {total_sellers}\")\n",
    "\n",
    "# states where sellers are from\n",
    "sellers_state = df_details[\"seller_state\"].unique()\n",
    "print(f\"Sellers are from {len(sellers_state)} different states\")\n",
    "\n",
    "# get first order date\n"
   ]
  },
  {
   "cell_type": "markdown",
   "metadata": {},
   "source": [
    "## About sellers"
   ]
  },
  {
   "cell_type": "code",
   "execution_count": 6,
   "metadata": {},
   "outputs": [
    {
     "data": {
      "image/png": "[encoded data removed]",
      "text/plain": [
       "<Figure size 1000x1000 with 1 Axes>"
      ]
     },
     "metadata": {},
     "output_type": "display_data"
    }
   ],
   "source": [
    "# sellers by state\n",
    "sellers_by_state = df_details.groupby(\"seller_state\")[\"seller_id\"].count().sort_values(ascending=False)\n",
    "sellers_by_state = sellers_by_state.reset_index()\n",
    "sellers_by_state.columns = [\"state\", \"number_of_sellers\"]\n",
    "sellers_by_state[\"percentage\"] = round(sellers_by_state[\"number_of_sellers\"] / sellers_by_state[\"number_of_sellers\"].sum() * 100)\n",
    "\n",
    "# plot\n",
    "plt.figure(figsize=(10, 10))\n",
    "plt.pie(sellers_by_state[\"number_of_sellers\"], labels=sellers_by_state[\"state\"], autopct='%1.1f%%')\n",
    "plt.title(\"Proportion of sellers by state\")\n",
    "plt.show()"
   ]
  },
  {
   "cell_type": "code",
   "execution_count": 7,
   "metadata": {},
   "outputs": [
    {
     "data": {
      "text/plain": [
       "array(['SP', 'MG', 'ES', 'RS', 'DF', 'PR', 'SC', 'RJ', 'GO', 'BA', 'MA',\n",
       "       'PB', 'PE', 'CE', 'MT', 'PI', 'RN', 'MS', 'PA', 'AM', 'SE', 'RO'],\n",
       "      dtype=object)"
      ]
     },
     "execution_count": 7,
     "metadata": {},
     "output_type": "execute_result"
    }
   ],
   "source": [
    "df_details[\"seller_state\"].unique()"
   ]
  },
  {
   "cell_type": "code",
   "execution_count": 8,
   "metadata": {},
   "outputs": [
    {
     "data": {
      "text/plain": [
       "array(['SP', 'BA', 'GO', 'RN', 'PR', 'RS', 'RJ', 'MG', 'SC', 'RR', 'PE',\n",
       "       'TO', 'CE', 'DF', 'SE', 'MT', 'PB', 'PA', 'RO', 'ES', 'AP', 'MS',\n",
       "       'MA', 'PI', 'AL', 'AC', 'AM'], dtype=object)"
      ]
     },
     "execution_count": 8,
     "metadata": {},
     "output_type": "execute_result"
    }
   ],
   "source": [
    "df_details[\"customer_state\"].unique()"
   ]
  },
  {
   "cell_type": "code",
   "execution_count": 9,
   "metadata": {},
   "outputs": [],
   "source": [
    "# group states by areas\n",
    "center_west = [\"PA\", \"AC\", \"AM\", \"RO\", \"RR\", \"AP\"]\n",
    "north_east = [\"TO\", \"MA\", \"PI\", \"CE\", \"RN\", \"PB\", \"PE\", \"AL\", \"SE\", \"BA\"]\n",
    "north = [\"MS\", \"MT\", \"GO\", \"DF\"]\n",
    "south_east = [\"SP\", \"RJ\", \"MG\", \"ES\"]\n",
    "south = [\"RS\", \"SC\", \"PR\"]"
   ]
  },
  {
   "cell_type": "code",
   "execution_count": 10,
   "metadata": {},
   "outputs": [],
   "source": [
    "def get_area(state):\n",
    "    if state in center_west:\n",
    "        return \"Center-West\"\n",
    "    elif state in north_east:\n",
    "        return \"North-East\"\n",
    "    elif state in north:\n",
    "        return \"North\"\n",
    "    elif state in south_east:\n",
    "        return \"South-East\"\n",
    "    elif state in south:\n",
    "        return \"South\"\n",
    "    else:\n",
    "        return \"Other\"\n",
    "\n",
    "df_details[\"customer_area\"] = df_details[\"customer_state\"].apply(get_area)\n",
    "df_details[\"seller_area\"] = df_details[\"seller_state\"].apply(get_area)"
   ]
  },
  {
   "cell_type": "markdown",
   "metadata": {},
   "source": [
    "## About customers"
   ]
  },
  {
   "cell_type": "code",
   "execution_count": 11,
   "metadata": {},
   "outputs": [
    {
     "data": {
      "application/vnd.plotly.v1+json": {
       "config": {
        "plotlyServerURL": "https://plot.ly"
       },
       "data": [
        {
         "customdata": [
          [
           "South-East"
          ],
          [
           "South"
          ],
          [
           "North-East"
          ],
          [
           "North"
          ],
          [
           "Center-West"
          ]
         ],
         "domain": {
          "x": [
           0,
           1
          ],
          "y": [
           0,
           1
          ]
         },
         "hovertemplate": "area=%{customdata[0]}<br>number_of_customers=%{value}<extra></extra>",
         "labels": [
          "South-East",
          "South",
          "North-East",
          "North",
          "Center-West"
         ],
         "legendgroup": "",
         "marker": {
          "colors": [
           "#F5DD01",
           "#DB214B",
           "#E77818",
           "#84C124",
           "#EF9B9F"
          ]
         },
         "name": "",
         "showlegend": true,
         "type": "pie",
         "values": [
          81107,
          16772,
          11318,
          6917,
          1803
         ]
        }
       ],
       "layout": {
        "legend": {
         "font": {
          "size": 14
         },
         "tracegroupgap": 0,
         "traceorder": "normal",
         "x": 0.8,
         "y": 0.5
        },
        "template": {
         "data": {
          "bar": [
           {
            "error_x": {
             "color": "#2a3f5f"
            },
            "error_y": {
             "color": "#2a3f5f"
            },
            "marker": {
             "line": {
              "color": "#E5ECF6",
              "width": 0.5
             },
             "pattern": {
              "fillmode": "overlay",
              "size": 10,
              "solidity": 0.2
             }
            },
            "type": "bar"
           }
          ],
          "barpolar": [
           {
            "marker": {
             "line": {
              "color": "#E5ECF6",
              "width": 0.5
             },
             "pattern": {
              "fillmode": "overlay",
              "size": 10,
              "solidity": 0.2
             }
            },
            "type": "barpolar"
           }
          ],
          "carpet": [
           {
            "aaxis": {
             "endlinecolor": "#2a3f5f",
             "gridcolor": "white",
             "linecolor": "white",
             "minorgridcolor": "white",
             "startlinecolor": "#2a3f5f"
            },
            "baxis": {
             "endlinecolor": "#2a3f5f",
             "gridcolor": "white",
             "linecolor": "white",
             "minorgridcolor": "white",
             "startlinecolor": "#2a3f5f"
            },
            "type": "carpet"
           }
          ],
          "choropleth": [
           {
            "colorbar": {
             "outlinewidth": 0,
             "ticks": ""
            },
            "type": "choropleth"
           }
          ],
          "contour": [
           {
            "colorbar": {
             "outlinewidth": 0,
             "ticks": ""
            },
            "colorscale": [
             [
              0,
              "#0d0887"
             ],
             [
              0.1111111111111111,
              "#46039f"
             ],
             [
              0.2222222222222222,
              "#7201a8"
             ],
             [
              0.3333333333333333,
              "#9c179e"
             ],
             [
              0.4444444444444444,
              "#bd3786"
             ],
             [
              0.5555555555555556,
              "#d8576b"
             ],
             [
              0.6666666666666666,
              "#ed7953"
             ],
             [
              0.7777777777777778,
              "#fb9f3a"
             ],
             [
              0.8888888888888888,
              "#fdca26"
             ],
             [
              1,
              "#f0f921"
             ]
            ],
            "type": "contour"
           }
          ],
          "contourcarpet": [
           {
            "colorbar": {
             "outlinewidth": 0,
             "ticks": ""
            },
            "type": "contourcarpet"
           }
          ],
          "heatmap": [
           {
            "colorbar": {
             "outlinewidth": 0,
             "ticks": ""
            },
            "colorscale": [
             [
              0,
              "#0d0887"
             ],
             [
              0.1111111111111111,
              "#46039f"
             ],
             [
              0.2222222222222222,
              "#7201a8"
             ],
             [
              0.3333333333333333,
              "#9c179e"
             ],
             [
              0.4444444444444444,
              "#bd3786"
             ],
             [
              0.5555555555555556,
              "#d8576b"
             ],
             [
              0.6666666666666666,
              "#ed7953"
             ],
             [
              0.7777777777777778,
              "#fb9f3a"
             ],
             [
              0.8888888888888888,
              "#fdca26"
             ],
             [
              1,
              "#f0f921"
             ]
            ],
            "type": "heatmap"
           }
          ],
          "heatmapgl": [
           {
            "colorbar": {
             "outlinewidth": 0,
             "ticks": ""
            },
            "colorscale": [
             [
              0,
              "#0d0887"
             ],
             [
              0.1111111111111111,
              "#46039f"
             ],
             [
              0.2222222222222222,
              "#7201a8"
             ],
             [
              0.3333333333333333,
              "#9c179e"
             ],
             [
              0.4444444444444444,
              "#bd3786"
             ],
             [
              0.5555555555555556,
              "#d8576b"
             ],
             [
              0.6666666666666666,
              "#ed7953"
             ],
             [
              0.7777777777777778,
              "#fb9f3a"
             ],
             [
              0.8888888888888888,
              "#fdca26"
             ],
             [
              1,
              "#f0f921"
             ]
            ],
            "type": "heatmapgl"
           }
          ],
          "histogram": [
           {
            "marker": {
             "pattern": {
              "fillmode": "overlay",
              "size": 10,
              "solidity": 0.2
             }
            },
            "type": "histogram"
           }
          ],
          "histogram2d": [
           {
            "colorbar": {
             "outlinewidth": 0,
             "ticks": ""
            },
            "colorscale": [
             [
              0,
              "#0d0887"
             ],
             [
              0.1111111111111111,
              "#46039f"
             ],
             [
              0.2222222222222222,
              "#7201a8"
             ],
             [
              0.3333333333333333,
              "#9c179e"
             ],
             [
              0.4444444444444444,
              "#bd3786"
             ],
             [
              0.5555555555555556,
              "#d8576b"
             ],
             [
              0.6666666666666666,
              "#ed7953"
             ],
             [
              0.7777777777777778,
              "#fb9f3a"
             ],
             [
              0.8888888888888888,
              "#fdca26"
             ],
             [
              1,
              "#f0f921"
             ]
            ],
            "type": "histogram2d"
           }
          ],
          "histogram2dcontour": [
           {
            "colorbar": {
             "outlinewidth": 0,
             "ticks": ""
            },
            "colorscale": [
             [
              0,
              "#0d0887"
             ],
             [
              0.1111111111111111,
              "#46039f"
             ],
             [
              0.2222222222222222,
              "#7201a8"
             ],
             [
              0.3333333333333333,
              "#9c179e"
             ],
             [
              0.4444444444444444,
              "#bd3786"
             ],
             [
              0.5555555555555556,
              "#d8576b"
             ],
             [
              0.6666666666666666,
              "#ed7953"
             ],
             [
              0.7777777777777778,
              "#fb9f3a"
             ],
             [
              0.8888888888888888,
              "#fdca26"
             ],
             [
              1,
              "#f0f921"
             ]
            ],
            "type": "histogram2dcontour"
           }
          ],
          "mesh3d": [
           {
            "colorbar": {
             "outlinewidth": 0,
             "ticks": ""
            },
            "type": "mesh3d"
           }
          ],
          "parcoords": [
           {
            "line": {
             "colorbar": {
              "outlinewidth": 0,
              "ticks": ""
             }
            },
            "type": "parcoords"
           }
          ],
          "pie": [
           {
            "automargin": true,
            "type": "pie"
           }
          ],
          "scatter": [
           {
            "fillpattern": {
             "fillmode": "overlay",
             "size": 10,
             "solidity": 0.2
            },
            "type": "scatter"
           }
          ],
          "scatter3d": [
           {
            "line": {
             "colorbar": {
              "outlinewidth": 0,
              "ticks": ""
             }
            },
            "marker": {
             "colorbar": {
              "outlinewidth": 0,
              "ticks": ""
             }
            },
            "type": "scatter3d"
           }
          ],
          "scattercarpet": [
           {
            "marker": {
             "colorbar": {
              "outlinewidth": 0,
              "ticks": ""
             }
            },
            "type": "scattercarpet"
           }
          ],
          "scattergeo": [
           {
            "marker": {
             "colorbar": {
              "outlinewidth": 0,
              "ticks": ""
             }
            },
            "type": "scattergeo"
           }
          ],
          "scattergl": [
           {
            "marker": {
             "colorbar": {
              "outlinewidth": 0,
              "ticks": ""
             }
            },
            "type": "scattergl"
           }
          ],
          "scattermapbox": [
           {
            "marker": {
             "colorbar": {
              "outlinewidth": 0,
              "ticks": ""
             }
            },
            "type": "scattermapbox"
           }
          ],
          "scatterpolar": [
           {
            "marker": {
             "colorbar": {
              "outlinewidth": 0,
              "ticks": ""
             }
            },
            "type": "scatterpolar"
           }
          ],
          "scatterpolargl": [
           {
            "marker": {
             "colorbar": {
              "outlinewidth": 0,
              "ticks": ""
             }
            },
            "type": "scatterpolargl"
           }
          ],
          "scatterternary": [
           {
            "marker": {
             "colorbar": {
              "outlinewidth": 0,
              "ticks": ""
             }
            },
            "type": "scatterternary"
           }
          ],
          "surface": [
           {
            "colorbar": {
             "outlinewidth": 0,
             "ticks": ""
            },
            "colorscale": [
             [
              0,
              "#0d0887"
             ],
             [
              0.1111111111111111,
              "#46039f"
             ],
             [
              0.2222222222222222,
              "#7201a8"
             ],
             [
              0.3333333333333333,
              "#9c179e"
             ],
             [
              0.4444444444444444,
              "#bd3786"
             ],
             [
              0.5555555555555556,
              "#d8576b"
             ],
             [
              0.6666666666666666,
              "#ed7953"
             ],
             [
              0.7777777777777778,
              "#fb9f3a"
             ],
             [
              0.8888888888888888,
              "#fdca26"
             ],
             [
              1,
              "#f0f921"
             ]
            ],
            "type": "surface"
           }
          ],
          "table": [
           {
            "cells": {
             "fill": {
              "color": "#EBF0F8"
             },
             "line": {
              "color": "white"
             }
            },
            "header": {
             "fill": {
              "color": "#C8D4E3"
             },
             "line": {
              "color": "white"
             }
            },
            "type": "table"
           }
          ]
         },
         "layout": {
          "annotationdefaults": {
           "arrowcolor": "#2a3f5f",
           "arrowhead": 0,
           "arrowwidth": 1
          },
          "autotypenumbers": "strict",
          "coloraxis": {
           "colorbar": {
            "outlinewidth": 0,
            "ticks": ""
           }
          },
          "colorscale": {
           "diverging": [
            [
             0,
             "#8e0152"
            ],
            [
             0.1,
             "#c51b7d"
            ],
            [
             0.2,
             "#de77ae"
            ],
            [
             0.3,
             "#f1b6da"
            ],
            [
             0.4,
             "#fde0ef"
            ],
            [
             0.5,
             "#f7f7f7"
            ],
            [
             0.6,
             "#e6f5d0"
            ],
            [
             0.7,
             "#b8e186"
            ],
            [
             0.8,
             "#7fbc41"
            ],
            [
             0.9,
             "#4d9221"
            ],
            [
             1,
             "#276419"
            ]
           ],
           "sequential": [
            [
             0,
             "#0d0887"
            ],
            [
             0.1111111111111111,
             "#46039f"
            ],
            [
             0.2222222222222222,
             "#7201a8"
            ],
            [
             0.3333333333333333,
             "#9c179e"
            ],
            [
             0.4444444444444444,
             "#bd3786"
            ],
            [
             0.5555555555555556,
             "#d8576b"
            ],
            [
             0.6666666666666666,
             "#ed7953"
            ],
            [
             0.7777777777777778,
             "#fb9f3a"
            ],
            [
             0.8888888888888888,
             "#fdca26"
            ],
            [
             1,
             "#f0f921"
            ]
           ],
           "sequentialminus": [
            [
             0,
             "#0d0887"
            ],
            [
             0.1111111111111111,
             "#46039f"
            ],
            [
             0.2222222222222222,
             "#7201a8"
            ],
            [
             0.3333333333333333,
             "#9c179e"
            ],
            [
             0.4444444444444444,
             "#bd3786"
            ],
            [
             0.5555555555555556,
             "#d8576b"
            ],
            [
             0.6666666666666666,
             "#ed7953"
            ],
            [
             0.7777777777777778,
             "#fb9f3a"
            ],
            [
             0.8888888888888888,
             "#fdca26"
            ],
            [
             1,
             "#f0f921"
            ]
           ]
          },
          "colorway": [
           "#636efa",
           "#EF553B",
           "#00cc96",
           "#ab63fa",
           "#FFA15A",
           "#19d3f3",
           "#FF6692",
           "#B6E880",
           "#FF97FF",
           "#FECB52"
          ],
          "font": {
           "color": "#2a3f5f"
          },
          "geo": {
           "bgcolor": "white",
           "lakecolor": "white",
           "landcolor": "#E5ECF6",
           "showlakes": true,
           "showland": true,
           "subunitcolor": "white"
          },
          "hoverlabel": {
           "align": "left"
          },
          "hovermode": "closest",
          "mapbox": {
           "style": "light"
          },
          "paper_bgcolor": "white",
          "plot_bgcolor": "#E5ECF6",
          "polar": {
           "angularaxis": {
            "gridcolor": "white",
            "linecolor": "white",
            "ticks": ""
           },
           "bgcolor": "#E5ECF6",
           "radialaxis": {
            "gridcolor": "white",
            "linecolor": "white",
            "ticks": ""
           }
          },
          "scene": {
           "xaxis": {
            "backgroundcolor": "#E5ECF6",
            "gridcolor": "white",
            "gridwidth": 2,
            "linecolor": "white",
            "showbackground": true,
            "ticks": "",
            "zerolinecolor": "white"
           },
           "yaxis": {
            "backgroundcolor": "#E5ECF6",
            "gridcolor": "white",
            "gridwidth": 2,
            "linecolor": "white",
            "showbackground": true,
            "ticks": "",
            "zerolinecolor": "white"
           },
           "zaxis": {
            "backgroundcolor": "#E5ECF6",
            "gridcolor": "white",
            "gridwidth": 2,
            "linecolor": "white",
            "showbackground": true,
            "ticks": "",
            "zerolinecolor": "white"
           }
          },
          "shapedefaults": {
           "line": {
            "color": "#2a3f5f"
           }
          },
          "ternary": {
           "aaxis": {
            "gridcolor": "white",
            "linecolor": "white",
            "ticks": ""
           },
           "baxis": {
            "gridcolor": "white",
            "linecolor": "white",
            "ticks": ""
           },
           "bgcolor": "#E5ECF6",
           "caxis": {
            "gridcolor": "white",
            "linecolor": "white",
            "ticks": ""
           }
          },
          "title": {
           "x": 0.05
          },
          "xaxis": {
           "automargin": true,
           "gridcolor": "white",
           "linecolor": "white",
           "ticks": "",
           "title": {
            "standoff": 15
           },
           "zerolinecolor": "white",
           "zerolinewidth": 2
          },
          "yaxis": {
           "automargin": true,
           "gridcolor": "white",
           "linecolor": "white",
           "ticks": "",
           "title": {
            "standoff": 15
           },
           "zerolinecolor": "white",
           "zerolinewidth": 2
          }
         }
        },
        "title": {
         "text": "Proportion of customers by area",
         "x": 0.5
        }
       }
      }
     },
     "metadata": {},
     "output_type": "display_data"
    }
   ],
   "source": [
    "# Customer by area\n",
    "customers_by_area = df_details.groupby(\"customer_area\")[\"customer_unique_id\"].count().sort_values(ascending=False)\n",
    "customers_by_area = customers_by_area.reset_index()\n",
    "customers_by_area.columns = [\"area\", \"number_of_customers\"]\n",
    "customers_by_area[\"percentage\"] = round(customers_by_area[\"number_of_customers\"] / customers_by_area[\"number_of_customers\"].sum() * 100)\n",
    "\n",
    "# Define a colormap\n",
    "color_map = {\n",
    "    \"Center-West\": \"#EF9B9F\",\n",
    "    \"North-East\": \"#E77818\",\n",
    "    \"North\": \"#84C124\",\n",
    "    \"South-East\": \"#F5DD01\",\n",
    "    \"South\": \"#DB214B\",\n",
    "    \"Other\": \"#F4E2B9\",\n",
    "}\n",
    "# plot\n",
    "fig = px.pie(customers_by_area, values=\"number_of_customers\", names=\"area\", title=\"Proportion of customers by area\", color=\"area\", color_discrete_map=color_map)\n",
    "fig.update_layout(\n",
    "    title_x=0.5,\n",
    "    legend=dict(\n",
    "        x=0.8,\n",
    "        y=0.5,\n",
    "        traceorder=\"normal\",\n",
    "        font=dict(\n",
    "            size=14,\n",
    "        )\n",
    "    )\n",
    ")\n",
    "fig.show()"
   ]
  },
  {
   "cell_type": "code",
   "execution_count": 12,
   "metadata": {},
   "outputs": [
    {
     "data": {
      "application/vnd.plotly.v1+json": {
       "config": {
        "plotlyServerURL": "https://plot.ly"
       },
       "data": [
        {
         "customdata": [
          [
           "South-East"
          ],
          [
           "South"
          ],
          [
           "North-East"
          ],
          [
           "North"
          ],
          [
           "Center-West"
          ]
         ],
         "domain": {
          "x": [
           0,
           1
          ],
          "y": [
           0,
           1
          ]
         },
         "hovertemplate": "area=%{customdata[0]}<br>number_of_sellers=%{value}<extra></extra>",
         "labels": [
          "South-East",
          "South",
          "North-East",
          "North",
          "Center-West"
         ],
         "legendgroup": "",
         "marker": {
          "colors": [
           "#F5DD01",
           "#DB214B",
           "#E77818",
           "#84C124",
           "#EF9B9F"
          ]
         },
         "name": "",
         "showlegend": true,
         "type": "pie",
         "values": [
          98810,
          15586,
          1798,
          1698,
          25
         ]
        }
       ],
       "layout": {
        "legend": {
         "font": {
          "size": 14
         },
         "tracegroupgap": 0,
         "traceorder": "normal",
         "x": 0.8,
         "y": 0.5
        },
        "template": {
         "data": {
          "bar": [
           {
            "error_x": {
             "color": "#2a3f5f"
            },
            "error_y": {
             "color": "#2a3f5f"
            },
            "marker": {
             "line": {
              "color": "#E5ECF6",
              "width": 0.5
             },
             "pattern": {
              "fillmode": "overlay",
              "size": 10,
              "solidity": 0.2
             }
            },
            "type": "bar"
           }
          ],
          "barpolar": [
           {
            "marker": {
             "line": {
              "color": "#E5ECF6",
              "width": 0.5
             },
             "pattern": {
              "fillmode": "overlay",
              "size": 10,
              "solidity": 0.2
             }
            },
            "type": "barpolar"
           }
          ],
          "carpet": [
           {
            "aaxis": {
             "endlinecolor": "#2a3f5f",
             "gridcolor": "white",
             "linecolor": "white",
             "minorgridcolor": "white",
             "startlinecolor": "#2a3f5f"
            },
            "baxis": {
             "endlinecolor": "#2a3f5f",
             "gridcolor": "white",
             "linecolor": "white",
             "minorgridcolor": "white",
             "startlinecolor": "#2a3f5f"
            },
            "type": "carpet"
           }
          ],
          "choropleth": [
           {
            "colorbar": {
             "outlinewidth": 0,
             "ticks": ""
            },
            "type": "choropleth"
           }
          ],
          "contour": [
           {
            "colorbar": {
             "outlinewidth": 0,
             "ticks": ""
            },
            "colorscale": [
             [
              0,
              "#0d0887"
             ],
             [
              0.1111111111111111,
              "#46039f"
             ],
             [
              0.2222222222222222,
              "#7201a8"
             ],
             [
              0.3333333333333333,
              "#9c179e"
             ],
             [
              0.4444444444444444,
              "#bd3786"
             ],
             [
              0.5555555555555556,
              "#d8576b"
             ],
             [
              0.6666666666666666,
              "#ed7953"
             ],
             [
              0.7777777777777778,
              "#fb9f3a"
             ],
             [
              0.8888888888888888,
              "#fdca26"
             ],
             [
              1,
              "#f0f921"
             ]
            ],
            "type": "contour"
           }
          ],
          "contourcarpet": [
           {
            "colorbar": {
             "outlinewidth": 0,
             "ticks": ""
            },
            "type": "contourcarpet"
           }
          ],
          "heatmap": [
           {
            "colorbar": {
             "outlinewidth": 0,
             "ticks": ""
            },
            "colorscale": [
             [
              0,
              "#0d0887"
             ],
             [
              0.1111111111111111,
              "#46039f"
             ],
             [
              0.2222222222222222,
              "#7201a8"
             ],
             [
              0.3333333333333333,
              "#9c179e"
             ],
             [
              0.4444444444444444,
              "#bd3786"
             ],
             [
              0.5555555555555556,
              "#d8576b"
             ],
             [
              0.6666666666666666,
              "#ed7953"
             ],
             [
              0.7777777777777778,
              "#fb9f3a"
             ],
             [
              0.8888888888888888,
              "#fdca26"
             ],
             [
              1,
              "#f0f921"
             ]
            ],
            "type": "heatmap"
           }
          ],
          "heatmapgl": [
           {
            "colorbar": {
             "outlinewidth": 0,
             "ticks": ""
            },
            "colorscale": [
             [
              0,
              "#0d0887"
             ],
             [
              0.1111111111111111,
              "#46039f"
             ],
             [
              0.2222222222222222,
              "#7201a8"
             ],
             [
              0.3333333333333333,
              "#9c179e"
             ],
             [
              0.4444444444444444,
              "#bd3786"
             ],
             [
              0.5555555555555556,
              "#d8576b"
             ],
             [
              0.6666666666666666,
              "#ed7953"
             ],
             [
              0.7777777777777778,
              "#fb9f3a"
             ],
             [
              0.8888888888888888,
              "#fdca26"
             ],
             [
              1,
              "#f0f921"
             ]
            ],
            "type": "heatmapgl"
           }
          ],
          "histogram": [
           {
            "marker": {
             "pattern": {
              "fillmode": "overlay",
              "size": 10,
              "solidity": 0.2
             }
            },
            "type": "histogram"
           }
          ],
          "histogram2d": [
           {
            "colorbar": {
             "outlinewidth": 0,
             "ticks": ""
            },
            "colorscale": [
             [
              0,
              "#0d0887"
             ],
             [
              0.1111111111111111,
              "#46039f"
             ],
             [
              0.2222222222222222,
              "#7201a8"
             ],
             [
              0.3333333333333333,
              "#9c179e"
             ],
             [
              0.4444444444444444,
              "#bd3786"
             ],
             [
              0.5555555555555556,
              "#d8576b"
             ],
             [
              0.6666666666666666,
              "#ed7953"
             ],
             [
              0.7777777777777778,
              "#fb9f3a"
             ],
             [
              0.8888888888888888,
              "#fdca26"
             ],
             [
              1,
              "#f0f921"
             ]
            ],
            "type": "histogram2d"
           }
          ],
          "histogram2dcontour": [
           {
            "colorbar": {
             "outlinewidth": 0,
             "ticks": ""
            },
            "colorscale": [
             [
              0,
              "#0d0887"
             ],
             [
              0.1111111111111111,
              "#46039f"
             ],
             [
              0.2222222222222222,
              "#7201a8"
             ],
             [
              0.3333333333333333,
              "#9c179e"
             ],
             [
              0.4444444444444444,
              "#bd3786"
             ],
             [
              0.5555555555555556,
              "#d8576b"
             ],
             [
              0.6666666666666666,
              "#ed7953"
             ],
             [
              0.7777777777777778,
              "#fb9f3a"
             ],
             [
              0.8888888888888888,
              "#fdca26"
             ],
             [
              1,
              "#f0f921"
             ]
            ],
            "type": "histogram2dcontour"
           }
          ],
          "mesh3d": [
           {
            "colorbar": {
             "outlinewidth": 0,
             "ticks": ""
            },
            "type": "mesh3d"
           }
          ],
          "parcoords": [
           {
            "line": {
             "colorbar": {
              "outlinewidth": 0,
              "ticks": ""
             }
            },
            "type": "parcoords"
           }
          ],
          "pie": [
           {
            "automargin": true,
            "type": "pie"
           }
          ],
          "scatter": [
           {
            "fillpattern": {
             "fillmode": "overlay",
             "size": 10,
             "solidity": 0.2
            },
            "type": "scatter"
           }
          ],
          "scatter3d": [
           {
            "line": {
             "colorbar": {
              "outlinewidth": 0,
              "ticks": ""
             }
            },
            "marker": {
             "colorbar": {
              "outlinewidth": 0,
              "ticks": ""
             }
            },
            "type": "scatter3d"
           }
          ],
          "scattercarpet": [
           {
            "marker": {
             "colorbar": {
              "outlinewidth": 0,
              "ticks": ""
             }
            },
            "type": "scattercarpet"
           }
          ],
          "scattergeo": [
           {
            "marker": {
             "colorbar": {
              "outlinewidth": 0,
              "ticks": ""
             }
            },
            "type": "scattergeo"
           }
          ],
          "scattergl": [
           {
            "marker": {
             "colorbar": {
              "outlinewidth": 0,
              "ticks": ""
             }
            },
            "type": "scattergl"
           }
          ],
          "scattermapbox": [
           {
            "marker": {
             "colorbar": {
              "outlinewidth": 0,
              "ticks": ""
             }
            },
            "type": "scattermapbox"
           }
          ],
          "scatterpolar": [
           {
            "marker": {
             "colorbar": {
              "outlinewidth": 0,
              "ticks": ""
             }
            },
            "type": "scatterpolar"
           }
          ],
          "scatterpolargl": [
           {
            "marker": {
             "colorbar": {
              "outlinewidth": 0,
              "ticks": ""
             }
            },
            "type": "scatterpolargl"
           }
          ],
          "scatterternary": [
           {
            "marker": {
             "colorbar": {
              "outlinewidth": 0,
              "ticks": ""
             }
            },
            "type": "scatterternary"
           }
          ],
          "surface": [
           {
            "colorbar": {
             "outlinewidth": 0,
             "ticks": ""
            },
            "colorscale": [
             [
              0,
              "#0d0887"
             ],
             [
              0.1111111111111111,
              "#46039f"
             ],
             [
              0.2222222222222222,
              "#7201a8"
             ],
             [
              0.3333333333333333,
              "#9c179e"
             ],
             [
              0.4444444444444444,
              "#bd3786"
             ],
             [
              0.5555555555555556,
              "#d8576b"
             ],
             [
              0.6666666666666666,
              "#ed7953"
             ],
             [
              0.7777777777777778,
              "#fb9f3a"
             ],
             [
              0.8888888888888888,
              "#fdca26"
             ],
             [
              1,
              "#f0f921"
             ]
            ],
            "type": "surface"
           }
          ],
          "table": [
           {
            "cells": {
             "fill": {
              "color": "#EBF0F8"
             },
             "line": {
              "color": "white"
             }
            },
            "header": {
             "fill": {
              "color": "#C8D4E3"
             },
             "line": {
              "color": "white"
             }
            },
            "type": "table"
           }
          ]
         },
         "layout": {
          "annotationdefaults": {
           "arrowcolor": "#2a3f5f",
           "arrowhead": 0,
           "arrowwidth": 1
          },
          "autotypenumbers": "strict",
          "coloraxis": {
           "colorbar": {
            "outlinewidth": 0,
            "ticks": ""
           }
          },
          "colorscale": {
           "diverging": [
            [
             0,
             "#8e0152"
            ],
            [
             0.1,
             "#c51b7d"
            ],
            [
             0.2,
             "#de77ae"
            ],
            [
             0.3,
             "#f1b6da"
            ],
            [
             0.4,
             "#fde0ef"
            ],
            [
             0.5,
             "#f7f7f7"
            ],
            [
             0.6,
             "#e6f5d0"
            ],
            [
             0.7,
             "#b8e186"
            ],
            [
             0.8,
             "#7fbc41"
            ],
            [
             0.9,
             "#4d9221"
            ],
            [
             1,
             "#276419"
            ]
           ],
           "sequential": [
            [
             0,
             "#0d0887"
            ],
            [
             0.1111111111111111,
             "#46039f"
            ],
            [
             0.2222222222222222,
             "#7201a8"
            ],
            [
             0.3333333333333333,
             "#9c179e"
            ],
            [
             0.4444444444444444,
             "#bd3786"
            ],
            [
             0.5555555555555556,
             "#d8576b"
            ],
            [
             0.6666666666666666,
             "#ed7953"
            ],
            [
             0.7777777777777778,
             "#fb9f3a"
            ],
            [
             0.8888888888888888,
             "#fdca26"
            ],
            [
             1,
             "#f0f921"
            ]
           ],
           "sequentialminus": [
            [
             0,
             "#0d0887"
            ],
            [
             0.1111111111111111,
             "#46039f"
            ],
            [
             0.2222222222222222,
             "#7201a8"
            ],
            [
             0.3333333333333333,
             "#9c179e"
            ],
            [
             0.4444444444444444,
             "#bd3786"
            ],
            [
             0.5555555555555556,
             "#d8576b"
            ],
            [
             0.6666666666666666,
             "#ed7953"
            ],
            [
             0.7777777777777778,
             "#fb9f3a"
            ],
            [
             0.8888888888888888,
             "#fdca26"
            ],
            [
             1,
             "#f0f921"
            ]
           ]
          },
          "colorway": [
           "#636efa",
           "#EF553B",
           "#00cc96",
           "#ab63fa",
           "#FFA15A",
           "#19d3f3",
           "#FF6692",
           "#B6E880",
           "#FF97FF",
           "#FECB52"
          ],
          "font": {
           "color": "#2a3f5f"
          },
          "geo": {
           "bgcolor": "white",
           "lakecolor": "white",
           "landcolor": "#E5ECF6",
           "showlakes": true,
           "showland": true,
           "subunitcolor": "white"
          },
          "hoverlabel": {
           "align": "left"
          },
          "hovermode": "closest",
          "mapbox": {
           "style": "light"
          },
          "paper_bgcolor": "white",
          "plot_bgcolor": "#E5ECF6",
          "polar": {
           "angularaxis": {
            "gridcolor": "white",
            "linecolor": "white",
            "ticks": ""
           },
           "bgcolor": "#E5ECF6",
           "radialaxis": {
            "gridcolor": "white",
            "linecolor": "white",
            "ticks": ""
           }
          },
          "scene": {
           "xaxis": {
            "backgroundcolor": "#E5ECF6",
            "gridcolor": "white",
            "gridwidth": 2,
            "linecolor": "white",
            "showbackground": true,
            "ticks": "",
            "zerolinecolor": "white"
           },
           "yaxis": {
            "backgroundcolor": "#E5ECF6",
            "gridcolor": "white",
            "gridwidth": 2,
            "linecolor": "white",
            "showbackground": true,
            "ticks": "",
            "zerolinecolor": "white"
           },
           "zaxis": {
            "backgroundcolor": "#E5ECF6",
            "gridcolor": "white",
            "gridwidth": 2,
            "linecolor": "white",
            "showbackground": true,
            "ticks": "",
            "zerolinecolor": "white"
           }
          },
          "shapedefaults": {
           "line": {
            "color": "#2a3f5f"
           }
          },
          "ternary": {
           "aaxis": {
            "gridcolor": "white",
            "linecolor": "white",
            "ticks": ""
           },
           "baxis": {
            "gridcolor": "white",
            "linecolor": "white",
            "ticks": ""
           },
           "bgcolor": "#E5ECF6",
           "caxis": {
            "gridcolor": "white",
            "linecolor": "white",
            "ticks": ""
           }
          },
          "title": {
           "x": 0.05
          },
          "xaxis": {
           "automargin": true,
           "gridcolor": "white",
           "linecolor": "white",
           "ticks": "",
           "title": {
            "standoff": 15
           },
           "zerolinecolor": "white",
           "zerolinewidth": 2
          },
          "yaxis": {
           "automargin": true,
           "gridcolor": "white",
           "linecolor": "white",
           "ticks": "",
           "title": {
            "standoff": 15
           },
           "zerolinecolor": "white",
           "zerolinewidth": 2
          }
         }
        },
        "title": {
         "text": "Proportion of sellers by area",
         "x": 0.5
        }
       }
      }
     },
     "metadata": {},
     "output_type": "display_data"
    }
   ],
   "source": [
    "# Sellers by area\n",
    "sellers_by_area = df_details.groupby(\"seller_area\")[\"seller_id\"].count().sort_values(ascending=False)\n",
    "sellers_by_area = sellers_by_area.reset_index()\n",
    "sellers_by_area.columns = [\"area\", \"number_of_sellers\"]\n",
    "sellers_by_area[\"percentage\"] = round(sellers_by_area[\"number_of_sellers\"] / sellers_by_area[\"number_of_sellers\"].sum() * 100)\n",
    "\n",
    "# plot\n",
    "fig = px.pie(sellers_by_area, values=\"number_of_sellers\", names=\"area\", title=\"Proportion of sellers by area\", color=\"area\", color_discrete_map=color_map)\n",
    "fig.update_layout(\n",
    "    title_x=0.5,\n",
    "    legend=dict(\n",
    "        x=0.8,\n",
    "        y=0.5,\n",
    "        traceorder=\"normal\",\n",
    "        font=dict(\n",
    "            size=14,\n",
    "        ),\n",
    "    ),\n",
    ")\n",
    "fig.show()"
   ]
  },
  {
   "cell_type": "markdown",
   "metadata": {},
   "source": [
    "## Missing values ?"
   ]
  },
  {
   "cell_type": "markdown",
   "metadata": {},
   "source": [
    "### Function"
   ]
  },
  {
   "cell_type": "code",
   "execution_count": 5,
   "metadata": {},
   "outputs": [],
   "source": [
    "def display_missing_values(df):\n",
    "    missing_values = df.isnull().sum()\n",
    "    missing_values = missing_values[missing_values > 0]\n",
    "    missing_values = missing_values.sort_values(ascending=False)\n",
    "    missing_values = missing_values.reset_index()\n",
    "    missing_values.columns = [\"column\", \"missing_values\"]\n",
    "    return missing_values"
   ]
  },
  {
   "cell_type": "code",
   "execution_count": 6,
   "metadata": {},
   "outputs": [
    {
     "data": {
      "text/html": [
       "<div>\n",
       "<style scoped>\n",
       "    .dataframe tbody tr th:only-of-type {\n",
       "        vertical-align: middle;\n",
       "    }\n",
       "\n",
       "    .dataframe tbody tr th {\n",
       "        vertical-align: top;\n",
       "    }\n",
       "\n",
       "    .dataframe thead th {\n",
       "        text-align: right;\n",
       "    }\n",
       "</style>\n",
       "<table border=\"1\" class=\"dataframe\">\n",
       "  <thead>\n",
       "    <tr style=\"text-align: right;\">\n",
       "      <th></th>\n",
       "      <th>column</th>\n",
       "      <th>missing_values</th>\n",
       "    </tr>\n",
       "  </thead>\n",
       "  <tbody>\n",
       "    <tr>\n",
       "      <th>0</th>\n",
       "      <td>order_delivered_customer_date</td>\n",
       "      <td>2540</td>\n",
       "    </tr>\n",
       "    <tr>\n",
       "      <th>1</th>\n",
       "      <td>product_category_name_english</td>\n",
       "      <td>1732</td>\n",
       "    </tr>\n",
       "    <tr>\n",
       "      <th>2</th>\n",
       "      <td>product_description_lenght</td>\n",
       "      <td>1707</td>\n",
       "    </tr>\n",
       "    <tr>\n",
       "      <th>3</th>\n",
       "      <td>product_photos_qty</td>\n",
       "      <td>1707</td>\n",
       "    </tr>\n",
       "    <tr>\n",
       "      <th>4</th>\n",
       "      <td>product_category_name</td>\n",
       "      <td>1707</td>\n",
       "    </tr>\n",
       "    <tr>\n",
       "      <th>5</th>\n",
       "      <td>order_approved_at</td>\n",
       "      <td>15</td>\n",
       "    </tr>\n",
       "  </tbody>\n",
       "</table>\n",
       "</div>"
      ],
      "text/plain": [
       "                          column  missing_values\n",
       "0  order_delivered_customer_date            2540\n",
       "1  product_category_name_english            1732\n",
       "2     product_description_lenght            1707\n",
       "3             product_photos_qty            1707\n",
       "4          product_category_name            1707\n",
       "5              order_approved_at              15"
      ]
     },
     "execution_count": 6,
     "metadata": {},
     "output_type": "execute_result"
    }
   ],
   "source": [
    "# check for missing values per features\n",
    "display_missing_values(df_details)"
   ]
  },
  {
   "cell_type": "markdown",
   "metadata": {},
   "source": [
    "### Payments information"
   ]
  },
  {
   "cell_type": "markdown",
   "metadata": {},
   "source": [
    "#### Enquiry"
   ]
  },
  {
   "cell_type": "code",
   "execution_count": 7,
   "metadata": {},
   "outputs": [
    {
     "data": {
      "text/html": [
       "<div>\n",
       "<style scoped>\n",
       "    .dataframe tbody tr th:only-of-type {\n",
       "        vertical-align: middle;\n",
       "    }\n",
       "\n",
       "    .dataframe tbody tr th {\n",
       "        vertical-align: top;\n",
       "    }\n",
       "\n",
       "    .dataframe thead th {\n",
       "        text-align: right;\n",
       "    }\n",
       "</style>\n",
       "<table border=\"1\" class=\"dataframe\">\n",
       "  <thead>\n",
       "    <tr style=\"text-align: right;\">\n",
       "      <th></th>\n",
       "      <th>customer_unique_id</th>\n",
       "      <th>customer_state</th>\n",
       "      <th>customer_zip_code_prefix</th>\n",
       "      <th>order_id</th>\n",
       "      <th>order_status</th>\n",
       "      <th>order_purchase_timestamp</th>\n",
       "      <th>order_approved_at</th>\n",
       "      <th>order_delivered_customer_date</th>\n",
       "      <th>order_estimated_delivery_date</th>\n",
       "      <th>item_price</th>\n",
       "      <th>...</th>\n",
       "      <th>payment_installments</th>\n",
       "      <th>seller_id</th>\n",
       "      <th>seller_state</th>\n",
       "      <th>seller_zip_code_prefix</th>\n",
       "      <th>review_score</th>\n",
       "      <th>review_length</th>\n",
       "      <th>product_description_lenght</th>\n",
       "      <th>product_photos_qty</th>\n",
       "      <th>product_category_name</th>\n",
       "      <th>product_category_name_english</th>\n",
       "    </tr>\n",
       "  </thead>\n",
       "  <tbody>\n",
       "  </tbody>\n",
       "</table>\n",
       "<p>0 rows × 24 columns</p>\n",
       "</div>"
      ],
      "text/plain": [
       "Empty DataFrame\n",
       "Columns: [customer_unique_id, customer_state, customer_zip_code_prefix, order_id, order_status, order_purchase_timestamp, order_approved_at, order_delivered_customer_date, order_estimated_delivery_date, item_price, freight_value, payment_value, payment_sequential, payment_type, payment_installments, seller_id, seller_state, seller_zip_code_prefix, review_score, review_length, product_description_lenght, product_photos_qty, product_category_name, product_category_name_english]\n",
       "Index: []\n",
       "\n",
       "[0 rows x 24 columns]"
      ]
     },
     "execution_count": 7,
     "metadata": {},
     "output_type": "execute_result"
    }
   ],
   "source": [
    "df_details.loc[df_details[\"payment_sequential\"].isnull()]"
   ]
  },
  {
   "cell_type": "code",
   "execution_count": 8,
   "metadata": {},
   "outputs": [
    {
     "data": {
      "text/html": [
       "<div>\n",
       "<style scoped>\n",
       "    .dataframe tbody tr th:only-of-type {\n",
       "        vertical-align: middle;\n",
       "    }\n",
       "\n",
       "    .dataframe tbody tr th {\n",
       "        vertical-align: top;\n",
       "    }\n",
       "\n",
       "    .dataframe thead th {\n",
       "        text-align: right;\n",
       "    }\n",
       "</style>\n",
       "<table border=\"1\" class=\"dataframe\">\n",
       "  <thead>\n",
       "    <tr style=\"text-align: right;\">\n",
       "      <th></th>\n",
       "      <th>customer_unique_id</th>\n",
       "      <th>customer_state</th>\n",
       "      <th>customer_zip_code_prefix</th>\n",
       "      <th>order_id</th>\n",
       "      <th>order_status</th>\n",
       "      <th>order_purchase_timestamp</th>\n",
       "      <th>order_approved_at</th>\n",
       "      <th>order_delivered_customer_date</th>\n",
       "      <th>order_estimated_delivery_date</th>\n",
       "      <th>item_price</th>\n",
       "      <th>...</th>\n",
       "      <th>payment_installments</th>\n",
       "      <th>seller_id</th>\n",
       "      <th>seller_state</th>\n",
       "      <th>seller_zip_code_prefix</th>\n",
       "      <th>review_score</th>\n",
       "      <th>review_length</th>\n",
       "      <th>product_description_lenght</th>\n",
       "      <th>product_photos_qty</th>\n",
       "      <th>product_category_name</th>\n",
       "      <th>product_category_name_english</th>\n",
       "    </tr>\n",
       "  </thead>\n",
       "  <tbody>\n",
       "  </tbody>\n",
       "</table>\n",
       "<p>0 rows × 24 columns</p>\n",
       "</div>"
      ],
      "text/plain": [
       "Empty DataFrame\n",
       "Columns: [customer_unique_id, customer_state, customer_zip_code_prefix, order_id, order_status, order_purchase_timestamp, order_approved_at, order_delivered_customer_date, order_estimated_delivery_date, item_price, freight_value, payment_value, payment_sequential, payment_type, payment_installments, seller_id, seller_state, seller_zip_code_prefix, review_score, review_length, product_description_lenght, product_photos_qty, product_category_name, product_category_name_english]\n",
       "Index: []\n",
       "\n",
       "[0 rows x 24 columns]"
      ]
     },
     "execution_count": 8,
     "metadata": {},
     "output_type": "execute_result"
    }
   ],
   "source": [
    "df_details.loc[df_details[\"order_id\"] == \"bfbd0f9bdef84302105ad712db648a6c\"]"
   ]
  },
  {
   "cell_type": "code",
   "execution_count": 9,
   "metadata": {},
   "outputs": [],
   "source": [
    "# we can replace the missing values as it was a 3 times payment\n",
    "# But it is an old order so we can drop it"
   ]
  },
  {
   "cell_type": "code",
   "execution_count": 10,
   "metadata": {},
   "outputs": [
    {
     "data": {
      "text/plain": [
       "array(['credit_card', 'voucher', 'boleto', 'debit_card'], dtype=object)"
      ]
     },
     "execution_count": 10,
     "metadata": {},
     "output_type": "execute_result"
    }
   ],
   "source": [
    "df_details[\"payment_type\"].unique()"
   ]
  },
  {
   "cell_type": "code",
   "execution_count": 11,
   "metadata": {},
   "outputs": [
    {
     "data": {
      "text/html": [
       "<div>\n",
       "<style scoped>\n",
       "    .dataframe tbody tr th:only-of-type {\n",
       "        vertical-align: middle;\n",
       "    }\n",
       "\n",
       "    .dataframe tbody tr th {\n",
       "        vertical-align: top;\n",
       "    }\n",
       "\n",
       "    .dataframe thead th {\n",
       "        text-align: right;\n",
       "    }\n",
       "</style>\n",
       "<table border=\"1\" class=\"dataframe\">\n",
       "  <thead>\n",
       "    <tr style=\"text-align: right;\">\n",
       "      <th></th>\n",
       "      <th>customer_unique_id</th>\n",
       "      <th>customer_state</th>\n",
       "      <th>customer_zip_code_prefix</th>\n",
       "      <th>order_id</th>\n",
       "      <th>order_status</th>\n",
       "      <th>order_purchase_timestamp</th>\n",
       "      <th>order_approved_at</th>\n",
       "      <th>order_delivered_customer_date</th>\n",
       "      <th>order_estimated_delivery_date</th>\n",
       "      <th>item_price</th>\n",
       "      <th>...</th>\n",
       "      <th>payment_installments</th>\n",
       "      <th>seller_id</th>\n",
       "      <th>seller_state</th>\n",
       "      <th>seller_zip_code_prefix</th>\n",
       "      <th>review_score</th>\n",
       "      <th>review_length</th>\n",
       "      <th>product_description_lenght</th>\n",
       "      <th>product_photos_qty</th>\n",
       "      <th>product_category_name</th>\n",
       "      <th>product_category_name_english</th>\n",
       "    </tr>\n",
       "  </thead>\n",
       "  <tbody>\n",
       "  </tbody>\n",
       "</table>\n",
       "<p>0 rows × 24 columns</p>\n",
       "</div>"
      ],
      "text/plain": [
       "Empty DataFrame\n",
       "Columns: [customer_unique_id, customer_state, customer_zip_code_prefix, order_id, order_status, order_purchase_timestamp, order_approved_at, order_delivered_customer_date, order_estimated_delivery_date, item_price, freight_value, payment_value, payment_sequential, payment_type, payment_installments, seller_id, seller_state, seller_zip_code_prefix, review_score, review_length, product_description_lenght, product_photos_qty, product_category_name, product_category_name_english]\n",
       "Index: []\n",
       "\n",
       "[0 rows x 24 columns]"
      ]
     },
     "execution_count": 11,
     "metadata": {},
     "output_type": "execute_result"
    }
   ],
   "source": [
    "# Who is this customer\n",
    "df_details.loc[df_details[\"customer_unique_id\"] == \"830d5b7aaa3b6f1e9ad63703bec97d23\"]"
   ]
  },
  {
   "cell_type": "markdown",
   "metadata": {},
   "source": [
    "#### Solution"
   ]
  },
  {
   "cell_type": "markdown",
   "metadata": {},
   "source": [
    "This customer seems to have ordered only once, quite a long time ago. Since we can't explain why payment information is not available, we decided to drop these rows."
   ]
  },
  {
   "cell_type": "code",
   "execution_count": 12,
   "metadata": {},
   "outputs": [
    {
     "data": {
      "text/html": [
       "<div>\n",
       "<style scoped>\n",
       "    .dataframe tbody tr th:only-of-type {\n",
       "        vertical-align: middle;\n",
       "    }\n",
       "\n",
       "    .dataframe tbody tr th {\n",
       "        vertical-align: top;\n",
       "    }\n",
       "\n",
       "    .dataframe thead th {\n",
       "        text-align: right;\n",
       "    }\n",
       "</style>\n",
       "<table border=\"1\" class=\"dataframe\">\n",
       "  <thead>\n",
       "    <tr style=\"text-align: right;\">\n",
       "      <th></th>\n",
       "      <th>column</th>\n",
       "      <th>missing_values</th>\n",
       "    </tr>\n",
       "  </thead>\n",
       "  <tbody>\n",
       "    <tr>\n",
       "      <th>0</th>\n",
       "      <td>order_delivered_customer_date</td>\n",
       "      <td>2540</td>\n",
       "    </tr>\n",
       "    <tr>\n",
       "      <th>1</th>\n",
       "      <td>product_category_name_english</td>\n",
       "      <td>1732</td>\n",
       "    </tr>\n",
       "    <tr>\n",
       "      <th>2</th>\n",
       "      <td>product_description_lenght</td>\n",
       "      <td>1707</td>\n",
       "    </tr>\n",
       "    <tr>\n",
       "      <th>3</th>\n",
       "      <td>product_photos_qty</td>\n",
       "      <td>1707</td>\n",
       "    </tr>\n",
       "    <tr>\n",
       "      <th>4</th>\n",
       "      <td>product_category_name</td>\n",
       "      <td>1707</td>\n",
       "    </tr>\n",
       "    <tr>\n",
       "      <th>5</th>\n",
       "      <td>order_approved_at</td>\n",
       "      <td>15</td>\n",
       "    </tr>\n",
       "  </tbody>\n",
       "</table>\n",
       "</div>"
      ],
      "text/plain": [
       "                          column  missing_values\n",
       "0  order_delivered_customer_date            2540\n",
       "1  product_category_name_english            1732\n",
       "2     product_description_lenght            1707\n",
       "3             product_photos_qty            1707\n",
       "4          product_category_name            1707\n",
       "5              order_approved_at              15"
      ]
     },
     "execution_count": 12,
     "metadata": {},
     "output_type": "execute_result"
    }
   ],
   "source": [
    "df_details.dropna(subset=[\"payment_sequential\"], inplace=True)\n",
    "display_missing_values(df_details)"
   ]
  },
  {
   "cell_type": "markdown",
   "metadata": {},
   "source": [
    "### Product categories information"
   ]
  },
  {
   "cell_type": "markdown",
   "metadata": {},
   "source": [
    "#### Enquiry"
   ]
  },
  {
   "cell_type": "markdown",
   "metadata": {},
   "source": [
    "Let's have a look on missing product_category_name."
   ]
  },
  {
   "cell_type": "code",
   "execution_count": 13,
   "metadata": {},
   "outputs": [
    {
     "data": {
      "text/plain": [
       "array([None, 'portateis_cozinha_e_preparadores_de_alimentos', 'pc_gamer'],\n",
       "      dtype=object)"
      ]
     },
     "execution_count": 13,
     "metadata": {},
     "output_type": "execute_result"
    }
   ],
   "source": [
    "# Get rows of categories name where the translation is not available\n",
    "df_details.loc[df_details[\"product_category_name_english\"].isnull()][\"product_category_name\"].unique()"
   ]
  },
  {
   "cell_type": "code",
   "execution_count": 14,
   "metadata": {},
   "outputs": [
    {
     "data": {
      "text/html": [
       "<div>\n",
       "<style scoped>\n",
       "    .dataframe tbody tr th:only-of-type {\n",
       "        vertical-align: middle;\n",
       "    }\n",
       "\n",
       "    .dataframe tbody tr th {\n",
       "        vertical-align: top;\n",
       "    }\n",
       "\n",
       "    .dataframe thead th {\n",
       "        text-align: right;\n",
       "    }\n",
       "</style>\n",
       "<table border=\"1\" class=\"dataframe\">\n",
       "  <thead>\n",
       "    <tr style=\"text-align: right;\">\n",
       "      <th></th>\n",
       "      <th>customer_unique_id</th>\n",
       "      <th>customer_state</th>\n",
       "      <th>customer_zip_code_prefix</th>\n",
       "      <th>order_id</th>\n",
       "      <th>order_status</th>\n",
       "      <th>order_purchase_timestamp</th>\n",
       "      <th>order_approved_at</th>\n",
       "      <th>order_delivered_customer_date</th>\n",
       "      <th>order_estimated_delivery_date</th>\n",
       "      <th>item_price</th>\n",
       "      <th>...</th>\n",
       "      <th>payment_installments</th>\n",
       "      <th>seller_id</th>\n",
       "      <th>seller_state</th>\n",
       "      <th>seller_zip_code_prefix</th>\n",
       "      <th>review_score</th>\n",
       "      <th>review_length</th>\n",
       "      <th>product_description_lenght</th>\n",
       "      <th>product_photos_qty</th>\n",
       "      <th>product_category_name</th>\n",
       "      <th>product_category_name_english</th>\n",
       "    </tr>\n",
       "  </thead>\n",
       "  <tbody>\n",
       "    <tr>\n",
       "      <th>1087</th>\n",
       "      <td>24a0683609e642fe0d86e5e2c97712f5</td>\n",
       "      <td>SP</td>\n",
       "      <td>18190</td>\n",
       "      <td>8dbdb81783a3c754dc9441826510a36a</td>\n",
       "      <td>delivered</td>\n",
       "      <td>2018-08-10 14:54:25</td>\n",
       "      <td>2018-08-10 15:10:27</td>\n",
       "      <td>2018-08-17 20:51:49</td>\n",
       "      <td>2018-08-30 00:00:00</td>\n",
       "      <td>102.90</td>\n",
       "      <td>...</td>\n",
       "      <td>2</td>\n",
       "      <td>7aa538dd6e114e503a2e6154ea352253</td>\n",
       "      <td>SP</td>\n",
       "      <td>15807</td>\n",
       "      <td>4</td>\n",
       "      <td>160</td>\n",
       "      <td>792.0</td>\n",
       "      <td>4.0</td>\n",
       "      <td>portateis_cozinha_e_preparadores_de_alimentos</td>\n",
       "      <td>None</td>\n",
       "    </tr>\n",
       "    <tr>\n",
       "      <th>2625</th>\n",
       "      <td>949921a7831eb8901f75baf57d1853bf</td>\n",
       "      <td>SP</td>\n",
       "      <td>7174</td>\n",
       "      <td>e4aac63ea6f6b75b6d91ead05207fb43</td>\n",
       "      <td>delivered</td>\n",
       "      <td>2017-05-25 12:51:37</td>\n",
       "      <td>2017-05-25 13:05:42</td>\n",
       "      <td>2017-06-02 09:44:29</td>\n",
       "      <td>2017-06-07 00:00:00</td>\n",
       "      <td>129.99</td>\n",
       "      <td>...</td>\n",
       "      <td>3</td>\n",
       "      <td>2138ccb85b11a4ec1e37afbd1c8eda1f</td>\n",
       "      <td>SP</td>\n",
       "      <td>8250</td>\n",
       "      <td>5</td>\n",
       "      <td>0</td>\n",
       "      <td>621.0</td>\n",
       "      <td>4.0</td>\n",
       "      <td>pc_gamer</td>\n",
       "      <td>None</td>\n",
       "    </tr>\n",
       "    <tr>\n",
       "      <th>8803</th>\n",
       "      <td>ee94c6489208799271238c965bdbd1ac</td>\n",
       "      <td>SP</td>\n",
       "      <td>6784</td>\n",
       "      <td>b35a771164a9defa3b4767f1b66918b1</td>\n",
       "      <td>delivered</td>\n",
       "      <td>2018-07-23 00:49:15</td>\n",
       "      <td>2018-07-25 02:50:18</td>\n",
       "      <td>2018-08-03 10:03:31</td>\n",
       "      <td>2018-07-31 00:00:00</td>\n",
       "      <td>21.52</td>\n",
       "      <td>...</td>\n",
       "      <td>1</td>\n",
       "      <td>ed8cb7b190ceb6067227478e48cf8dde</td>\n",
       "      <td>SP</td>\n",
       "      <td>11015</td>\n",
       "      <td>3</td>\n",
       "      <td>0</td>\n",
       "      <td>305.0</td>\n",
       "      <td>1.0</td>\n",
       "      <td>portateis_cozinha_e_preparadores_de_alimentos</td>\n",
       "      <td>None</td>\n",
       "    </tr>\n",
       "    <tr>\n",
       "      <th>10649</th>\n",
       "      <td>2f8c498249d784bf07fae8692d4355d9</td>\n",
       "      <td>SP</td>\n",
       "      <td>6329</td>\n",
       "      <td>b1829b9fc61d2f28d8668cd5bde29e3f</td>\n",
       "      <td>delivered</td>\n",
       "      <td>2018-07-20 01:38:27</td>\n",
       "      <td>2018-07-20 01:50:13</td>\n",
       "      <td>2018-07-28 15:26:43</td>\n",
       "      <td>2018-07-30 00:00:00</td>\n",
       "      <td>17.42</td>\n",
       "      <td>...</td>\n",
       "      <td>1</td>\n",
       "      <td>ed8cb7b190ceb6067227478e48cf8dde</td>\n",
       "      <td>SP</td>\n",
       "      <td>11015</td>\n",
       "      <td>2</td>\n",
       "      <td>170</td>\n",
       "      <td>284.0</td>\n",
       "      <td>1.0</td>\n",
       "      <td>portateis_cozinha_e_preparadores_de_alimentos</td>\n",
       "      <td>None</td>\n",
       "    </tr>\n",
       "    <tr>\n",
       "      <th>13266</th>\n",
       "      <td>6a3edb309612a38197be6e1bcb0d3dea</td>\n",
       "      <td>MG</td>\n",
       "      <td>36918</td>\n",
       "      <td>542dd8c7a80f7006b56c9cbb95e6433b</td>\n",
       "      <td>delivered</td>\n",
       "      <td>2018-07-20 17:53:08</td>\n",
       "      <td>2018-07-20 18:05:18</td>\n",
       "      <td>2018-07-30 22:54:34</td>\n",
       "      <td>2018-08-08 00:00:00</td>\n",
       "      <td>34.90</td>\n",
       "      <td>...</td>\n",
       "      <td>1</td>\n",
       "      <td>ea1776927851da2532aa70d6a32c095a</td>\n",
       "      <td>SP</td>\n",
       "      <td>8223</td>\n",
       "      <td>2</td>\n",
       "      <td>0</td>\n",
       "      <td>382.0</td>\n",
       "      <td>2.0</td>\n",
       "      <td>portateis_cozinha_e_preparadores_de_alimentos</td>\n",
       "      <td>None</td>\n",
       "    </tr>\n",
       "    <tr>\n",
       "      <th>13726</th>\n",
       "      <td>11b47516f8f6a42105b9807903ede333</td>\n",
       "      <td>RJ</td>\n",
       "      <td>26383</td>\n",
       "      <td>d7ae3c10c3a4c7a721e64ba401ee745b</td>\n",
       "      <td>delivered</td>\n",
       "      <td>2018-02-20 14:59:40</td>\n",
       "      <td>2018-02-20 15:10:43</td>\n",
       "      <td>2018-03-03 17:42:36</td>\n",
       "      <td>2018-03-19 00:00:00</td>\n",
       "      <td>129.99</td>\n",
       "      <td>...</td>\n",
       "      <td>10</td>\n",
       "      <td>2138ccb85b11a4ec1e37afbd1c8eda1f</td>\n",
       "      <td>SP</td>\n",
       "      <td>8250</td>\n",
       "      <td>1</td>\n",
       "      <td>63</td>\n",
       "      <td>621.0</td>\n",
       "      <td>4.0</td>\n",
       "      <td>pc_gamer</td>\n",
       "      <td>None</td>\n",
       "    </tr>\n",
       "    <tr>\n",
       "      <th>20326</th>\n",
       "      <td>ef3210ff1b594a76939d1b3686e7fd02</td>\n",
       "      <td>RS</td>\n",
       "      <td>91040</td>\n",
       "      <td>7faf8b9448b66f4a3ac98a312b3e7609</td>\n",
       "      <td>delivered</td>\n",
       "      <td>2018-05-08 17:18:14</td>\n",
       "      <td>2018-05-08 17:35:18</td>\n",
       "      <td>2018-05-15 17:05:57</td>\n",
       "      <td>2018-06-05 00:00:00</td>\n",
       "      <td>979.00</td>\n",
       "      <td>...</td>\n",
       "      <td>8</td>\n",
       "      <td>ba90964cff9b9e0e6f32b23b82465f7b</td>\n",
       "      <td>SP</td>\n",
       "      <td>7140</td>\n",
       "      <td>5</td>\n",
       "      <td>0</td>\n",
       "      <td>1372.0</td>\n",
       "      <td>5.0</td>\n",
       "      <td>portateis_cozinha_e_preparadores_de_alimentos</td>\n",
       "      <td>None</td>\n",
       "    </tr>\n",
       "    <tr>\n",
       "      <th>20416</th>\n",
       "      <td>c2a5eec54c809c66e868cd63099ce3d5</td>\n",
       "      <td>SP</td>\n",
       "      <td>9210</td>\n",
       "      <td>2ad4df0af7a71d632dccc0129bee3268</td>\n",
       "      <td>canceled</td>\n",
       "      <td>2018-07-30 12:04:19</td>\n",
       "      <td>2018-07-30 18:31:05</td>\n",
       "      <td>None</td>\n",
       "      <td>2018-08-02 00:00:00</td>\n",
       "      <td>239.00</td>\n",
       "      <td>...</td>\n",
       "      <td>3</td>\n",
       "      <td>1961c3e1272bfeceb05d0b78b5bbfdaf</td>\n",
       "      <td>SP</td>\n",
       "      <td>7241</td>\n",
       "      <td>1</td>\n",
       "      <td>84</td>\n",
       "      <td>840.0</td>\n",
       "      <td>6.0</td>\n",
       "      <td>pc_gamer</td>\n",
       "      <td>None</td>\n",
       "    </tr>\n",
       "    <tr>\n",
       "      <th>31686</th>\n",
       "      <td>bd3c54cfb4d231a2b0d7f26b3f9549de</td>\n",
       "      <td>SP</td>\n",
       "      <td>6700</td>\n",
       "      <td>d94600e5b855ffe8db3b9bc06e21b1bd</td>\n",
       "      <td>delivered</td>\n",
       "      <td>2018-07-27 14:33:28</td>\n",
       "      <td>2018-07-28 03:35:16</td>\n",
       "      <td>2018-07-31 21:22:11</td>\n",
       "      <td>2018-08-06 00:00:00</td>\n",
       "      <td>17.53</td>\n",
       "      <td>...</td>\n",
       "      <td>1</td>\n",
       "      <td>ed8cb7b190ceb6067227478e48cf8dde</td>\n",
       "      <td>SP</td>\n",
       "      <td>11015</td>\n",
       "      <td>1</td>\n",
       "      <td>60</td>\n",
       "      <td>280.0</td>\n",
       "      <td>1.0</td>\n",
       "      <td>portateis_cozinha_e_preparadores_de_alimentos</td>\n",
       "      <td>None</td>\n",
       "    </tr>\n",
       "    <tr>\n",
       "      <th>31687</th>\n",
       "      <td>bd3c54cfb4d231a2b0d7f26b3f9549de</td>\n",
       "      <td>SP</td>\n",
       "      <td>6700</td>\n",
       "      <td>d94600e5b855ffe8db3b9bc06e21b1bd</td>\n",
       "      <td>delivered</td>\n",
       "      <td>2018-07-27 14:33:28</td>\n",
       "      <td>2018-07-28 03:35:16</td>\n",
       "      <td>2018-07-31 21:22:11</td>\n",
       "      <td>2018-08-06 00:00:00</td>\n",
       "      <td>17.53</td>\n",
       "      <td>...</td>\n",
       "      <td>1</td>\n",
       "      <td>ed8cb7b190ceb6067227478e48cf8dde</td>\n",
       "      <td>SP</td>\n",
       "      <td>11015</td>\n",
       "      <td>1</td>\n",
       "      <td>60</td>\n",
       "      <td>280.0</td>\n",
       "      <td>1.0</td>\n",
       "      <td>portateis_cozinha_e_preparadores_de_alimentos</td>\n",
       "      <td>None</td>\n",
       "    </tr>\n",
       "    <tr>\n",
       "      <th>43482</th>\n",
       "      <td>28d9650a4a5f00fcc716da5ee2460012</td>\n",
       "      <td>PE</td>\n",
       "      <td>55643</td>\n",
       "      <td>804e5ddab73def7d5e86b8ae6f27e83b</td>\n",
       "      <td>delivered</td>\n",
       "      <td>2017-06-15 14:51:11</td>\n",
       "      <td>2017-06-17 03:43:54</td>\n",
       "      <td>2017-06-30 13:12:08</td>\n",
       "      <td>2017-07-20 00:00:00</td>\n",
       "      <td>129.99</td>\n",
       "      <td>...</td>\n",
       "      <td>1</td>\n",
       "      <td>2138ccb85b11a4ec1e37afbd1c8eda1f</td>\n",
       "      <td>SP</td>\n",
       "      <td>8250</td>\n",
       "      <td>4</td>\n",
       "      <td>0</td>\n",
       "      <td>621.0</td>\n",
       "      <td>4.0</td>\n",
       "      <td>pc_gamer</td>\n",
       "      <td>None</td>\n",
       "    </tr>\n",
       "    <tr>\n",
       "      <th>52059</th>\n",
       "      <td>b25c62ba4fc28e41117f8026bf9a31b5</td>\n",
       "      <td>RJ</td>\n",
       "      <td>23032</td>\n",
       "      <td>94f94ebc2e26aeea2aa9e8945cb9fb0c</td>\n",
       "      <td>delivered</td>\n",
       "      <td>2017-04-17 14:31:24</td>\n",
       "      <td>2017-04-17 14:45:30</td>\n",
       "      <td>2017-05-04 15:18:33</td>\n",
       "      <td>2017-05-10 00:00:00</td>\n",
       "      <td>129.99</td>\n",
       "      <td>...</td>\n",
       "      <td>1</td>\n",
       "      <td>2138ccb85b11a4ec1e37afbd1c8eda1f</td>\n",
       "      <td>SP</td>\n",
       "      <td>8250</td>\n",
       "      <td>4</td>\n",
       "      <td>0</td>\n",
       "      <td>621.0</td>\n",
       "      <td>4.0</td>\n",
       "      <td>pc_gamer</td>\n",
       "      <td>None</td>\n",
       "    </tr>\n",
       "    <tr>\n",
       "      <th>63283</th>\n",
       "      <td>b70d126df03b594cb148da07860d1534</td>\n",
       "      <td>MG</td>\n",
       "      <td>39403</td>\n",
       "      <td>4821d5af4c2ac98b0f70e47c5d845520</td>\n",
       "      <td>delivered</td>\n",
       "      <td>2017-04-24 19:57:30</td>\n",
       "      <td>2017-04-24 20:40:05</td>\n",
       "      <td>2017-05-02 18:11:33</td>\n",
       "      <td>2017-05-15 00:00:00</td>\n",
       "      <td>129.99</td>\n",
       "      <td>...</td>\n",
       "      <td>3</td>\n",
       "      <td>2138ccb85b11a4ec1e37afbd1c8eda1f</td>\n",
       "      <td>SP</td>\n",
       "      <td>8250</td>\n",
       "      <td>1</td>\n",
       "      <td>0</td>\n",
       "      <td>621.0</td>\n",
       "      <td>4.0</td>\n",
       "      <td>pc_gamer</td>\n",
       "      <td>None</td>\n",
       "    </tr>\n",
       "    <tr>\n",
       "      <th>63284</th>\n",
       "      <td>b70d126df03b594cb148da07860d1534</td>\n",
       "      <td>MG</td>\n",
       "      <td>39403</td>\n",
       "      <td>4821d5af4c2ac98b0f70e47c5d845520</td>\n",
       "      <td>delivered</td>\n",
       "      <td>2017-04-24 19:57:30</td>\n",
       "      <td>2017-04-24 20:40:05</td>\n",
       "      <td>2017-05-02 18:11:33</td>\n",
       "      <td>2017-05-15 00:00:00</td>\n",
       "      <td>129.99</td>\n",
       "      <td>...</td>\n",
       "      <td>1</td>\n",
       "      <td>2138ccb85b11a4ec1e37afbd1c8eda1f</td>\n",
       "      <td>SP</td>\n",
       "      <td>8250</td>\n",
       "      <td>1</td>\n",
       "      <td>0</td>\n",
       "      <td>621.0</td>\n",
       "      <td>4.0</td>\n",
       "      <td>pc_gamer</td>\n",
       "      <td>None</td>\n",
       "    </tr>\n",
       "    <tr>\n",
       "      <th>74473</th>\n",
       "      <td>eb5caa085fd188355488d899a7b41e49</td>\n",
       "      <td>BA</td>\n",
       "      <td>47950</td>\n",
       "      <td>53fa17c349c4b3dcbbadd8aad2eb559b</td>\n",
       "      <td>delivered</td>\n",
       "      <td>2018-07-27 13:09:23</td>\n",
       "      <td>2018-07-27 13:43:56</td>\n",
       "      <td>2018-08-09 13:44:54</td>\n",
       "      <td>2018-08-21 00:00:00</td>\n",
       "      <td>21.52</td>\n",
       "      <td>...</td>\n",
       "      <td>1</td>\n",
       "      <td>ed8cb7b190ceb6067227478e48cf8dde</td>\n",
       "      <td>SP</td>\n",
       "      <td>11015</td>\n",
       "      <td>3</td>\n",
       "      <td>101</td>\n",
       "      <td>305.0</td>\n",
       "      <td>1.0</td>\n",
       "      <td>portateis_cozinha_e_preparadores_de_alimentos</td>\n",
       "      <td>None</td>\n",
       "    </tr>\n",
       "    <tr>\n",
       "      <th>76947</th>\n",
       "      <td>81a79f384f8602573644b70698bab3b1</td>\n",
       "      <td>PA</td>\n",
       "      <td>67143</td>\n",
       "      <td>a653bb2e2418fd13d746e3639879aa83</td>\n",
       "      <td>delivered</td>\n",
       "      <td>2018-05-09 10:34:53</td>\n",
       "      <td>2018-05-09 10:54:54</td>\n",
       "      <td>2018-05-28 13:51:17</td>\n",
       "      <td>2018-06-12 00:00:00</td>\n",
       "      <td>979.00</td>\n",
       "      <td>...</td>\n",
       "      <td>1</td>\n",
       "      <td>ba90964cff9b9e0e6f32b23b82465f7b</td>\n",
       "      <td>SP</td>\n",
       "      <td>7140</td>\n",
       "      <td>5</td>\n",
       "      <td>111</td>\n",
       "      <td>1372.0</td>\n",
       "      <td>5.0</td>\n",
       "      <td>portateis_cozinha_e_preparadores_de_alimentos</td>\n",
       "      <td>None</td>\n",
       "    </tr>\n",
       "    <tr>\n",
       "      <th>77367</th>\n",
       "      <td>930ff10207a0155e4d569dc1b66714c2</td>\n",
       "      <td>GO</td>\n",
       "      <td>72862</td>\n",
       "      <td>1d911134e95ec6f299e80fe19b5b88c5</td>\n",
       "      <td>canceled</td>\n",
       "      <td>2018-08-05 22:27:23</td>\n",
       "      <td>2018-08-05 22:35:17</td>\n",
       "      <td>None</td>\n",
       "      <td>2018-08-28 00:00:00</td>\n",
       "      <td>34.90</td>\n",
       "      <td>...</td>\n",
       "      <td>3</td>\n",
       "      <td>ea1776927851da2532aa70d6a32c095a</td>\n",
       "      <td>SP</td>\n",
       "      <td>8223</td>\n",
       "      <td>1</td>\n",
       "      <td>142</td>\n",
       "      <td>306.0</td>\n",
       "      <td>1.0</td>\n",
       "      <td>portateis_cozinha_e_preparadores_de_alimentos</td>\n",
       "      <td>None</td>\n",
       "    </tr>\n",
       "    <tr>\n",
       "      <th>94350</th>\n",
       "      <td>4dff4725813168461eb3e5e9f807d66a</td>\n",
       "      <td>SP</td>\n",
       "      <td>14490</td>\n",
       "      <td>a73d469a8747dea1740e9545d1051002</td>\n",
       "      <td>delivered</td>\n",
       "      <td>2018-08-27 12:41:49</td>\n",
       "      <td>2018-08-27 13:15:50</td>\n",
       "      <td>2018-08-30 22:24:46</td>\n",
       "      <td>2018-09-10 00:00:00</td>\n",
       "      <td>517.80</td>\n",
       "      <td>...</td>\n",
       "      <td>1</td>\n",
       "      <td>3296662b1331dea51e744505065ae889</td>\n",
       "      <td>SP</td>\n",
       "      <td>15805</td>\n",
       "      <td>5</td>\n",
       "      <td>0</td>\n",
       "      <td>927.0</td>\n",
       "      <td>1.0</td>\n",
       "      <td>portateis_cozinha_e_preparadores_de_alimentos</td>\n",
       "      <td>None</td>\n",
       "    </tr>\n",
       "    <tr>\n",
       "      <th>94664</th>\n",
       "      <td>ebd6ab952b5135af7e9544f40a3c7e64</td>\n",
       "      <td>SP</td>\n",
       "      <td>9750</td>\n",
       "      <td>1d7542bb5262913fe0516f7943b69a58</td>\n",
       "      <td>delivered</td>\n",
       "      <td>2018-07-28 23:32:46</td>\n",
       "      <td>2018-07-28 23:45:09</td>\n",
       "      <td>2018-07-31 19:06:21</td>\n",
       "      <td>2018-08-02 00:00:00</td>\n",
       "      <td>219.00</td>\n",
       "      <td>...</td>\n",
       "      <td>1</td>\n",
       "      <td>1961c3e1272bfeceb05d0b78b5bbfdaf</td>\n",
       "      <td>SP</td>\n",
       "      <td>7241</td>\n",
       "      <td>5</td>\n",
       "      <td>0</td>\n",
       "      <td>1532.0</td>\n",
       "      <td>3.0</td>\n",
       "      <td>pc_gamer</td>\n",
       "      <td>None</td>\n",
       "    </tr>\n",
       "    <tr>\n",
       "      <th>94665</th>\n",
       "      <td>ebd6ab952b5135af7e9544f40a3c7e64</td>\n",
       "      <td>SP</td>\n",
       "      <td>9750</td>\n",
       "      <td>1d7542bb5262913fe0516f7943b69a58</td>\n",
       "      <td>delivered</td>\n",
       "      <td>2018-07-28 23:32:46</td>\n",
       "      <td>2018-07-28 23:45:09</td>\n",
       "      <td>2018-07-31 19:06:21</td>\n",
       "      <td>2018-08-02 00:00:00</td>\n",
       "      <td>219.00</td>\n",
       "      <td>...</td>\n",
       "      <td>1</td>\n",
       "      <td>1961c3e1272bfeceb05d0b78b5bbfdaf</td>\n",
       "      <td>SP</td>\n",
       "      <td>7241</td>\n",
       "      <td>5</td>\n",
       "      <td>0</td>\n",
       "      <td>1532.0</td>\n",
       "      <td>3.0</td>\n",
       "      <td>pc_gamer</td>\n",
       "      <td>None</td>\n",
       "    </tr>\n",
       "    <tr>\n",
       "      <th>102408</th>\n",
       "      <td>ee5404be56619d4488a3212b84bb66d0</td>\n",
       "      <td>SP</td>\n",
       "      <td>5885</td>\n",
       "      <td>67f38c0b9d8a42541af92de7b6a19ea5</td>\n",
       "      <td>delivered</td>\n",
       "      <td>2018-07-27 16:59:35</td>\n",
       "      <td>2018-07-27 17:15:17</td>\n",
       "      <td>2018-08-01 16:08:40</td>\n",
       "      <td>2018-08-06 00:00:00</td>\n",
       "      <td>21.52</td>\n",
       "      <td>...</td>\n",
       "      <td>1</td>\n",
       "      <td>ed8cb7b190ceb6067227478e48cf8dde</td>\n",
       "      <td>SP</td>\n",
       "      <td>11015</td>\n",
       "      <td>4</td>\n",
       "      <td>0</td>\n",
       "      <td>305.0</td>\n",
       "      <td>1.0</td>\n",
       "      <td>portateis_cozinha_e_preparadores_de_alimentos</td>\n",
       "      <td>None</td>\n",
       "    </tr>\n",
       "    <tr>\n",
       "      <th>109191</th>\n",
       "      <td>c283a677fa9937143f13fe6f58fd901d</td>\n",
       "      <td>MG</td>\n",
       "      <td>31170</td>\n",
       "      <td>2d3bc1f6ed458a137c51adc3cab7a488</td>\n",
       "      <td>delivered</td>\n",
       "      <td>2018-08-06 09:21:25</td>\n",
       "      <td>2018-08-06 09:35:13</td>\n",
       "      <td>2018-08-10 17:18:42</td>\n",
       "      <td>2018-08-20 00:00:00</td>\n",
       "      <td>1099.00</td>\n",
       "      <td>...</td>\n",
       "      <td>6</td>\n",
       "      <td>ba90964cff9b9e0e6f32b23b82465f7b</td>\n",
       "      <td>SP</td>\n",
       "      <td>7140</td>\n",
       "      <td>3</td>\n",
       "      <td>185</td>\n",
       "      <td>1372.0</td>\n",
       "      <td>5.0</td>\n",
       "      <td>portateis_cozinha_e_preparadores_de_alimentos</td>\n",
       "      <td>None</td>\n",
       "    </tr>\n",
       "    <tr>\n",
       "      <th>109572</th>\n",
       "      <td>71512541e228be5d1762945862546187</td>\n",
       "      <td>SP</td>\n",
       "      <td>7836</td>\n",
       "      <td>c67c6e7178cff9848b2d6556d1670fd8</td>\n",
       "      <td>delivered</td>\n",
       "      <td>2018-07-22 13:32:50</td>\n",
       "      <td>2018-07-23 11:32:05</td>\n",
       "      <td>2018-07-25 17:57:42</td>\n",
       "      <td>2018-07-31 00:00:00</td>\n",
       "      <td>20.09</td>\n",
       "      <td>...</td>\n",
       "      <td>1</td>\n",
       "      <td>ed8cb7b190ceb6067227478e48cf8dde</td>\n",
       "      <td>SP</td>\n",
       "      <td>11015</td>\n",
       "      <td>5</td>\n",
       "      <td>6</td>\n",
       "      <td>280.0</td>\n",
       "      <td>1.0</td>\n",
       "      <td>portateis_cozinha_e_preparadores_de_alimentos</td>\n",
       "      <td>None</td>\n",
       "    </tr>\n",
       "    <tr>\n",
       "      <th>112578</th>\n",
       "      <td>fddbda9c640a523fd4ec421b55f4d7eb</td>\n",
       "      <td>RS</td>\n",
       "      <td>95305</td>\n",
       "      <td>4a8493d781a65dfb623103a5dedf44fa</td>\n",
       "      <td>delivered</td>\n",
       "      <td>2018-08-18 22:35:15</td>\n",
       "      <td>2018-08-21 04:55:37</td>\n",
       "      <td>2018-08-29 14:21:54</td>\n",
       "      <td>2018-09-11 00:00:00</td>\n",
       "      <td>219.00</td>\n",
       "      <td>...</td>\n",
       "      <td>1</td>\n",
       "      <td>1961c3e1272bfeceb05d0b78b5bbfdaf</td>\n",
       "      <td>SP</td>\n",
       "      <td>7241</td>\n",
       "      <td>4</td>\n",
       "      <td>0</td>\n",
       "      <td>1532.0</td>\n",
       "      <td>3.0</td>\n",
       "      <td>pc_gamer</td>\n",
       "      <td>None</td>\n",
       "    </tr>\n",
       "    <tr>\n",
       "      <th>116517</th>\n",
       "      <td>f7f16795a1871264c01bd5464a30b437</td>\n",
       "      <td>RJ</td>\n",
       "      <td>25070</td>\n",
       "      <td>0745fd0c5e5bd55f752798a152b1d04b</td>\n",
       "      <td>delivered</td>\n",
       "      <td>2018-08-17 15:45:42</td>\n",
       "      <td>2018-08-21 04:30:19</td>\n",
       "      <td>2018-08-30 16:08:27</td>\n",
       "      <td>2018-09-19 00:00:00</td>\n",
       "      <td>83.90</td>\n",
       "      <td>...</td>\n",
       "      <td>1</td>\n",
       "      <td>7aa538dd6e114e503a2e6154ea352253</td>\n",
       "      <td>SP</td>\n",
       "      <td>15807</td>\n",
       "      <td>5</td>\n",
       "      <td>40</td>\n",
       "      <td>1304.0</td>\n",
       "      <td>4.0</td>\n",
       "      <td>portateis_cozinha_e_preparadores_de_alimentos</td>\n",
       "      <td>None</td>\n",
       "    </tr>\n",
       "  </tbody>\n",
       "</table>\n",
       "<p>25 rows × 24 columns</p>\n",
       "</div>"
      ],
      "text/plain": [
       "                      customer_unique_id customer_state  \\\n",
       "1087    24a0683609e642fe0d86e5e2c97712f5             SP   \n",
       "2625    949921a7831eb8901f75baf57d1853bf             SP   \n",
       "8803    ee94c6489208799271238c965bdbd1ac             SP   \n",
       "10649   2f8c498249d784bf07fae8692d4355d9             SP   \n",
       "13266   6a3edb309612a38197be6e1bcb0d3dea             MG   \n",
       "13726   11b47516f8f6a42105b9807903ede333             RJ   \n",
       "20326   ef3210ff1b594a76939d1b3686e7fd02             RS   \n",
       "20416   c2a5eec54c809c66e868cd63099ce3d5             SP   \n",
       "31686   bd3c54cfb4d231a2b0d7f26b3f9549de             SP   \n",
       "31687   bd3c54cfb4d231a2b0d7f26b3f9549de             SP   \n",
       "43482   28d9650a4a5f00fcc716da5ee2460012             PE   \n",
       "52059   b25c62ba4fc28e41117f8026bf9a31b5             RJ   \n",
       "63283   b70d126df03b594cb148da07860d1534             MG   \n",
       "63284   b70d126df03b594cb148da07860d1534             MG   \n",
       "74473   eb5caa085fd188355488d899a7b41e49             BA   \n",
       "76947   81a79f384f8602573644b70698bab3b1             PA   \n",
       "77367   930ff10207a0155e4d569dc1b66714c2             GO   \n",
       "94350   4dff4725813168461eb3e5e9f807d66a             SP   \n",
       "94664   ebd6ab952b5135af7e9544f40a3c7e64             SP   \n",
       "94665   ebd6ab952b5135af7e9544f40a3c7e64             SP   \n",
       "102408  ee5404be56619d4488a3212b84bb66d0             SP   \n",
       "109191  c283a677fa9937143f13fe6f58fd901d             MG   \n",
       "109572  71512541e228be5d1762945862546187             SP   \n",
       "112578  fddbda9c640a523fd4ec421b55f4d7eb             RS   \n",
       "116517  f7f16795a1871264c01bd5464a30b437             RJ   \n",
       "\n",
       "        customer_zip_code_prefix                          order_id  \\\n",
       "1087                       18190  8dbdb81783a3c754dc9441826510a36a   \n",
       "2625                        7174  e4aac63ea6f6b75b6d91ead05207fb43   \n",
       "8803                        6784  b35a771164a9defa3b4767f1b66918b1   \n",
       "10649                       6329  b1829b9fc61d2f28d8668cd5bde29e3f   \n",
       "13266                      36918  542dd8c7a80f7006b56c9cbb95e6433b   \n",
       "13726                      26383  d7ae3c10c3a4c7a721e64ba401ee745b   \n",
       "20326                      91040  7faf8b9448b66f4a3ac98a312b3e7609   \n",
       "20416                       9210  2ad4df0af7a71d632dccc0129bee3268   \n",
       "31686                       6700  d94600e5b855ffe8db3b9bc06e21b1bd   \n",
       "31687                       6700  d94600e5b855ffe8db3b9bc06e21b1bd   \n",
       "43482                      55643  804e5ddab73def7d5e86b8ae6f27e83b   \n",
       "52059                      23032  94f94ebc2e26aeea2aa9e8945cb9fb0c   \n",
       "63283                      39403  4821d5af4c2ac98b0f70e47c5d845520   \n",
       "63284                      39403  4821d5af4c2ac98b0f70e47c5d845520   \n",
       "74473                      47950  53fa17c349c4b3dcbbadd8aad2eb559b   \n",
       "76947                      67143  a653bb2e2418fd13d746e3639879aa83   \n",
       "77367                      72862  1d911134e95ec6f299e80fe19b5b88c5   \n",
       "94350                      14490  a73d469a8747dea1740e9545d1051002   \n",
       "94664                       9750  1d7542bb5262913fe0516f7943b69a58   \n",
       "94665                       9750  1d7542bb5262913fe0516f7943b69a58   \n",
       "102408                      5885  67f38c0b9d8a42541af92de7b6a19ea5   \n",
       "109191                     31170  2d3bc1f6ed458a137c51adc3cab7a488   \n",
       "109572                      7836  c67c6e7178cff9848b2d6556d1670fd8   \n",
       "112578                     95305  4a8493d781a65dfb623103a5dedf44fa   \n",
       "116517                     25070  0745fd0c5e5bd55f752798a152b1d04b   \n",
       "\n",
       "       order_status order_purchase_timestamp    order_approved_at  \\\n",
       "1087      delivered      2018-08-10 14:54:25  2018-08-10 15:10:27   \n",
       "2625      delivered      2017-05-25 12:51:37  2017-05-25 13:05:42   \n",
       "8803      delivered      2018-07-23 00:49:15  2018-07-25 02:50:18   \n",
       "10649     delivered      2018-07-20 01:38:27  2018-07-20 01:50:13   \n",
       "13266     delivered      2018-07-20 17:53:08  2018-07-20 18:05:18   \n",
       "13726     delivered      2018-02-20 14:59:40  2018-02-20 15:10:43   \n",
       "20326     delivered      2018-05-08 17:18:14  2018-05-08 17:35:18   \n",
       "20416      canceled      2018-07-30 12:04:19  2018-07-30 18:31:05   \n",
       "31686     delivered      2018-07-27 14:33:28  2018-07-28 03:35:16   \n",
       "31687     delivered      2018-07-27 14:33:28  2018-07-28 03:35:16   \n",
       "43482     delivered      2017-06-15 14:51:11  2017-06-17 03:43:54   \n",
       "52059     delivered      2017-04-17 14:31:24  2017-04-17 14:45:30   \n",
       "63283     delivered      2017-04-24 19:57:30  2017-04-24 20:40:05   \n",
       "63284     delivered      2017-04-24 19:57:30  2017-04-24 20:40:05   \n",
       "74473     delivered      2018-07-27 13:09:23  2018-07-27 13:43:56   \n",
       "76947     delivered      2018-05-09 10:34:53  2018-05-09 10:54:54   \n",
       "77367      canceled      2018-08-05 22:27:23  2018-08-05 22:35:17   \n",
       "94350     delivered      2018-08-27 12:41:49  2018-08-27 13:15:50   \n",
       "94664     delivered      2018-07-28 23:32:46  2018-07-28 23:45:09   \n",
       "94665     delivered      2018-07-28 23:32:46  2018-07-28 23:45:09   \n",
       "102408    delivered      2018-07-27 16:59:35  2018-07-27 17:15:17   \n",
       "109191    delivered      2018-08-06 09:21:25  2018-08-06 09:35:13   \n",
       "109572    delivered      2018-07-22 13:32:50  2018-07-23 11:32:05   \n",
       "112578    delivered      2018-08-18 22:35:15  2018-08-21 04:55:37   \n",
       "116517    delivered      2018-08-17 15:45:42  2018-08-21 04:30:19   \n",
       "\n",
       "       order_delivered_customer_date order_estimated_delivery_date  \\\n",
       "1087             2018-08-17 20:51:49           2018-08-30 00:00:00   \n",
       "2625             2017-06-02 09:44:29           2017-06-07 00:00:00   \n",
       "8803             2018-08-03 10:03:31           2018-07-31 00:00:00   \n",
       "10649            2018-07-28 15:26:43           2018-07-30 00:00:00   \n",
       "13266            2018-07-30 22:54:34           2018-08-08 00:00:00   \n",
       "13726            2018-03-03 17:42:36           2018-03-19 00:00:00   \n",
       "20326            2018-05-15 17:05:57           2018-06-05 00:00:00   \n",
       "20416                           None           2018-08-02 00:00:00   \n",
       "31686            2018-07-31 21:22:11           2018-08-06 00:00:00   \n",
       "31687            2018-07-31 21:22:11           2018-08-06 00:00:00   \n",
       "43482            2017-06-30 13:12:08           2017-07-20 00:00:00   \n",
       "52059            2017-05-04 15:18:33           2017-05-10 00:00:00   \n",
       "63283            2017-05-02 18:11:33           2017-05-15 00:00:00   \n",
       "63284            2017-05-02 18:11:33           2017-05-15 00:00:00   \n",
       "74473            2018-08-09 13:44:54           2018-08-21 00:00:00   \n",
       "76947            2018-05-28 13:51:17           2018-06-12 00:00:00   \n",
       "77367                           None           2018-08-28 00:00:00   \n",
       "94350            2018-08-30 22:24:46           2018-09-10 00:00:00   \n",
       "94664            2018-07-31 19:06:21           2018-08-02 00:00:00   \n",
       "94665            2018-07-31 19:06:21           2018-08-02 00:00:00   \n",
       "102408           2018-08-01 16:08:40           2018-08-06 00:00:00   \n",
       "109191           2018-08-10 17:18:42           2018-08-20 00:00:00   \n",
       "109572           2018-07-25 17:57:42           2018-07-31 00:00:00   \n",
       "112578           2018-08-29 14:21:54           2018-09-11 00:00:00   \n",
       "116517           2018-08-30 16:08:27           2018-09-19 00:00:00   \n",
       "\n",
       "        item_price  ...  payment_installments  \\\n",
       "1087        102.90  ...                     2   \n",
       "2625        129.99  ...                     3   \n",
       "8803         21.52  ...                     1   \n",
       "10649        17.42  ...                     1   \n",
       "13266        34.90  ...                     1   \n",
       "13726       129.99  ...                    10   \n",
       "20326       979.00  ...                     8   \n",
       "20416       239.00  ...                     3   \n",
       "31686        17.53  ...                     1   \n",
       "31687        17.53  ...                     1   \n",
       "43482       129.99  ...                     1   \n",
       "52059       129.99  ...                     1   \n",
       "63283       129.99  ...                     3   \n",
       "63284       129.99  ...                     1   \n",
       "74473        21.52  ...                     1   \n",
       "76947       979.00  ...                     1   \n",
       "77367        34.90  ...                     3   \n",
       "94350       517.80  ...                     1   \n",
       "94664       219.00  ...                     1   \n",
       "94665       219.00  ...                     1   \n",
       "102408       21.52  ...                     1   \n",
       "109191     1099.00  ...                     6   \n",
       "109572       20.09  ...                     1   \n",
       "112578      219.00  ...                     1   \n",
       "116517       83.90  ...                     1   \n",
       "\n",
       "                               seller_id  seller_state seller_zip_code_prefix  \\\n",
       "1087    7aa538dd6e114e503a2e6154ea352253            SP                  15807   \n",
       "2625    2138ccb85b11a4ec1e37afbd1c8eda1f            SP                   8250   \n",
       "8803    ed8cb7b190ceb6067227478e48cf8dde            SP                  11015   \n",
       "10649   ed8cb7b190ceb6067227478e48cf8dde            SP                  11015   \n",
       "13266   ea1776927851da2532aa70d6a32c095a            SP                   8223   \n",
       "13726   2138ccb85b11a4ec1e37afbd1c8eda1f            SP                   8250   \n",
       "20326   ba90964cff9b9e0e6f32b23b82465f7b            SP                   7140   \n",
       "20416   1961c3e1272bfeceb05d0b78b5bbfdaf            SP                   7241   \n",
       "31686   ed8cb7b190ceb6067227478e48cf8dde            SP                  11015   \n",
       "31687   ed8cb7b190ceb6067227478e48cf8dde            SP                  11015   \n",
       "43482   2138ccb85b11a4ec1e37afbd1c8eda1f            SP                   8250   \n",
       "52059   2138ccb85b11a4ec1e37afbd1c8eda1f            SP                   8250   \n",
       "63283   2138ccb85b11a4ec1e37afbd1c8eda1f            SP                   8250   \n",
       "63284   2138ccb85b11a4ec1e37afbd1c8eda1f            SP                   8250   \n",
       "74473   ed8cb7b190ceb6067227478e48cf8dde            SP                  11015   \n",
       "76947   ba90964cff9b9e0e6f32b23b82465f7b            SP                   7140   \n",
       "77367   ea1776927851da2532aa70d6a32c095a            SP                   8223   \n",
       "94350   3296662b1331dea51e744505065ae889            SP                  15805   \n",
       "94664   1961c3e1272bfeceb05d0b78b5bbfdaf            SP                   7241   \n",
       "94665   1961c3e1272bfeceb05d0b78b5bbfdaf            SP                   7241   \n",
       "102408  ed8cb7b190ceb6067227478e48cf8dde            SP                  11015   \n",
       "109191  ba90964cff9b9e0e6f32b23b82465f7b            SP                   7140   \n",
       "109572  ed8cb7b190ceb6067227478e48cf8dde            SP                  11015   \n",
       "112578  1961c3e1272bfeceb05d0b78b5bbfdaf            SP                   7241   \n",
       "116517  7aa538dd6e114e503a2e6154ea352253            SP                  15807   \n",
       "\n",
       "        review_score review_length product_description_lenght  \\\n",
       "1087               4           160                      792.0   \n",
       "2625               5             0                      621.0   \n",
       "8803               3             0                      305.0   \n",
       "10649              2           170                      284.0   \n",
       "13266              2             0                      382.0   \n",
       "13726              1            63                      621.0   \n",
       "20326              5             0                     1372.0   \n",
       "20416              1            84                      840.0   \n",
       "31686              1            60                      280.0   \n",
       "31687              1            60                      280.0   \n",
       "43482              4             0                      621.0   \n",
       "52059              4             0                      621.0   \n",
       "63283              1             0                      621.0   \n",
       "63284              1             0                      621.0   \n",
       "74473              3           101                      305.0   \n",
       "76947              5           111                     1372.0   \n",
       "77367              1           142                      306.0   \n",
       "94350              5             0                      927.0   \n",
       "94664              5             0                     1532.0   \n",
       "94665              5             0                     1532.0   \n",
       "102408             4             0                      305.0   \n",
       "109191             3           185                     1372.0   \n",
       "109572             5             6                      280.0   \n",
       "112578             4             0                     1532.0   \n",
       "116517             5            40                     1304.0   \n",
       "\n",
       "        product_photos_qty                          product_category_name  \\\n",
       "1087                   4.0  portateis_cozinha_e_preparadores_de_alimentos   \n",
       "2625                   4.0                                       pc_gamer   \n",
       "8803                   1.0  portateis_cozinha_e_preparadores_de_alimentos   \n",
       "10649                  1.0  portateis_cozinha_e_preparadores_de_alimentos   \n",
       "13266                  2.0  portateis_cozinha_e_preparadores_de_alimentos   \n",
       "13726                  4.0                                       pc_gamer   \n",
       "20326                  5.0  portateis_cozinha_e_preparadores_de_alimentos   \n",
       "20416                  6.0                                       pc_gamer   \n",
       "31686                  1.0  portateis_cozinha_e_preparadores_de_alimentos   \n",
       "31687                  1.0  portateis_cozinha_e_preparadores_de_alimentos   \n",
       "43482                  4.0                                       pc_gamer   \n",
       "52059                  4.0                                       pc_gamer   \n",
       "63283                  4.0                                       pc_gamer   \n",
       "63284                  4.0                                       pc_gamer   \n",
       "74473                  1.0  portateis_cozinha_e_preparadores_de_alimentos   \n",
       "76947                  5.0  portateis_cozinha_e_preparadores_de_alimentos   \n",
       "77367                  1.0  portateis_cozinha_e_preparadores_de_alimentos   \n",
       "94350                  1.0  portateis_cozinha_e_preparadores_de_alimentos   \n",
       "94664                  3.0                                       pc_gamer   \n",
       "94665                  3.0                                       pc_gamer   \n",
       "102408                 1.0  portateis_cozinha_e_preparadores_de_alimentos   \n",
       "109191                 5.0  portateis_cozinha_e_preparadores_de_alimentos   \n",
       "109572                 1.0  portateis_cozinha_e_preparadores_de_alimentos   \n",
       "112578                 3.0                                       pc_gamer   \n",
       "116517                 4.0  portateis_cozinha_e_preparadores_de_alimentos   \n",
       "\n",
       "        product_category_name_english  \n",
       "1087                             None  \n",
       "2625                             None  \n",
       "8803                             None  \n",
       "10649                            None  \n",
       "13266                            None  \n",
       "13726                            None  \n",
       "20326                            None  \n",
       "20416                            None  \n",
       "31686                            None  \n",
       "31687                            None  \n",
       "43482                            None  \n",
       "52059                            None  \n",
       "63283                            None  \n",
       "63284                            None  \n",
       "74473                            None  \n",
       "76947                            None  \n",
       "77367                            None  \n",
       "94350                            None  \n",
       "94664                            None  \n",
       "94665                            None  \n",
       "102408                           None  \n",
       "109191                           None  \n",
       "109572                           None  \n",
       "112578                           None  \n",
       "116517                           None  \n",
       "\n",
       "[25 rows x 24 columns]"
      ]
     },
     "execution_count": 14,
     "metadata": {},
     "output_type": "execute_result"
    }
   ],
   "source": [
    "df_details.loc[df_details[\"product_category_name\"].isin([\"portateis_cozinha_e_preparadores_de_alimentos\", \"pc_gamer\"])]"
   ]
  },
  {
   "cell_type": "markdown",
   "metadata": {},
   "source": [
    "#### Solution"
   ]
  },
  {
   "cell_type": "code",
   "execution_count": 15,
   "metadata": {},
   "outputs": [],
   "source": [
    "# replace none with value depending on original category value\n",
    "df_details.loc[df_details[\"product_category_name\"] == \"portateis_cozinha_e_preparadores_de_alimentos\", \"product_category_name_english\"] = \"portable_kitchen_and_food_preparation_devices\"\n",
    "df_details.loc[df_details[\"product_category_name\"] == \"pc_gamer\", \"product_category_name_english\"] = \"pc_gamer\""
   ]
  },
  {
   "cell_type": "code",
   "execution_count": 16,
   "metadata": {},
   "outputs": [
    {
     "data": {
      "text/html": [
       "<div>\n",
       "<style scoped>\n",
       "    .dataframe tbody tr th:only-of-type {\n",
       "        vertical-align: middle;\n",
       "    }\n",
       "\n",
       "    .dataframe tbody tr th {\n",
       "        vertical-align: top;\n",
       "    }\n",
       "\n",
       "    .dataframe thead th {\n",
       "        text-align: right;\n",
       "    }\n",
       "</style>\n",
       "<table border=\"1\" class=\"dataframe\">\n",
       "  <thead>\n",
       "    <tr style=\"text-align: right;\">\n",
       "      <th></th>\n",
       "      <th>column</th>\n",
       "      <th>missing_values</th>\n",
       "    </tr>\n",
       "  </thead>\n",
       "  <tbody>\n",
       "    <tr>\n",
       "      <th>0</th>\n",
       "      <td>order_delivered_customer_date</td>\n",
       "      <td>2540</td>\n",
       "    </tr>\n",
       "    <tr>\n",
       "      <th>1</th>\n",
       "      <td>product_description_lenght</td>\n",
       "      <td>1707</td>\n",
       "    </tr>\n",
       "    <tr>\n",
       "      <th>2</th>\n",
       "      <td>product_photos_qty</td>\n",
       "      <td>1707</td>\n",
       "    </tr>\n",
       "    <tr>\n",
       "      <th>3</th>\n",
       "      <td>product_category_name</td>\n",
       "      <td>1707</td>\n",
       "    </tr>\n",
       "    <tr>\n",
       "      <th>4</th>\n",
       "      <td>product_category_name_english</td>\n",
       "      <td>1707</td>\n",
       "    </tr>\n",
       "    <tr>\n",
       "      <th>5</th>\n",
       "      <td>order_approved_at</td>\n",
       "      <td>15</td>\n",
       "    </tr>\n",
       "  </tbody>\n",
       "</table>\n",
       "</div>"
      ],
      "text/plain": [
       "                          column  missing_values\n",
       "0  order_delivered_customer_date            2540\n",
       "1     product_description_lenght            1707\n",
       "2             product_photos_qty            1707\n",
       "3          product_category_name            1707\n",
       "4  product_category_name_english            1707\n",
       "5              order_approved_at              15"
      ]
     },
     "execution_count": 16,
     "metadata": {},
     "output_type": "execute_result"
    }
   ],
   "source": [
    "display_missing_values(df_details)"
   ]
  },
  {
   "cell_type": "code",
   "execution_count": 17,
   "metadata": {},
   "outputs": [
    {
     "data": {
      "text/html": [
       "<div>\n",
       "<style scoped>\n",
       "    .dataframe tbody tr th:only-of-type {\n",
       "        vertical-align: middle;\n",
       "    }\n",
       "\n",
       "    .dataframe tbody tr th {\n",
       "        vertical-align: top;\n",
       "    }\n",
       "\n",
       "    .dataframe thead th {\n",
       "        text-align: right;\n",
       "    }\n",
       "</style>\n",
       "<table border=\"1\" class=\"dataframe\">\n",
       "  <thead>\n",
       "    <tr style=\"text-align: right;\">\n",
       "      <th></th>\n",
       "      <th>column</th>\n",
       "      <th>missing_values</th>\n",
       "    </tr>\n",
       "  </thead>\n",
       "  <tbody>\n",
       "    <tr>\n",
       "      <th>0</th>\n",
       "      <td>order_delivered_customer_date</td>\n",
       "      <td>2469</td>\n",
       "    </tr>\n",
       "    <tr>\n",
       "      <th>1</th>\n",
       "      <td>order_approved_at</td>\n",
       "      <td>14</td>\n",
       "    </tr>\n",
       "  </tbody>\n",
       "</table>\n",
       "</div>"
      ],
      "text/plain": [
       "                          column  missing_values\n",
       "0  order_delivered_customer_date            2469\n",
       "1              order_approved_at              14"
      ]
     },
     "execution_count": 17,
     "metadata": {},
     "output_type": "execute_result"
    }
   ],
   "source": [
    "# Drop rows with missing values\n",
    "df_details.dropna(subset=[\"product_category_name_english\"], inplace=True)\n",
    "display_missing_values(df_details)"
   ]
  },
  {
   "cell_type": "markdown",
   "metadata": {},
   "source": [
    "## Processing"
   ]
  },
  {
   "cell_type": "markdown",
   "metadata": {},
   "source": [
    "### Enquiry"
   ]
  },
  {
   "cell_type": "code",
   "execution_count": 18,
   "metadata": {},
   "outputs": [
    {
     "data": {
      "text/plain": [
       "np.int64(14)"
      ]
     },
     "execution_count": 18,
     "metadata": {},
     "output_type": "execute_result"
    }
   ],
   "source": [
    "df_details[\"order_approved_at\"].isna().sum()"
   ]
  },
  {
   "cell_type": "code",
   "execution_count": 19,
   "metadata": {},
   "outputs": [
    {
     "data": {
      "text/html": [
       "<div>\n",
       "<style scoped>\n",
       "    .dataframe tbody tr th:only-of-type {\n",
       "        vertical-align: middle;\n",
       "    }\n",
       "\n",
       "    .dataframe tbody tr th {\n",
       "        vertical-align: top;\n",
       "    }\n",
       "\n",
       "    .dataframe thead th {\n",
       "        text-align: right;\n",
       "    }\n",
       "</style>\n",
       "<table border=\"1\" class=\"dataframe\">\n",
       "  <thead>\n",
       "    <tr style=\"text-align: right;\">\n",
       "      <th></th>\n",
       "      <th>customer_unique_id</th>\n",
       "      <th>customer_state</th>\n",
       "      <th>customer_zip_code_prefix</th>\n",
       "      <th>order_id</th>\n",
       "      <th>order_status</th>\n",
       "      <th>order_purchase_timestamp</th>\n",
       "      <th>order_approved_at</th>\n",
       "      <th>order_delivered_customer_date</th>\n",
       "      <th>order_estimated_delivery_date</th>\n",
       "      <th>item_price</th>\n",
       "      <th>...</th>\n",
       "      <th>payment_installments</th>\n",
       "      <th>seller_id</th>\n",
       "      <th>seller_state</th>\n",
       "      <th>seller_zip_code_prefix</th>\n",
       "      <th>review_score</th>\n",
       "      <th>review_length</th>\n",
       "      <th>product_description_lenght</th>\n",
       "      <th>product_photos_qty</th>\n",
       "      <th>product_category_name</th>\n",
       "      <th>product_category_name_english</th>\n",
       "    </tr>\n",
       "  </thead>\n",
       "  <tbody>\n",
       "    <tr>\n",
       "      <th>6230</th>\n",
       "      <td>8a9a08c7ca8900a200d83cf838a07e0b</td>\n",
       "      <td>SP</td>\n",
       "      <td>6708</td>\n",
       "      <td>e04abd8149ef81b95221e88f6ed9ab6a</td>\n",
       "      <td>delivered</td>\n",
       "      <td>2017-02-18 14:40:00</td>\n",
       "      <td>None</td>\n",
       "      <td>2017-03-01 13:25:33</td>\n",
       "      <td>2017-03-17 00:00:00</td>\n",
       "      <td>309.90</td>\n",
       "      <td>...</td>\n",
       "      <td>1</td>\n",
       "      <td>4e7c18b98d84e05cbae3ff0ff03846c2</td>\n",
       "      <td>SP</td>\n",
       "      <td>14882</td>\n",
       "      <td>4</td>\n",
       "      <td>38</td>\n",
       "      <td>675.0</td>\n",
       "      <td>2.0</td>\n",
       "      <td>eletroportateis</td>\n",
       "      <td>small_appliances</td>\n",
       "    </tr>\n",
       "    <tr>\n",
       "      <th>19571</th>\n",
       "      <td>91efb7fcabc17925099dced52435837f</td>\n",
       "      <td>RS</td>\n",
       "      <td>93548</td>\n",
       "      <td>8a9adc69528e1001fc68dd0aaebbb54a</td>\n",
       "      <td>delivered</td>\n",
       "      <td>2017-02-18 12:45:31</td>\n",
       "      <td>None</td>\n",
       "      <td>2017-03-02 10:05:06</td>\n",
       "      <td>2017-03-21 00:00:00</td>\n",
       "      <td>379.00</td>\n",
       "      <td>...</td>\n",
       "      <td>1</td>\n",
       "      <td>a4b6b9b992b46e9ef863637af96e04bc</td>\n",
       "      <td>SC</td>\n",
       "      <td>88090</td>\n",
       "      <td>5</td>\n",
       "      <td>0</td>\n",
       "      <td>498.0</td>\n",
       "      <td>1.0</td>\n",
       "      <td>construcao_ferramentas_seguranca</td>\n",
       "      <td>construction_tools_safety</td>\n",
       "    </tr>\n",
       "    <tr>\n",
       "      <th>26822</th>\n",
       "      <td>7e1a5ca61b572d76b64b6688b9f96473</td>\n",
       "      <td>CE</td>\n",
       "      <td>62700</td>\n",
       "      <td>5cf925b116421afa85ee25e99b4c34fb</td>\n",
       "      <td>delivered</td>\n",
       "      <td>2017-02-18 16:48:35</td>\n",
       "      <td>None</td>\n",
       "      <td>2017-03-09 07:28:47</td>\n",
       "      <td>2017-03-31 00:00:00</td>\n",
       "      <td>79.99</td>\n",
       "      <td>...</td>\n",
       "      <td>1</td>\n",
       "      <td>7a67c85e85bb2ce8582c35f2203ad736</td>\n",
       "      <td>SP</td>\n",
       "      <td>3426</td>\n",
       "      <td>5</td>\n",
       "      <td>0</td>\n",
       "      <td>1012.0</td>\n",
       "      <td>1.0</td>\n",
       "      <td>cool_stuff</td>\n",
       "      <td>cool_stuff</td>\n",
       "    </tr>\n",
       "    <tr>\n",
       "      <th>27413</th>\n",
       "      <td>c8822fce1d0bfa7ddf0da24fff947172</td>\n",
       "      <td>RJ</td>\n",
       "      <td>27945</td>\n",
       "      <td>12a95a3c06dbaec84bcfb0e2da5d228a</td>\n",
       "      <td>delivered</td>\n",
       "      <td>2017-02-17 13:05:55</td>\n",
       "      <td>None</td>\n",
       "      <td>2017-03-02 11:09:19</td>\n",
       "      <td>2017-03-20 00:00:00</td>\n",
       "      <td>79.99</td>\n",
       "      <td>...</td>\n",
       "      <td>1</td>\n",
       "      <td>7a67c85e85bb2ce8582c35f2203ad736</td>\n",
       "      <td>SP</td>\n",
       "      <td>3426</td>\n",
       "      <td>5</td>\n",
       "      <td>0</td>\n",
       "      <td>1012.0</td>\n",
       "      <td>1.0</td>\n",
       "      <td>cool_stuff</td>\n",
       "      <td>cool_stuff</td>\n",
       "    </tr>\n",
       "    <tr>\n",
       "      <th>31779</th>\n",
       "      <td>6ff8b0d7b35d5c945633b8d60165691b</td>\n",
       "      <td>SP</td>\n",
       "      <td>11030</td>\n",
       "      <td>c1d4211b3dae76144deccd6c74144a88</td>\n",
       "      <td>delivered</td>\n",
       "      <td>2017-01-19 12:48:08</td>\n",
       "      <td>None</td>\n",
       "      <td>2017-01-30 18:16:01</td>\n",
       "      <td>2017-03-01 00:00:00</td>\n",
       "      <td>39.99</td>\n",
       "      <td>...</td>\n",
       "      <td>1</td>\n",
       "      <td>80e6699fe29150b372a0c8a1ebf7dcc8</td>\n",
       "      <td>PR</td>\n",
       "      <td>83323</td>\n",
       "      <td>4</td>\n",
       "      <td>56</td>\n",
       "      <td>1322.0</td>\n",
       "      <td>2.0</td>\n",
       "      <td>esporte_lazer</td>\n",
       "      <td>sports_leisure</td>\n",
       "    </tr>\n",
       "    <tr>\n",
       "      <th>45430</th>\n",
       "      <td>2e0a2166aa23da2472c6a60c4af6f7a6</td>\n",
       "      <td>SP</td>\n",
       "      <td>3573</td>\n",
       "      <td>d69e5d356402adc8cf17e08b5033acfb</td>\n",
       "      <td>delivered</td>\n",
       "      <td>2017-02-19 01:28:47</td>\n",
       "      <td>None</td>\n",
       "      <td>2017-03-02 03:41:58</td>\n",
       "      <td>2017-03-27 00:00:00</td>\n",
       "      <td>149.80</td>\n",
       "      <td>...</td>\n",
       "      <td>1</td>\n",
       "      <td>cca3071e3e9bb7d12640c9fbe2301306</td>\n",
       "      <td>SP</td>\n",
       "      <td>14940</td>\n",
       "      <td>5</td>\n",
       "      <td>17</td>\n",
       "      <td>586.0</td>\n",
       "      <td>1.0</td>\n",
       "      <td>moveis_decoracao</td>\n",
       "      <td>furniture_decor</td>\n",
       "    </tr>\n",
       "    <tr>\n",
       "      <th>46678</th>\n",
       "      <td>c4c0011e639bdbcf26059ddc38bd3c18</td>\n",
       "      <td>SP</td>\n",
       "      <td>13225</td>\n",
       "      <td>d77031d6a3c8a52f019764e68f211c69</td>\n",
       "      <td>delivered</td>\n",
       "      <td>2017-02-18 11:04:19</td>\n",
       "      <td>None</td>\n",
       "      <td>2017-03-02 16:15:23</td>\n",
       "      <td>2017-03-22 00:00:00</td>\n",
       "      <td>28.99</td>\n",
       "      <td>...</td>\n",
       "      <td>1</td>\n",
       "      <td>cb3dd9ce66268c7a3ca7241ac70ab58c</td>\n",
       "      <td>SP</td>\n",
       "      <td>3028</td>\n",
       "      <td>5</td>\n",
       "      <td>44</td>\n",
       "      <td>1738.0</td>\n",
       "      <td>1.0</td>\n",
       "      <td>esporte_lazer</td>\n",
       "      <td>sports_leisure</td>\n",
       "    </tr>\n",
       "    <tr>\n",
       "      <th>57393</th>\n",
       "      <td>d49f3dae6bad25d05160fc17aca5942d</td>\n",
       "      <td>MG</td>\n",
       "      <td>36400</td>\n",
       "      <td>7002a78c79c519ac54022d4f8a65e6e8</td>\n",
       "      <td>delivered</td>\n",
       "      <td>2017-01-19 22:26:59</td>\n",
       "      <td>None</td>\n",
       "      <td>2017-02-06 14:22:19</td>\n",
       "      <td>2017-03-16 00:00:00</td>\n",
       "      <td>45.90</td>\n",
       "      <td>...</td>\n",
       "      <td>1</td>\n",
       "      <td>cca3071e3e9bb7d12640c9fbe2301306</td>\n",
       "      <td>SP</td>\n",
       "      <td>14940</td>\n",
       "      <td>2</td>\n",
       "      <td>98</td>\n",
       "      <td>473.0</td>\n",
       "      <td>1.0</td>\n",
       "      <td>moveis_decoracao</td>\n",
       "      <td>furniture_decor</td>\n",
       "    </tr>\n",
       "    <tr>\n",
       "      <th>73024</th>\n",
       "      <td>5a4fa4919cbf2b049e72be460a380e5b</td>\n",
       "      <td>MG</td>\n",
       "      <td>35620</td>\n",
       "      <td>2eecb0d85f281280f79fa00f9cec1a95</td>\n",
       "      <td>delivered</td>\n",
       "      <td>2017-02-17 17:21:55</td>\n",
       "      <td>None</td>\n",
       "      <td>2017-03-03 12:16:03</td>\n",
       "      <td>2017-03-20 00:00:00</td>\n",
       "      <td>135.00</td>\n",
       "      <td>...</td>\n",
       "      <td>1</td>\n",
       "      <td>5fd924b4836098a5be0ecf81ba054ce0</td>\n",
       "      <td>SP</td>\n",
       "      <td>3554</td>\n",
       "      <td>5</td>\n",
       "      <td>0</td>\n",
       "      <td>441.0</td>\n",
       "      <td>3.0</td>\n",
       "      <td>ferramentas_jardim</td>\n",
       "      <td>garden_tools</td>\n",
       "    </tr>\n",
       "    <tr>\n",
       "      <th>74577</th>\n",
       "      <td>79af1bbf230a2630487975aa5d7d6220</td>\n",
       "      <td>MG</td>\n",
       "      <td>37660</td>\n",
       "      <td>51eb2eebd5d76a24625b31c33dd41449</td>\n",
       "      <td>delivered</td>\n",
       "      <td>2017-02-18 15:52:27</td>\n",
       "      <td>None</td>\n",
       "      <td>2017-03-07 13:57:47</td>\n",
       "      <td>2017-03-29 00:00:00</td>\n",
       "      <td>59.90</td>\n",
       "      <td>...</td>\n",
       "      <td>1</td>\n",
       "      <td>cca3071e3e9bb7d12640c9fbe2301306</td>\n",
       "      <td>SP</td>\n",
       "      <td>14940</td>\n",
       "      <td>5</td>\n",
       "      <td>0</td>\n",
       "      <td>438.0</td>\n",
       "      <td>1.0</td>\n",
       "      <td>moveis_decoracao</td>\n",
       "      <td>furniture_decor</td>\n",
       "    </tr>\n",
       "    <tr>\n",
       "      <th>80145</th>\n",
       "      <td>bc1896dc77f49e6dec880445a9b443a3</td>\n",
       "      <td>RJ</td>\n",
       "      <td>21020</td>\n",
       "      <td>88083e8f64d95b932164187484d90212</td>\n",
       "      <td>delivered</td>\n",
       "      <td>2017-02-18 22:49:19</td>\n",
       "      <td>None</td>\n",
       "      <td>2017-03-02 12:06:06</td>\n",
       "      <td>2017-03-21 00:00:00</td>\n",
       "      <td>49.00</td>\n",
       "      <td>...</td>\n",
       "      <td>1</td>\n",
       "      <td>0db783cfcd3b73998abc6e10e59a102f</td>\n",
       "      <td>SP</td>\n",
       "      <td>11010</td>\n",
       "      <td>4</td>\n",
       "      <td>199</td>\n",
       "      <td>440.0</td>\n",
       "      <td>1.0</td>\n",
       "      <td>telefonia</td>\n",
       "      <td>telephony</td>\n",
       "    </tr>\n",
       "    <tr>\n",
       "      <th>80146</th>\n",
       "      <td>bc1896dc77f49e6dec880445a9b443a3</td>\n",
       "      <td>RJ</td>\n",
       "      <td>21020</td>\n",
       "      <td>88083e8f64d95b932164187484d90212</td>\n",
       "      <td>delivered</td>\n",
       "      <td>2017-02-18 22:49:19</td>\n",
       "      <td>None</td>\n",
       "      <td>2017-03-02 12:06:06</td>\n",
       "      <td>2017-03-21 00:00:00</td>\n",
       "      <td>49.00</td>\n",
       "      <td>...</td>\n",
       "      <td>1</td>\n",
       "      <td>0db783cfcd3b73998abc6e10e59a102f</td>\n",
       "      <td>SP</td>\n",
       "      <td>11010</td>\n",
       "      <td>4</td>\n",
       "      <td>199</td>\n",
       "      <td>440.0</td>\n",
       "      <td>1.0</td>\n",
       "      <td>telefonia</td>\n",
       "      <td>telephony</td>\n",
       "    </tr>\n",
       "    <tr>\n",
       "      <th>85747</th>\n",
       "      <td>c094ac95fcd52f821809ec232a7a6956</td>\n",
       "      <td>RS</td>\n",
       "      <td>95795</td>\n",
       "      <td>3c0b8706b065f9919d0505d3b3343881</td>\n",
       "      <td>delivered</td>\n",
       "      <td>2017-02-17 15:53:27</td>\n",
       "      <td>None</td>\n",
       "      <td>2017-03-03 11:47:47</td>\n",
       "      <td>2017-03-23 00:00:00</td>\n",
       "      <td>133.99</td>\n",
       "      <td>...</td>\n",
       "      <td>1</td>\n",
       "      <td>004c9cd9d87a3c30c522c48c4fc07416</td>\n",
       "      <td>SP</td>\n",
       "      <td>14940</td>\n",
       "      <td>3</td>\n",
       "      <td>0</td>\n",
       "      <td>702.0</td>\n",
       "      <td>1.0</td>\n",
       "      <td>cama_mesa_banho</td>\n",
       "      <td>bed_bath_table</td>\n",
       "    </tr>\n",
       "    <tr>\n",
       "      <th>100646</th>\n",
       "      <td>f79be7c08dd24b72d34634f1b89333a4</td>\n",
       "      <td>MA</td>\n",
       "      <td>65110</td>\n",
       "      <td>2babbb4b15e6d2dfe95e2de765c97bce</td>\n",
       "      <td>delivered</td>\n",
       "      <td>2017-02-18 17:15:03</td>\n",
       "      <td>None</td>\n",
       "      <td>2017-03-03 18:43:43</td>\n",
       "      <td>2017-03-31 00:00:00</td>\n",
       "      <td>79.99</td>\n",
       "      <td>...</td>\n",
       "      <td>1</td>\n",
       "      <td>7a67c85e85bb2ce8582c35f2203ad736</td>\n",
       "      <td>SP</td>\n",
       "      <td>3426</td>\n",
       "      <td>4</td>\n",
       "      <td>90</td>\n",
       "      <td>1012.0</td>\n",
       "      <td>1.0</td>\n",
       "      <td>cool_stuff</td>\n",
       "      <td>cool_stuff</td>\n",
       "    </tr>\n",
       "  </tbody>\n",
       "</table>\n",
       "<p>14 rows × 24 columns</p>\n",
       "</div>"
      ],
      "text/plain": [
       "                      customer_unique_id customer_state  \\\n",
       "6230    8a9a08c7ca8900a200d83cf838a07e0b             SP   \n",
       "19571   91efb7fcabc17925099dced52435837f             RS   \n",
       "26822   7e1a5ca61b572d76b64b6688b9f96473             CE   \n",
       "27413   c8822fce1d0bfa7ddf0da24fff947172             RJ   \n",
       "31779   6ff8b0d7b35d5c945633b8d60165691b             SP   \n",
       "45430   2e0a2166aa23da2472c6a60c4af6f7a6             SP   \n",
       "46678   c4c0011e639bdbcf26059ddc38bd3c18             SP   \n",
       "57393   d49f3dae6bad25d05160fc17aca5942d             MG   \n",
       "73024   5a4fa4919cbf2b049e72be460a380e5b             MG   \n",
       "74577   79af1bbf230a2630487975aa5d7d6220             MG   \n",
       "80145   bc1896dc77f49e6dec880445a9b443a3             RJ   \n",
       "80146   bc1896dc77f49e6dec880445a9b443a3             RJ   \n",
       "85747   c094ac95fcd52f821809ec232a7a6956             RS   \n",
       "100646  f79be7c08dd24b72d34634f1b89333a4             MA   \n",
       "\n",
       "        customer_zip_code_prefix                          order_id  \\\n",
       "6230                        6708  e04abd8149ef81b95221e88f6ed9ab6a   \n",
       "19571                      93548  8a9adc69528e1001fc68dd0aaebbb54a   \n",
       "26822                      62700  5cf925b116421afa85ee25e99b4c34fb   \n",
       "27413                      27945  12a95a3c06dbaec84bcfb0e2da5d228a   \n",
       "31779                      11030  c1d4211b3dae76144deccd6c74144a88   \n",
       "45430                       3573  d69e5d356402adc8cf17e08b5033acfb   \n",
       "46678                      13225  d77031d6a3c8a52f019764e68f211c69   \n",
       "57393                      36400  7002a78c79c519ac54022d4f8a65e6e8   \n",
       "73024                      35620  2eecb0d85f281280f79fa00f9cec1a95   \n",
       "74577                      37660  51eb2eebd5d76a24625b31c33dd41449   \n",
       "80145                      21020  88083e8f64d95b932164187484d90212   \n",
       "80146                      21020  88083e8f64d95b932164187484d90212   \n",
       "85747                      95795  3c0b8706b065f9919d0505d3b3343881   \n",
       "100646                     65110  2babbb4b15e6d2dfe95e2de765c97bce   \n",
       "\n",
       "       order_status order_purchase_timestamp order_approved_at  \\\n",
       "6230      delivered      2017-02-18 14:40:00              None   \n",
       "19571     delivered      2017-02-18 12:45:31              None   \n",
       "26822     delivered      2017-02-18 16:48:35              None   \n",
       "27413     delivered      2017-02-17 13:05:55              None   \n",
       "31779     delivered      2017-01-19 12:48:08              None   \n",
       "45430     delivered      2017-02-19 01:28:47              None   \n",
       "46678     delivered      2017-02-18 11:04:19              None   \n",
       "57393     delivered      2017-01-19 22:26:59              None   \n",
       "73024     delivered      2017-02-17 17:21:55              None   \n",
       "74577     delivered      2017-02-18 15:52:27              None   \n",
       "80145     delivered      2017-02-18 22:49:19              None   \n",
       "80146     delivered      2017-02-18 22:49:19              None   \n",
       "85747     delivered      2017-02-17 15:53:27              None   \n",
       "100646    delivered      2017-02-18 17:15:03              None   \n",
       "\n",
       "       order_delivered_customer_date order_estimated_delivery_date  \\\n",
       "6230             2017-03-01 13:25:33           2017-03-17 00:00:00   \n",
       "19571            2017-03-02 10:05:06           2017-03-21 00:00:00   \n",
       "26822            2017-03-09 07:28:47           2017-03-31 00:00:00   \n",
       "27413            2017-03-02 11:09:19           2017-03-20 00:00:00   \n",
       "31779            2017-01-30 18:16:01           2017-03-01 00:00:00   \n",
       "45430            2017-03-02 03:41:58           2017-03-27 00:00:00   \n",
       "46678            2017-03-02 16:15:23           2017-03-22 00:00:00   \n",
       "57393            2017-02-06 14:22:19           2017-03-16 00:00:00   \n",
       "73024            2017-03-03 12:16:03           2017-03-20 00:00:00   \n",
       "74577            2017-03-07 13:57:47           2017-03-29 00:00:00   \n",
       "80145            2017-03-02 12:06:06           2017-03-21 00:00:00   \n",
       "80146            2017-03-02 12:06:06           2017-03-21 00:00:00   \n",
       "85747            2017-03-03 11:47:47           2017-03-23 00:00:00   \n",
       "100646           2017-03-03 18:43:43           2017-03-31 00:00:00   \n",
       "\n",
       "        item_price  ...  payment_installments  \\\n",
       "6230        309.90  ...                     1   \n",
       "19571       379.00  ...                     1   \n",
       "26822        79.99  ...                     1   \n",
       "27413        79.99  ...                     1   \n",
       "31779        39.99  ...                     1   \n",
       "45430       149.80  ...                     1   \n",
       "46678        28.99  ...                     1   \n",
       "57393        45.90  ...                     1   \n",
       "73024       135.00  ...                     1   \n",
       "74577        59.90  ...                     1   \n",
       "80145        49.00  ...                     1   \n",
       "80146        49.00  ...                     1   \n",
       "85747       133.99  ...                     1   \n",
       "100646       79.99  ...                     1   \n",
       "\n",
       "                               seller_id  seller_state seller_zip_code_prefix  \\\n",
       "6230    4e7c18b98d84e05cbae3ff0ff03846c2            SP                  14882   \n",
       "19571   a4b6b9b992b46e9ef863637af96e04bc            SC                  88090   \n",
       "26822   7a67c85e85bb2ce8582c35f2203ad736            SP                   3426   \n",
       "27413   7a67c85e85bb2ce8582c35f2203ad736            SP                   3426   \n",
       "31779   80e6699fe29150b372a0c8a1ebf7dcc8            PR                  83323   \n",
       "45430   cca3071e3e9bb7d12640c9fbe2301306            SP                  14940   \n",
       "46678   cb3dd9ce66268c7a3ca7241ac70ab58c            SP                   3028   \n",
       "57393   cca3071e3e9bb7d12640c9fbe2301306            SP                  14940   \n",
       "73024   5fd924b4836098a5be0ecf81ba054ce0            SP                   3554   \n",
       "74577   cca3071e3e9bb7d12640c9fbe2301306            SP                  14940   \n",
       "80145   0db783cfcd3b73998abc6e10e59a102f            SP                  11010   \n",
       "80146   0db783cfcd3b73998abc6e10e59a102f            SP                  11010   \n",
       "85747   004c9cd9d87a3c30c522c48c4fc07416            SP                  14940   \n",
       "100646  7a67c85e85bb2ce8582c35f2203ad736            SP                   3426   \n",
       "\n",
       "        review_score review_length product_description_lenght  \\\n",
       "6230               4            38                      675.0   \n",
       "19571              5             0                      498.0   \n",
       "26822              5             0                     1012.0   \n",
       "27413              5             0                     1012.0   \n",
       "31779              4            56                     1322.0   \n",
       "45430              5            17                      586.0   \n",
       "46678              5            44                     1738.0   \n",
       "57393              2            98                      473.0   \n",
       "73024              5             0                      441.0   \n",
       "74577              5             0                      438.0   \n",
       "80145              4           199                      440.0   \n",
       "80146              4           199                      440.0   \n",
       "85747              3             0                      702.0   \n",
       "100646             4            90                     1012.0   \n",
       "\n",
       "        product_photos_qty             product_category_name  \\\n",
       "6230                   2.0                   eletroportateis   \n",
       "19571                  1.0  construcao_ferramentas_seguranca   \n",
       "26822                  1.0                        cool_stuff   \n",
       "27413                  1.0                        cool_stuff   \n",
       "31779                  2.0                     esporte_lazer   \n",
       "45430                  1.0                  moveis_decoracao   \n",
       "46678                  1.0                     esporte_lazer   \n",
       "57393                  1.0                  moveis_decoracao   \n",
       "73024                  3.0                ferramentas_jardim   \n",
       "74577                  1.0                  moveis_decoracao   \n",
       "80145                  1.0                         telefonia   \n",
       "80146                  1.0                         telefonia   \n",
       "85747                  1.0                   cama_mesa_banho   \n",
       "100646                 1.0                        cool_stuff   \n",
       "\n",
       "        product_category_name_english  \n",
       "6230                 small_appliances  \n",
       "19571       construction_tools_safety  \n",
       "26822                      cool_stuff  \n",
       "27413                      cool_stuff  \n",
       "31779                  sports_leisure  \n",
       "45430                 furniture_decor  \n",
       "46678                  sports_leisure  \n",
       "57393                 furniture_decor  \n",
       "73024                    garden_tools  \n",
       "74577                 furniture_decor  \n",
       "80145                       telephony  \n",
       "80146                       telephony  \n",
       "85747                  bed_bath_table  \n",
       "100646                     cool_stuff  \n",
       "\n",
       "[14 rows x 24 columns]"
      ]
     },
     "execution_count": 19,
     "metadata": {},
     "output_type": "execute_result"
    }
   ],
   "source": [
    "df_details.loc[df_details[\"order_approved_at\"].isna()]"
   ]
  },
  {
   "cell_type": "markdown",
   "metadata": {},
   "source": [
    "Missing values in the approval state are all delivered orders. We shall replace with a median value. "
   ]
  },
  {
   "cell_type": "markdown",
   "metadata": {},
   "source": [
    "### Solution"
   ]
  },
  {
   "cell_type": "code",
   "execution_count": 20,
   "metadata": {},
   "outputs": [],
   "source": [
    "# get the day of order_approved_at and order_purchase_timestamp\n",
    "df_details[\"order_approved_at\"] = pd.to_datetime(df_details[\"order_approved_at\"])\n",
    "df_details[\"order_purchase_timestamp\"] = pd.to_datetime(df_details[\"order_purchase_timestamp\"])\n"
   ]
  },
  {
   "cell_type": "code",
   "execution_count": 21,
   "metadata": {},
   "outputs": [],
   "source": [
    "# get the difference between order_approved_at and order_purchase_timestamp\n",
    "df_details[\"order_processing_time\"] = df_details[\"order_approved_at\"] - df_details[\"order_purchase_timestamp\"]\n",
    "df_details[\"order_processing_time\"] = df_details[\"order_processing_time\"].dt.days"
   ]
  },
  {
   "cell_type": "code",
   "execution_count": 22,
   "metadata": {},
   "outputs": [
    {
     "name": "stderr",
     "output_type": "stream",
     "text": [
      "/var/folders/4f/ml64c07d1zsg_jvvydhyltjr0000gn/T/ipykernel_10483/2882115909.py:3: FutureWarning: A value is trying to be set on a copy of a DataFrame or Series through chained assignment using an inplace method.\n",
      "The behavior will change in pandas 3.0. This inplace method will never work because the intermediate object on which we are setting values always behaves as a copy.\n",
      "\n",
      "For example, when doing 'df[col].method(value, inplace=True)', try using 'df.method({col: value}, inplace=True)' or df[col] = df[col].method(value) instead, to perform the operation inplace on the original object.\n",
      "\n",
      "\n",
      "  df_details[\"order_processing_time\"].fillna(median_processing_time, inplace=True)\n"
     ]
    }
   ],
   "source": [
    "# replacing NaN with median\n",
    "median_processing_time = df_details[\"order_processing_time\"].median()\n",
    "df_details[\"order_processing_time\"].fillna(median_processing_time, inplace=True)"
   ]
  },
  {
   "cell_type": "markdown",
   "metadata": {},
   "source": [
    "# CUSTOMER INFO FINAL DATAFRAME"
   ]
  },
  {
   "cell_type": "markdown",
   "metadata": {},
   "source": [
    "For the time allowed to our study, we will not be able to work on all features, so we will get rid of few."
   ]
  },
  {
   "cell_type": "code",
   "execution_count": 23,
   "metadata": {},
   "outputs": [
    {
     "name": "stdout",
     "output_type": "stream",
     "text": [
      "<class 'pandas.core.frame.DataFrame'>\n",
      "Index: 116211 entries, 0 to 117917\n",
      "Data columns (total 15 columns):\n",
      " #   Column                         Non-Null Count   Dtype         \n",
      "---  ------                         --------------   -----         \n",
      " 0   customer_unique_id             116211 non-null  object        \n",
      " 1   order_id                       116211 non-null  object        \n",
      " 2   order_status                   116211 non-null  object        \n",
      " 3   order_purchase_timestamp       116211 non-null  datetime64[ns]\n",
      " 4   order_delivered_customer_date  113742 non-null  object        \n",
      " 5   order_estimated_delivery_date  116211 non-null  object        \n",
      " 6   item_price                     116211 non-null  float64       \n",
      " 7   freight_value                  116211 non-null  float64       \n",
      " 8   payment_value                  116211 non-null  float64       \n",
      " 9   payment_sequential             116211 non-null  int64         \n",
      " 10  payment_type                   116211 non-null  object        \n",
      " 11  payment_installments           116211 non-null  int64         \n",
      " 12  review_score                   116211 non-null  int64         \n",
      " 13  product_category_name_english  116211 non-null  object        \n",
      " 14  order_processing_time          116211 non-null  float64       \n",
      "dtypes: datetime64[ns](1), float64(4), int64(3), object(7)\n",
      "memory usage: 14.2+ MB\n"
     ]
    }
   ],
   "source": [
    "df_temp = df_details.drop(\n",
    "    columns=[\n",
    "        \"order_approved_at\",\n",
    "        \"customer_state\",\n",
    "        \"seller_state\",\n",
    "        \"seller_zip_code_prefix\",\n",
    "        \"customer_zip_code_prefix\",\n",
    "        \"seller_id\",\n",
    "        \"product_description_lenght\",\n",
    "        \"product_description_lenght\",\n",
    "        \"product_photos_qty\",\n",
    "        \"product_category_name\",\n",
    "        \"review_length\",\n",
    "    ]\n",
    ")\n",
    "df_temp.info()"
   ]
  },
  {
   "cell_type": "markdown",
   "metadata": {},
   "source": [
    "The goal of our model is to create clusters of customers, this is why we need to have a row for each customer information."
   ]
  },
  {
   "cell_type": "markdown",
   "metadata": {},
   "source": [
    "To do so, we will group the data per customer and will get the following :\n",
    "- get the number of order made by a customer\n",
    "- get the number of cancelled orders\n",
    "- the average time a customer is ordering\n",
    "- the average amount spent per order\n",
    "- the total expense\n",
    "- the number of products ordered per category\n",
    "- the number of order for different states\n",
    "- the proportion of reviews left\n",
    "- the average score left\n",
    "- "
   ]
  },
  {
   "cell_type": "markdown",
   "metadata": {},
   "source": [
    "## Dealing with dates"
   ]
  },
  {
   "cell_type": "markdown",
   "metadata": {},
   "source": [
    "### Format"
   ]
  },
  {
   "cell_type": "markdown",
   "metadata": {},
   "source": [
    "The first step would be to work on the date management. We are interested only in dates, except for the purchased time that could give an information about the day moment a customer would e-shop."
   ]
  },
  {
   "cell_type": "code",
   "execution_count": 24,
   "metadata": {},
   "outputs": [
    {
     "name": "stdout",
     "output_type": "stream",
     "text": [
      "Last order was on the 2018-09-03\n",
      "Last registered delivery was on 2018-10-17\n",
      "Latest delivery estimated was on 2018-10-25\n",
      "All the orders planned to be received after the last registered delivery date have been delivered.\n",
      "We can consider that all data without a delevery date are not delivered yet.\n"
     ]
    },
    {
     "data": {
      "text/html": [
       "<div>\n",
       "<style scoped>\n",
       "    .dataframe tbody tr th:only-of-type {\n",
       "        vertical-align: middle;\n",
       "    }\n",
       "\n",
       "    .dataframe tbody tr th {\n",
       "        vertical-align: top;\n",
       "    }\n",
       "\n",
       "    .dataframe thead th {\n",
       "        text-align: right;\n",
       "    }\n",
       "</style>\n",
       "<table border=\"1\" class=\"dataframe\">\n",
       "  <thead>\n",
       "    <tr style=\"text-align: right;\">\n",
       "      <th></th>\n",
       "      <th>customer_unique_id</th>\n",
       "      <th>order_id</th>\n",
       "      <th>order_status</th>\n",
       "      <th>item_price</th>\n",
       "      <th>freight_value</th>\n",
       "      <th>payment_value</th>\n",
       "      <th>payment_sequential</th>\n",
       "      <th>payment_type</th>\n",
       "      <th>payment_installments</th>\n",
       "      <th>review_score</th>\n",
       "      <th>product_category_name_english</th>\n",
       "      <th>order_processing_time</th>\n",
       "      <th>order_purchase_time</th>\n",
       "      <th>order_purchase_date</th>\n",
       "      <th>delivery_delay</th>\n",
       "      <th>days_late_count</th>\n",
       "    </tr>\n",
       "  </thead>\n",
       "  <tbody>\n",
       "    <tr>\n",
       "      <th>0</th>\n",
       "      <td>7c396fd4830fd04220f754e42b4e5bff</td>\n",
       "      <td>e481f51cbdc54678b7cc49136f2d6af7</td>\n",
       "      <td>delivered</td>\n",
       "      <td>29.99</td>\n",
       "      <td>8.72</td>\n",
       "      <td>18.12</td>\n",
       "      <td>1</td>\n",
       "      <td>credit_card</td>\n",
       "      <td>1</td>\n",
       "      <td>4</td>\n",
       "      <td>housewares</td>\n",
       "      <td>0.0</td>\n",
       "      <td>10:56:33</td>\n",
       "      <td>2017-10-02</td>\n",
       "      <td>8 days, 0:00:00</td>\n",
       "      <td>0.0</td>\n",
       "    </tr>\n",
       "    <tr>\n",
       "      <th>1</th>\n",
       "      <td>7c396fd4830fd04220f754e42b4e5bff</td>\n",
       "      <td>e481f51cbdc54678b7cc49136f2d6af7</td>\n",
       "      <td>delivered</td>\n",
       "      <td>29.99</td>\n",
       "      <td>8.72</td>\n",
       "      <td>18.59</td>\n",
       "      <td>2</td>\n",
       "      <td>voucher</td>\n",
       "      <td>1</td>\n",
       "      <td>4</td>\n",
       "      <td>housewares</td>\n",
       "      <td>0.0</td>\n",
       "      <td>10:56:33</td>\n",
       "      <td>2017-10-02</td>\n",
       "      <td>8 days, 0:00:00</td>\n",
       "      <td>0.0</td>\n",
       "    </tr>\n",
       "    <tr>\n",
       "      <th>2</th>\n",
       "      <td>7c396fd4830fd04220f754e42b4e5bff</td>\n",
       "      <td>e481f51cbdc54678b7cc49136f2d6af7</td>\n",
       "      <td>delivered</td>\n",
       "      <td>29.99</td>\n",
       "      <td>8.72</td>\n",
       "      <td>2.00</td>\n",
       "      <td>3</td>\n",
       "      <td>voucher</td>\n",
       "      <td>1</td>\n",
       "      <td>4</td>\n",
       "      <td>housewares</td>\n",
       "      <td>0.0</td>\n",
       "      <td>10:56:33</td>\n",
       "      <td>2017-10-02</td>\n",
       "      <td>8 days, 0:00:00</td>\n",
       "      <td>0.0</td>\n",
       "    </tr>\n",
       "    <tr>\n",
       "      <th>3</th>\n",
       "      <td>af07308b275d755c9edb36a90c618231</td>\n",
       "      <td>53cdb2fc8bc7dce0b6741e2150273451</td>\n",
       "      <td>delivered</td>\n",
       "      <td>118.70</td>\n",
       "      <td>22.76</td>\n",
       "      <td>141.46</td>\n",
       "      <td>1</td>\n",
       "      <td>boleto</td>\n",
       "      <td>1</td>\n",
       "      <td>4</td>\n",
       "      <td>perfumery</td>\n",
       "      <td>1.0</td>\n",
       "      <td>20:41:37</td>\n",
       "      <td>2018-07-24</td>\n",
       "      <td>14 days, 0:00:00</td>\n",
       "      <td>0.0</td>\n",
       "    </tr>\n",
       "    <tr>\n",
       "      <th>4</th>\n",
       "      <td>3a653a41f6f9fc3d2a113cf8398680e8</td>\n",
       "      <td>47770eb9100c2d0c44946d9cf07ec65d</td>\n",
       "      <td>delivered</td>\n",
       "      <td>159.90</td>\n",
       "      <td>19.22</td>\n",
       "      <td>179.12</td>\n",
       "      <td>1</td>\n",
       "      <td>credit_card</td>\n",
       "      <td>3</td>\n",
       "      <td>5</td>\n",
       "      <td>auto</td>\n",
       "      <td>0.0</td>\n",
       "      <td>08:38:49</td>\n",
       "      <td>2018-08-08</td>\n",
       "      <td>9 days, 0:00:00</td>\n",
       "      <td>0.0</td>\n",
       "    </tr>\n",
       "  </tbody>\n",
       "</table>\n",
       "</div>"
      ],
      "text/plain": [
       "                 customer_unique_id                          order_id  \\\n",
       "0  7c396fd4830fd04220f754e42b4e5bff  e481f51cbdc54678b7cc49136f2d6af7   \n",
       "1  7c396fd4830fd04220f754e42b4e5bff  e481f51cbdc54678b7cc49136f2d6af7   \n",
       "2  7c396fd4830fd04220f754e42b4e5bff  e481f51cbdc54678b7cc49136f2d6af7   \n",
       "3  af07308b275d755c9edb36a90c618231  53cdb2fc8bc7dce0b6741e2150273451   \n",
       "4  3a653a41f6f9fc3d2a113cf8398680e8  47770eb9100c2d0c44946d9cf07ec65d   \n",
       "\n",
       "  order_status  item_price  freight_value  payment_value  payment_sequential  \\\n",
       "0    delivered       29.99           8.72          18.12                   1   \n",
       "1    delivered       29.99           8.72          18.59                   2   \n",
       "2    delivered       29.99           8.72           2.00                   3   \n",
       "3    delivered      118.70          22.76         141.46                   1   \n",
       "4    delivered      159.90          19.22         179.12                   1   \n",
       "\n",
       "  payment_type  payment_installments  review_score  \\\n",
       "0  credit_card                     1             4   \n",
       "1      voucher                     1             4   \n",
       "2      voucher                     1             4   \n",
       "3       boleto                     1             4   \n",
       "4  credit_card                     3             5   \n",
       "\n",
       "  product_category_name_english  order_processing_time order_purchase_time  \\\n",
       "0                    housewares                    0.0            10:56:33   \n",
       "1                    housewares                    0.0            10:56:33   \n",
       "2                    housewares                    0.0            10:56:33   \n",
       "3                     perfumery                    1.0            20:41:37   \n",
       "4                          auto                    0.0            08:38:49   \n",
       "\n",
       "  order_purchase_date    delivery_delay  days_late_count  \n",
       "0          2017-10-02   8 days, 0:00:00              0.0  \n",
       "1          2017-10-02   8 days, 0:00:00              0.0  \n",
       "2          2017-10-02   8 days, 0:00:00              0.0  \n",
       "3          2018-07-24  14 days, 0:00:00              0.0  \n",
       "4          2018-08-08   9 days, 0:00:00              0.0  "
      ]
     },
     "execution_count": 24,
     "metadata": {},
     "output_type": "execute_result"
    }
   ],
   "source": [
    "# Step 1 : Transform date columns to datetime\n",
    "df_temp[\"order_delivered_customer_date\"] = pd.to_datetime(df_temp[\"order_delivered_customer_date\"])\n",
    "df_temp[\"order_estimated_delivery_date\"] = pd.to_datetime(df_temp[\"order_estimated_delivery_date\"])\n",
    "\n",
    "# Step 2 : Extract the time the order was purchased from the timestamp\n",
    "df_temp[\"order_purchase_time\"] = df_temp[\"order_purchase_timestamp\"].dt.time\n",
    "\n",
    "# Step 3 : Keep only the date part of the order purchase, delivered and estimated delivery dates\n",
    "df_temp[\"order_purchase_date\"] = df_temp[\"order_purchase_timestamp\"].dt.date\n",
    "print(f\"Last order was on the {df_temp['order_purchase_date'].max()}\")\n",
    "df_temp[\"order_delivered_customer_date\"] = df_temp[\"order_delivered_customer_date\"].dt.date\n",
    "last_delivery_date = df_temp.loc[df_temp['order_delivered_customer_date'].notnull()]['order_delivered_customer_date'].max()\n",
    "print(f\"Last registered delivery was on {last_delivery_date}\")\n",
    "df_temp[\"order_estimated_delivery_date\"] = df_temp[\"order_estimated_delivery_date\"].dt.date\n",
    "print(f\"Latest delivery estimated was on {df_temp['order_estimated_delivery_date'].max()}\")\n",
    "\n",
    "# Orders after the last registered delivery date\n",
    "df_temp.loc[\n",
    "    df_temp[\"order_estimated_delivery_date\"] > last_delivery_date]\n",
    "\n",
    "print(\"All the orders planned to be received after the last registered delivery date have been delivered.\")\n",
    "print(\"We can consider that all data without a delevery date are not delivered yet.\")\n",
    "\n",
    "# Get the delivery delay\n",
    "df_temp[\"delivery_delay\"] = df_temp[\"order_delivered_customer_date\"] - df_temp[\"order_purchase_date\"]\n",
    "\n",
    "# Add a column for late delivery\n",
    "df_temp[\"days_late_count\"] = df_temp[\"order_delivered_customer_date\"] - df_temp[\"order_estimated_delivery_date\"]\n",
    "df_temp[\"days_late_count\"] = pd.to_timedelta(df_temp[\"days_late_count\"]).dt.days\n",
    "df_temp[\"days_late_count\"] = df_temp[\"days_late_count\"].apply(\n",
    "    lambda x: x if x > 0 else 0\n",
    ")\n",
    "# Get rid of original timestamp columns\n",
    "df_temp.drop(\n",
    "    columns=[\n",
    "        \"order_purchase_timestamp\",\n",
    "        \"order_delivered_customer_date\",\n",
    "        \"order_estimated_delivery_date\"\n",
    "    ],\n",
    "    inplace=True,\n",
    ")\n",
    "\n",
    "df_temp.head()"
   ]
  },
  {
   "cell_type": "markdown",
   "metadata": {},
   "source": [
    "### Get the moment of the day a customer ordered"
   ]
  },
  {
   "cell_type": "code",
   "execution_count": 25,
   "metadata": {},
   "outputs": [
    {
     "data": {
      "text/html": [
       "<div>\n",
       "<style scoped>\n",
       "    .dataframe tbody tr th:only-of-type {\n",
       "        vertical-align: middle;\n",
       "    }\n",
       "\n",
       "    .dataframe tbody tr th {\n",
       "        vertical-align: top;\n",
       "    }\n",
       "\n",
       "    .dataframe thead th {\n",
       "        text-align: right;\n",
       "    }\n",
       "</style>\n",
       "<table border=\"1\" class=\"dataframe\">\n",
       "  <thead>\n",
       "    <tr style=\"text-align: right;\">\n",
       "      <th></th>\n",
       "      <th>customer_unique_id</th>\n",
       "      <th>order_id</th>\n",
       "      <th>order_status</th>\n",
       "      <th>item_price</th>\n",
       "      <th>freight_value</th>\n",
       "      <th>payment_value</th>\n",
       "      <th>payment_sequential</th>\n",
       "      <th>payment_type</th>\n",
       "      <th>payment_installments</th>\n",
       "      <th>review_score</th>\n",
       "      <th>product_category_name_english</th>\n",
       "      <th>order_processing_time</th>\n",
       "      <th>order_purchase_date</th>\n",
       "      <th>delivery_delay</th>\n",
       "      <th>days_late_count</th>\n",
       "      <th>order_purchase_time_bin</th>\n",
       "    </tr>\n",
       "  </thead>\n",
       "  <tbody>\n",
       "    <tr>\n",
       "      <th>0</th>\n",
       "      <td>7c396fd4830fd04220f754e42b4e5bff</td>\n",
       "      <td>e481f51cbdc54678b7cc49136f2d6af7</td>\n",
       "      <td>delivered</td>\n",
       "      <td>29.99</td>\n",
       "      <td>8.72</td>\n",
       "      <td>18.12</td>\n",
       "      <td>1</td>\n",
       "      <td>credit_card</td>\n",
       "      <td>1</td>\n",
       "      <td>4</td>\n",
       "      <td>housewares</td>\n",
       "      <td>0.0</td>\n",
       "      <td>2017-10-02</td>\n",
       "      <td>8 days, 0:00:00</td>\n",
       "      <td>0.0</td>\n",
       "      <td>Morning</td>\n",
       "    </tr>\n",
       "    <tr>\n",
       "      <th>1</th>\n",
       "      <td>7c396fd4830fd04220f754e42b4e5bff</td>\n",
       "      <td>e481f51cbdc54678b7cc49136f2d6af7</td>\n",
       "      <td>delivered</td>\n",
       "      <td>29.99</td>\n",
       "      <td>8.72</td>\n",
       "      <td>18.59</td>\n",
       "      <td>2</td>\n",
       "      <td>voucher</td>\n",
       "      <td>1</td>\n",
       "      <td>4</td>\n",
       "      <td>housewares</td>\n",
       "      <td>0.0</td>\n",
       "      <td>2017-10-02</td>\n",
       "      <td>8 days, 0:00:00</td>\n",
       "      <td>0.0</td>\n",
       "      <td>Morning</td>\n",
       "    </tr>\n",
       "    <tr>\n",
       "      <th>2</th>\n",
       "      <td>7c396fd4830fd04220f754e42b4e5bff</td>\n",
       "      <td>e481f51cbdc54678b7cc49136f2d6af7</td>\n",
       "      <td>delivered</td>\n",
       "      <td>29.99</td>\n",
       "      <td>8.72</td>\n",
       "      <td>2.00</td>\n",
       "      <td>3</td>\n",
       "      <td>voucher</td>\n",
       "      <td>1</td>\n",
       "      <td>4</td>\n",
       "      <td>housewares</td>\n",
       "      <td>0.0</td>\n",
       "      <td>2017-10-02</td>\n",
       "      <td>8 days, 0:00:00</td>\n",
       "      <td>0.0</td>\n",
       "      <td>Morning</td>\n",
       "    </tr>\n",
       "    <tr>\n",
       "      <th>3</th>\n",
       "      <td>af07308b275d755c9edb36a90c618231</td>\n",
       "      <td>53cdb2fc8bc7dce0b6741e2150273451</td>\n",
       "      <td>delivered</td>\n",
       "      <td>118.70</td>\n",
       "      <td>22.76</td>\n",
       "      <td>141.46</td>\n",
       "      <td>1</td>\n",
       "      <td>boleto</td>\n",
       "      <td>1</td>\n",
       "      <td>4</td>\n",
       "      <td>perfumery</td>\n",
       "      <td>1.0</td>\n",
       "      <td>2018-07-24</td>\n",
       "      <td>14 days, 0:00:00</td>\n",
       "      <td>0.0</td>\n",
       "      <td>Evening</td>\n",
       "    </tr>\n",
       "    <tr>\n",
       "      <th>4</th>\n",
       "      <td>3a653a41f6f9fc3d2a113cf8398680e8</td>\n",
       "      <td>47770eb9100c2d0c44946d9cf07ec65d</td>\n",
       "      <td>delivered</td>\n",
       "      <td>159.90</td>\n",
       "      <td>19.22</td>\n",
       "      <td>179.12</td>\n",
       "      <td>1</td>\n",
       "      <td>credit_card</td>\n",
       "      <td>3</td>\n",
       "      <td>5</td>\n",
       "      <td>auto</td>\n",
       "      <td>0.0</td>\n",
       "      <td>2018-08-08</td>\n",
       "      <td>9 days, 0:00:00</td>\n",
       "      <td>0.0</td>\n",
       "      <td>Morning</td>\n",
       "    </tr>\n",
       "  </tbody>\n",
       "</table>\n",
       "</div>"
      ],
      "text/plain": [
       "                 customer_unique_id                          order_id  \\\n",
       "0  7c396fd4830fd04220f754e42b4e5bff  e481f51cbdc54678b7cc49136f2d6af7   \n",
       "1  7c396fd4830fd04220f754e42b4e5bff  e481f51cbdc54678b7cc49136f2d6af7   \n",
       "2  7c396fd4830fd04220f754e42b4e5bff  e481f51cbdc54678b7cc49136f2d6af7   \n",
       "3  af07308b275d755c9edb36a90c618231  53cdb2fc8bc7dce0b6741e2150273451   \n",
       "4  3a653a41f6f9fc3d2a113cf8398680e8  47770eb9100c2d0c44946d9cf07ec65d   \n",
       "\n",
       "  order_status  item_price  freight_value  payment_value  payment_sequential  \\\n",
       "0    delivered       29.99           8.72          18.12                   1   \n",
       "1    delivered       29.99           8.72          18.59                   2   \n",
       "2    delivered       29.99           8.72           2.00                   3   \n",
       "3    delivered      118.70          22.76         141.46                   1   \n",
       "4    delivered      159.90          19.22         179.12                   1   \n",
       "\n",
       "  payment_type  payment_installments  review_score  \\\n",
       "0  credit_card                     1             4   \n",
       "1      voucher                     1             4   \n",
       "2      voucher                     1             4   \n",
       "3       boleto                     1             4   \n",
       "4  credit_card                     3             5   \n",
       "\n",
       "  product_category_name_english  order_processing_time order_purchase_date  \\\n",
       "0                    housewares                    0.0          2017-10-02   \n",
       "1                    housewares                    0.0          2017-10-02   \n",
       "2                    housewares                    0.0          2017-10-02   \n",
       "3                     perfumery                    1.0          2018-07-24   \n",
       "4                          auto                    0.0          2018-08-08   \n",
       "\n",
       "     delivery_delay  days_late_count order_purchase_time_bin  \n",
       "0   8 days, 0:00:00              0.0                 Morning  \n",
       "1   8 days, 0:00:00              0.0                 Morning  \n",
       "2   8 days, 0:00:00              0.0                 Morning  \n",
       "3  14 days, 0:00:00              0.0                 Evening  \n",
       "4   9 days, 0:00:00              0.0                 Morning  "
      ]
     },
     "execution_count": 25,
     "metadata": {},
     "output_type": "execute_result"
    }
   ],
   "source": [
    "# Create bins for the order purchased time\n",
    "bins = [0, 6, 12, 14, 18, 24]\n",
    "labels = [\"Night\", \"Morning\", \"Noon\", \"Afternoon\", \"Evening\"]\n",
    "df_temp[\"order_purchase_hour\"] = df_temp[\"order_purchase_time\"].apply(lambda x: x.hour)\n",
    "df_temp[\"order_purchase_time_bin\"] = pd.cut(df_temp[\"order_purchase_hour\"], bins=bins, labels=labels, right=False)\n",
    "\n",
    "# drop column\n",
    "df_temp.drop(columns=[\"order_purchase_time\", \"order_purchase_hour\"], inplace=True)\n",
    "df_temp.head()"
   ]
  },
  {
   "cell_type": "code",
   "execution_count": 26,
   "metadata": {},
   "outputs": [
    {
     "name": "stderr",
     "output_type": "stream",
     "text": [
      "/var/folders/4f/ml64c07d1zsg_jvvydhyltjr0000gn/T/ipykernel_10483/2752922295.py:3: FutureWarning: The default of observed=False is deprecated and will be changed to True in a future version of pandas. Pass observed=False to retain current behavior or observed=True to adopt the future default and silence this warning.\n",
      "  df_temp.groupby(\"order_purchase_time_bin\")[\"order_id\"]\n"
     ]
    },
    {
     "data": {
      "application/vnd.plotly.v1+json": {
       "config": {
        "plotlyServerURL": "https://plot.ly"
       },
       "data": [
        {
         "alignmentgroup": "True",
         "hovertemplate": "time=%{x}<br>number_of_orders=%{y}<br>ratio=%{text}<extra></extra>",
         "legendgroup": "",
         "marker": {
          "color": "#636efa",
          "pattern": {
           "shape": ""
          }
         },
         "name": "",
         "offsetgroup": "",
         "orientation": "v",
         "showlegend": false,
         "text": [
          "34.14%",
          "26.15%",
          "22.27%",
          "12.64%",
          "4.79%"
         ],
         "textposition": "auto",
         "type": "bar",
         "x": [
          "Evening",
          "Afternoon",
          "Morning",
          "Noon",
          "Night"
         ],
         "xaxis": "x",
         "y": [
          39680,
          30390,
          25886,
          14691,
          5564
         ],
         "yaxis": "y"
        }
       ],
       "layout": {
        "barmode": "relative",
        "legend": {
         "tracegroupgap": 0
        },
        "template": {
         "data": {
          "bar": [
           {
            "error_x": {
             "color": "#2a3f5f"
            },
            "error_y": {
             "color": "#2a3f5f"
            },
            "marker": {
             "line": {
              "color": "#E5ECF6",
              "width": 0.5
             },
             "pattern": {
              "fillmode": "overlay",
              "size": 10,
              "solidity": 0.2
             }
            },
            "type": "bar"
           }
          ],
          "barpolar": [
           {
            "marker": {
             "line": {
              "color": "#E5ECF6",
              "width": 0.5
             },
             "pattern": {
              "fillmode": "overlay",
              "size": 10,
              "solidity": 0.2
             }
            },
            "type": "barpolar"
           }
          ],
          "carpet": [
           {
            "aaxis": {
             "endlinecolor": "#2a3f5f",
             "gridcolor": "white",
             "linecolor": "white",
             "minorgridcolor": "white",
             "startlinecolor": "#2a3f5f"
            },
            "baxis": {
             "endlinecolor": "#2a3f5f",
             "gridcolor": "white",
             "linecolor": "white",
             "minorgridcolor": "white",
             "startlinecolor": "#2a3f5f"
            },
            "type": "carpet"
           }
          ],
          "choropleth": [
           {
            "colorbar": {
             "outlinewidth": 0,
             "ticks": ""
            },
            "type": "choropleth"
           }
          ],
          "contour": [
           {
            "colorbar": {
             "outlinewidth": 0,
             "ticks": ""
            },
            "colorscale": [
             [
              0,
              "#0d0887"
             ],
             [
              0.1111111111111111,
              "#46039f"
             ],
             [
              0.2222222222222222,
              "#7201a8"
             ],
             [
              0.3333333333333333,
              "#9c179e"
             ],
             [
              0.4444444444444444,
              "#bd3786"
             ],
             [
              0.5555555555555556,
              "#d8576b"
             ],
             [
              0.6666666666666666,
              "#ed7953"
             ],
             [
              0.7777777777777778,
              "#fb9f3a"
             ],
             [
              0.8888888888888888,
              "#fdca26"
             ],
             [
              1,
              "#f0f921"
             ]
            ],
            "type": "contour"
           }
          ],
          "contourcarpet": [
           {
            "colorbar": {
             "outlinewidth": 0,
             "ticks": ""
            },
            "type": "contourcarpet"
           }
          ],
          "heatmap": [
           {
            "colorbar": {
             "outlinewidth": 0,
             "ticks": ""
            },
            "colorscale": [
             [
              0,
              "#0d0887"
             ],
             [
              0.1111111111111111,
              "#46039f"
             ],
             [
              0.2222222222222222,
              "#7201a8"
             ],
             [
              0.3333333333333333,
              "#9c179e"
             ],
             [
              0.4444444444444444,
              "#bd3786"
             ],
             [
              0.5555555555555556,
              "#d8576b"
             ],
             [
              0.6666666666666666,
              "#ed7953"
             ],
             [
              0.7777777777777778,
              "#fb9f3a"
             ],
             [
              0.8888888888888888,
              "#fdca26"
             ],
             [
              1,
              "#f0f921"
             ]
            ],
            "type": "heatmap"
           }
          ],
          "heatmapgl": [
           {
            "colorbar": {
             "outlinewidth": 0,
             "ticks": ""
            },
            "colorscale": [
             [
              0,
              "#0d0887"
             ],
             [
              0.1111111111111111,
              "#46039f"
             ],
             [
              0.2222222222222222,
              "#7201a8"
             ],
             [
              0.3333333333333333,
              "#9c179e"
             ],
             [
              0.4444444444444444,
              "#bd3786"
             ],
             [
              0.5555555555555556,
              "#d8576b"
             ],
             [
              0.6666666666666666,
              "#ed7953"
             ],
             [
              0.7777777777777778,
              "#fb9f3a"
             ],
             [
              0.8888888888888888,
              "#fdca26"
             ],
             [
              1,
              "#f0f921"
             ]
            ],
            "type": "heatmapgl"
           }
          ],
          "histogram": [
           {
            "marker": {
             "pattern": {
              "fillmode": "overlay",
              "size": 10,
              "solidity": 0.2
             }
            },
            "type": "histogram"
           }
          ],
          "histogram2d": [
           {
            "colorbar": {
             "outlinewidth": 0,
             "ticks": ""
            },
            "colorscale": [
             [
              0,
              "#0d0887"
             ],
             [
              0.1111111111111111,
              "#46039f"
             ],
             [
              0.2222222222222222,
              "#7201a8"
             ],
             [
              0.3333333333333333,
              "#9c179e"
             ],
             [
              0.4444444444444444,
              "#bd3786"
             ],
             [
              0.5555555555555556,
              "#d8576b"
             ],
             [
              0.6666666666666666,
              "#ed7953"
             ],
             [
              0.7777777777777778,
              "#fb9f3a"
             ],
             [
              0.8888888888888888,
              "#fdca26"
             ],
             [
              1,
              "#f0f921"
             ]
            ],
            "type": "histogram2d"
           }
          ],
          "histogram2dcontour": [
           {
            "colorbar": {
             "outlinewidth": 0,
             "ticks": ""
            },
            "colorscale": [
             [
              0,
              "#0d0887"
             ],
             [
              0.1111111111111111,
              "#46039f"
             ],
             [
              0.2222222222222222,
              "#7201a8"
             ],
             [
              0.3333333333333333,
              "#9c179e"
             ],
             [
              0.4444444444444444,
              "#bd3786"
             ],
             [
              0.5555555555555556,
              "#d8576b"
             ],
             [
              0.6666666666666666,
              "#ed7953"
             ],
             [
              0.7777777777777778,
              "#fb9f3a"
             ],
             [
              0.8888888888888888,
              "#fdca26"
             ],
             [
              1,
              "#f0f921"
             ]
            ],
            "type": "histogram2dcontour"
           }
          ],
          "mesh3d": [
           {
            "colorbar": {
             "outlinewidth": 0,
             "ticks": ""
            },
            "type": "mesh3d"
           }
          ],
          "parcoords": [
           {
            "line": {
             "colorbar": {
              "outlinewidth": 0,
              "ticks": ""
             }
            },
            "type": "parcoords"
           }
          ],
          "pie": [
           {
            "automargin": true,
            "type": "pie"
           }
          ],
          "scatter": [
           {
            "fillpattern": {
             "fillmode": "overlay",
             "size": 10,
             "solidity": 0.2
            },
            "type": "scatter"
           }
          ],
          "scatter3d": [
           {
            "line": {
             "colorbar": {
              "outlinewidth": 0,
              "ticks": ""
             }
            },
            "marker": {
             "colorbar": {
              "outlinewidth": 0,
              "ticks": ""
             }
            },
            "type": "scatter3d"
           }
          ],
          "scattercarpet": [
           {
            "marker": {
             "colorbar": {
              "outlinewidth": 0,
              "ticks": ""
             }
            },
            "type": "scattercarpet"
           }
          ],
          "scattergeo": [
           {
            "marker": {
             "colorbar": {
              "outlinewidth": 0,
              "ticks": ""
             }
            },
            "type": "scattergeo"
           }
          ],
          "scattergl": [
           {
            "marker": {
             "colorbar": {
              "outlinewidth": 0,
              "ticks": ""
             }
            },
            "type": "scattergl"
           }
          ],
          "scattermapbox": [
           {
            "marker": {
             "colorbar": {
              "outlinewidth": 0,
              "ticks": ""
             }
            },
            "type": "scattermapbox"
           }
          ],
          "scatterpolar": [
           {
            "marker": {
             "colorbar": {
              "outlinewidth": 0,
              "ticks": ""
             }
            },
            "type": "scatterpolar"
           }
          ],
          "scatterpolargl": [
           {
            "marker": {
             "colorbar": {
              "outlinewidth": 0,
              "ticks": ""
             }
            },
            "type": "scatterpolargl"
           }
          ],
          "scatterternary": [
           {
            "marker": {
             "colorbar": {
              "outlinewidth": 0,
              "ticks": ""
             }
            },
            "type": "scatterternary"
           }
          ],
          "surface": [
           {
            "colorbar": {
             "outlinewidth": 0,
             "ticks": ""
            },
            "colorscale": [
             [
              0,
              "#0d0887"
             ],
             [
              0.1111111111111111,
              "#46039f"
             ],
             [
              0.2222222222222222,
              "#7201a8"
             ],
             [
              0.3333333333333333,
              "#9c179e"
             ],
             [
              0.4444444444444444,
              "#bd3786"
             ],
             [
              0.5555555555555556,
              "#d8576b"
             ],
             [
              0.6666666666666666,
              "#ed7953"
             ],
             [
              0.7777777777777778,
              "#fb9f3a"
             ],
             [
              0.8888888888888888,
              "#fdca26"
             ],
             [
              1,
              "#f0f921"
             ]
            ],
            "type": "surface"
           }
          ],
          "table": [
           {
            "cells": {
             "fill": {
              "color": "#EBF0F8"
             },
             "line": {
              "color": "white"
             }
            },
            "header": {
             "fill": {
              "color": "#C8D4E3"
             },
             "line": {
              "color": "white"
             }
            },
            "type": "table"
           }
          ]
         },
         "layout": {
          "annotationdefaults": {
           "arrowcolor": "#2a3f5f",
           "arrowhead": 0,
           "arrowwidth": 1
          },
          "autotypenumbers": "strict",
          "coloraxis": {
           "colorbar": {
            "outlinewidth": 0,
            "ticks": ""
           }
          },
          "colorscale": {
           "diverging": [
            [
             0,
             "#8e0152"
            ],
            [
             0.1,
             "#c51b7d"
            ],
            [
             0.2,
             "#de77ae"
            ],
            [
             0.3,
             "#f1b6da"
            ],
            [
             0.4,
             "#fde0ef"
            ],
            [
             0.5,
             "#f7f7f7"
            ],
            [
             0.6,
             "#e6f5d0"
            ],
            [
             0.7,
             "#b8e186"
            ],
            [
             0.8,
             "#7fbc41"
            ],
            [
             0.9,
             "#4d9221"
            ],
            [
             1,
             "#276419"
            ]
           ],
           "sequential": [
            [
             0,
             "#0d0887"
            ],
            [
             0.1111111111111111,
             "#46039f"
            ],
            [
             0.2222222222222222,
             "#7201a8"
            ],
            [
             0.3333333333333333,
             "#9c179e"
            ],
            [
             0.4444444444444444,
             "#bd3786"
            ],
            [
             0.5555555555555556,
             "#d8576b"
            ],
            [
             0.6666666666666666,
             "#ed7953"
            ],
            [
             0.7777777777777778,
             "#fb9f3a"
            ],
            [
             0.8888888888888888,
             "#fdca26"
            ],
            [
             1,
             "#f0f921"
            ]
           ],
           "sequentialminus": [
            [
             0,
             "#0d0887"
            ],
            [
             0.1111111111111111,
             "#46039f"
            ],
            [
             0.2222222222222222,
             "#7201a8"
            ],
            [
             0.3333333333333333,
             "#9c179e"
            ],
            [
             0.4444444444444444,
             "#bd3786"
            ],
            [
             0.5555555555555556,
             "#d8576b"
            ],
            [
             0.6666666666666666,
             "#ed7953"
            ],
            [
             0.7777777777777778,
             "#fb9f3a"
            ],
            [
             0.8888888888888888,
             "#fdca26"
            ],
            [
             1,
             "#f0f921"
            ]
           ]
          },
          "colorway": [
           "#636efa",
           "#EF553B",
           "#00cc96",
           "#ab63fa",
           "#FFA15A",
           "#19d3f3",
           "#FF6692",
           "#B6E880",
           "#FF97FF",
           "#FECB52"
          ],
          "font": {
           "color": "#2a3f5f"
          },
          "geo": {
           "bgcolor": "white",
           "lakecolor": "white",
           "landcolor": "#E5ECF6",
           "showlakes": true,
           "showland": true,
           "subunitcolor": "white"
          },
          "hoverlabel": {
           "align": "left"
          },
          "hovermode": "closest",
          "mapbox": {
           "style": "light"
          },
          "paper_bgcolor": "white",
          "plot_bgcolor": "#E5ECF6",
          "polar": {
           "angularaxis": {
            "gridcolor": "white",
            "linecolor": "white",
            "ticks": ""
           },
           "bgcolor": "#E5ECF6",
           "radialaxis": {
            "gridcolor": "white",
            "linecolor": "white",
            "ticks": ""
           }
          },
          "scene": {
           "xaxis": {
            "backgroundcolor": "#E5ECF6",
            "gridcolor": "white",
            "gridwidth": 2,
            "linecolor": "white",
            "showbackground": true,
            "ticks": "",
            "zerolinecolor": "white"
           },
           "yaxis": {
            "backgroundcolor": "#E5ECF6",
            "gridcolor": "white",
            "gridwidth": 2,
            "linecolor": "white",
            "showbackground": true,
            "ticks": "",
            "zerolinecolor": "white"
           },
           "zaxis": {
            "backgroundcolor": "#E5ECF6",
            "gridcolor": "white",
            "gridwidth": 2,
            "linecolor": "white",
            "showbackground": true,
            "ticks": "",
            "zerolinecolor": "white"
           }
          },
          "shapedefaults": {
           "line": {
            "color": "#2a3f5f"
           }
          },
          "ternary": {
           "aaxis": {
            "gridcolor": "white",
            "linecolor": "white",
            "ticks": ""
           },
           "baxis": {
            "gridcolor": "white",
            "linecolor": "white",
            "ticks": ""
           },
           "bgcolor": "#E5ECF6",
           "caxis": {
            "gridcolor": "white",
            "linecolor": "white",
            "ticks": ""
           }
          },
          "title": {
           "x": 0.05
          },
          "xaxis": {
           "automargin": true,
           "gridcolor": "white",
           "linecolor": "white",
           "ticks": "",
           "title": {
            "standoff": 15
           },
           "zerolinecolor": "white",
           "zerolinewidth": 2
          },
          "yaxis": {
           "automargin": true,
           "gridcolor": "white",
           "linecolor": "white",
           "ticks": "",
           "title": {
            "standoff": 15
           },
           "zerolinecolor": "white",
           "zerolinewidth": 2
          }
         }
        },
        "title": {
         "text": "Number of orders by time of the day"
        },
        "xaxis": {
         "anchor": "y",
         "domain": [
          0,
          1
         ],
         "title": {
          "text": "time"
         }
        },
        "yaxis": {
         "anchor": "x",
         "domain": [
          0,
          1
         ],
         "title": {
          "text": "number_of_orders"
         }
        }
       }
      }
     },
     "metadata": {},
     "output_type": "display_data"
    }
   ],
   "source": [
    "# Plot a graph of the number of orders by time of the day\n",
    "orders_by_time = (\n",
    "    df_temp.groupby(\"order_purchase_time_bin\")[\"order_id\"]\n",
    "    .count()\n",
    "    .sort_values(ascending=False)\n",
    ")\n",
    "orders_by_time = orders_by_time.reset_index()\n",
    "orders_by_time.columns = [\"time\", \"number_of_orders\"]\n",
    "\n",
    "# Calculate the ratio\n",
    "total_orders = orders_by_time[\"number_of_orders\"].sum()\n",
    "orders_by_time[\"ratio\"] = round((orders_by_time[\"number_of_orders\"] / total_orders)*100, 2)\n",
    "# Format the ratio as a string with \"%\"\n",
    "orders_by_time[\"ratio\"] = orders_by_time[\"ratio\"].astype(str) + \"%\"\n",
    "\n",
    "fig = px.bar(orders_by_time, x=\"time\", y=\"number_of_orders\", title=\"Number of orders by time of the day\", text=\"ratio\")\n",
    "fig.show()"
   ]
  },
  {
   "cell_type": "markdown",
   "metadata": {},
   "source": [
    "## Count canceled orders"
   ]
  },
  {
   "cell_type": "code",
   "execution_count": 27,
   "metadata": {},
   "outputs": [
    {
     "data": {
      "text/html": [
       "<div>\n",
       "<style scoped>\n",
       "    .dataframe tbody tr th:only-of-type {\n",
       "        vertical-align: middle;\n",
       "    }\n",
       "\n",
       "    .dataframe tbody tr th {\n",
       "        vertical-align: top;\n",
       "    }\n",
       "\n",
       "    .dataframe thead th {\n",
       "        text-align: right;\n",
       "    }\n",
       "</style>\n",
       "<table border=\"1\" class=\"dataframe\">\n",
       "  <thead>\n",
       "    <tr style=\"text-align: right;\">\n",
       "      <th></th>\n",
       "      <th>customer_unique_id</th>\n",
       "      <th>order_id</th>\n",
       "      <th>order_status</th>\n",
       "      <th>item_price</th>\n",
       "      <th>freight_value</th>\n",
       "      <th>payment_value</th>\n",
       "      <th>payment_sequential</th>\n",
       "      <th>payment_type</th>\n",
       "      <th>payment_installments</th>\n",
       "      <th>review_score</th>\n",
       "      <th>product_category_name_english</th>\n",
       "      <th>order_processing_time</th>\n",
       "      <th>order_purchase_date</th>\n",
       "      <th>delivery_delay</th>\n",
       "      <th>days_late_count</th>\n",
       "      <th>order_purchase_time_bin</th>\n",
       "      <th>canceled_orders</th>\n",
       "    </tr>\n",
       "  </thead>\n",
       "  <tbody>\n",
       "    <tr>\n",
       "      <th>467</th>\n",
       "      <td>8ea097b1824dbd4d17af71b0afe04301</td>\n",
       "      <td>1b9ecfe83cdc259250e1a8aca174f0ad</td>\n",
       "      <td>canceled</td>\n",
       "      <td>25.0</td>\n",
       "      <td>8.34</td>\n",
       "      <td>33.34</td>\n",
       "      <td>1</td>\n",
       "      <td>boleto</td>\n",
       "      <td>1</td>\n",
       "      <td>1</td>\n",
       "      <td>computers_accessories</td>\n",
       "      <td>2.0</td>\n",
       "      <td>2018-08-04</td>\n",
       "      <td>NaN</td>\n",
       "      <td>0.0</td>\n",
       "      <td>Afternoon</td>\n",
       "      <td>1</td>\n",
       "    </tr>\n",
       "    <tr>\n",
       "      <th>733</th>\n",
       "      <td>c4ebedb09beb89cc0314c5c0c33f8053</td>\n",
       "      <td>714fb133a6730ab81fa1d3c1b2007291</td>\n",
       "      <td>canceled</td>\n",
       "      <td>69.9</td>\n",
       "      <td>26.11</td>\n",
       "      <td>96.01</td>\n",
       "      <td>1</td>\n",
       "      <td>credit_card</td>\n",
       "      <td>4</td>\n",
       "      <td>1</td>\n",
       "      <td>furniture_decor</td>\n",
       "      <td>0.0</td>\n",
       "      <td>2018-01-26</td>\n",
       "      <td>NaN</td>\n",
       "      <td>0.0</td>\n",
       "      <td>Evening</td>\n",
       "      <td>1</td>\n",
       "    </tr>\n",
       "    <tr>\n",
       "      <th>734</th>\n",
       "      <td>c4ebedb09beb89cc0314c5c0c33f8053</td>\n",
       "      <td>714fb133a6730ab81fa1d3c1b2007291</td>\n",
       "      <td>canceled</td>\n",
       "      <td>69.9</td>\n",
       "      <td>26.11</td>\n",
       "      <td>96.01</td>\n",
       "      <td>1</td>\n",
       "      <td>credit_card</td>\n",
       "      <td>4</td>\n",
       "      <td>1</td>\n",
       "      <td>furniture_decor</td>\n",
       "      <td>0.0</td>\n",
       "      <td>2018-01-26</td>\n",
       "      <td>NaN</td>\n",
       "      <td>0.0</td>\n",
       "      <td>Evening</td>\n",
       "      <td>1</td>\n",
       "    </tr>\n",
       "    <tr>\n",
       "      <th>1265</th>\n",
       "      <td>11c3d6c93dea6ce86769a4835c171bd9</td>\n",
       "      <td>3a129877493c8189c59c60eb71d97c29</td>\n",
       "      <td>canceled</td>\n",
       "      <td>35.9</td>\n",
       "      <td>15.10</td>\n",
       "      <td>14.12</td>\n",
       "      <td>1</td>\n",
       "      <td>credit_card</td>\n",
       "      <td>1</td>\n",
       "      <td>1</td>\n",
       "      <td>sports_leisure</td>\n",
       "      <td>0.0</td>\n",
       "      <td>2018-01-25</td>\n",
       "      <td>NaN</td>\n",
       "      <td>0.0</td>\n",
       "      <td>Noon</td>\n",
       "      <td>1</td>\n",
       "    </tr>\n",
       "    <tr>\n",
       "      <th>1266</th>\n",
       "      <td>11c3d6c93dea6ce86769a4835c171bd9</td>\n",
       "      <td>3a129877493c8189c59c60eb71d97c29</td>\n",
       "      <td>canceled</td>\n",
       "      <td>35.9</td>\n",
       "      <td>15.10</td>\n",
       "      <td>36.88</td>\n",
       "      <td>2</td>\n",
       "      <td>voucher</td>\n",
       "      <td>1</td>\n",
       "      <td>1</td>\n",
       "      <td>sports_leisure</td>\n",
       "      <td>0.0</td>\n",
       "      <td>2018-01-25</td>\n",
       "      <td>NaN</td>\n",
       "      <td>0.0</td>\n",
       "      <td>Noon</td>\n",
       "      <td>1</td>\n",
       "    </tr>\n",
       "    <tr>\n",
       "      <th>...</th>\n",
       "      <td>...</td>\n",
       "      <td>...</td>\n",
       "      <td>...</td>\n",
       "      <td>...</td>\n",
       "      <td>...</td>\n",
       "      <td>...</td>\n",
       "      <td>...</td>\n",
       "      <td>...</td>\n",
       "      <td>...</td>\n",
       "      <td>...</td>\n",
       "      <td>...</td>\n",
       "      <td>...</td>\n",
       "      <td>...</td>\n",
       "      <td>...</td>\n",
       "      <td>...</td>\n",
       "      <td>...</td>\n",
       "      <td>...</td>\n",
       "    </tr>\n",
       "    <tr>\n",
       "      <th>117104</th>\n",
       "      <td>82ec5f749b66f1857e868b6414a67ab3</td>\n",
       "      <td>5a8a4dc28b16fb90469ad749f9535773</td>\n",
       "      <td>canceled</td>\n",
       "      <td>149.0</td>\n",
       "      <td>11.67</td>\n",
       "      <td>321.34</td>\n",
       "      <td>1</td>\n",
       "      <td>boleto</td>\n",
       "      <td>1</td>\n",
       "      <td>5</td>\n",
       "      <td>garden_tools</td>\n",
       "      <td>0.0</td>\n",
       "      <td>2018-03-13</td>\n",
       "      <td>NaN</td>\n",
       "      <td>0.0</td>\n",
       "      <td>Morning</td>\n",
       "      <td>1</td>\n",
       "    </tr>\n",
       "    <tr>\n",
       "      <th>117105</th>\n",
       "      <td>82ec5f749b66f1857e868b6414a67ab3</td>\n",
       "      <td>5a8a4dc28b16fb90469ad749f9535773</td>\n",
       "      <td>canceled</td>\n",
       "      <td>149.0</td>\n",
       "      <td>11.67</td>\n",
       "      <td>321.34</td>\n",
       "      <td>1</td>\n",
       "      <td>boleto</td>\n",
       "      <td>1</td>\n",
       "      <td>5</td>\n",
       "      <td>garden_tools</td>\n",
       "      <td>0.0</td>\n",
       "      <td>2018-03-13</td>\n",
       "      <td>NaN</td>\n",
       "      <td>0.0</td>\n",
       "      <td>Morning</td>\n",
       "      <td>1</td>\n",
       "    </tr>\n",
       "    <tr>\n",
       "      <th>117129</th>\n",
       "      <td>78a159045124eb7601951b917a42034f</td>\n",
       "      <td>b159d0ce7cd881052da94fa165617b05</td>\n",
       "      <td>canceled</td>\n",
       "      <td>19.7</td>\n",
       "      <td>10.96</td>\n",
       "      <td>30.66</td>\n",
       "      <td>1</td>\n",
       "      <td>credit_card</td>\n",
       "      <td>1</td>\n",
       "      <td>1</td>\n",
       "      <td>auto</td>\n",
       "      <td>0.0</td>\n",
       "      <td>2017-03-11</td>\n",
       "      <td>NaN</td>\n",
       "      <td>0.0</td>\n",
       "      <td>Evening</td>\n",
       "      <td>1</td>\n",
       "    </tr>\n",
       "    <tr>\n",
       "      <th>117573</th>\n",
       "      <td>0f75924cbbe60142068f4029d744b724</td>\n",
       "      <td>6560fb10610771449cb0463c5ba12199</td>\n",
       "      <td>canceled</td>\n",
       "      <td>150.0</td>\n",
       "      <td>16.81</td>\n",
       "      <td>333.62</td>\n",
       "      <td>1</td>\n",
       "      <td>credit_card</td>\n",
       "      <td>3</td>\n",
       "      <td>1</td>\n",
       "      <td>computers_accessories</td>\n",
       "      <td>0.0</td>\n",
       "      <td>2017-10-01</td>\n",
       "      <td>NaN</td>\n",
       "      <td>0.0</td>\n",
       "      <td>Evening</td>\n",
       "      <td>1</td>\n",
       "    </tr>\n",
       "    <tr>\n",
       "      <th>117574</th>\n",
       "      <td>0f75924cbbe60142068f4029d744b724</td>\n",
       "      <td>6560fb10610771449cb0463c5ba12199</td>\n",
       "      <td>canceled</td>\n",
       "      <td>150.0</td>\n",
       "      <td>16.81</td>\n",
       "      <td>333.62</td>\n",
       "      <td>1</td>\n",
       "      <td>credit_card</td>\n",
       "      <td>3</td>\n",
       "      <td>1</td>\n",
       "      <td>computers_accessories</td>\n",
       "      <td>0.0</td>\n",
       "      <td>2017-10-01</td>\n",
       "      <td>NaN</td>\n",
       "      <td>0.0</td>\n",
       "      <td>Evening</td>\n",
       "      <td>1</td>\n",
       "    </tr>\n",
       "  </tbody>\n",
       "</table>\n",
       "<p>540 rows × 17 columns</p>\n",
       "</div>"
      ],
      "text/plain": [
       "                      customer_unique_id                          order_id  \\\n",
       "467     8ea097b1824dbd4d17af71b0afe04301  1b9ecfe83cdc259250e1a8aca174f0ad   \n",
       "733     c4ebedb09beb89cc0314c5c0c33f8053  714fb133a6730ab81fa1d3c1b2007291   \n",
       "734     c4ebedb09beb89cc0314c5c0c33f8053  714fb133a6730ab81fa1d3c1b2007291   \n",
       "1265    11c3d6c93dea6ce86769a4835c171bd9  3a129877493c8189c59c60eb71d97c29   \n",
       "1266    11c3d6c93dea6ce86769a4835c171bd9  3a129877493c8189c59c60eb71d97c29   \n",
       "...                                  ...                               ...   \n",
       "117104  82ec5f749b66f1857e868b6414a67ab3  5a8a4dc28b16fb90469ad749f9535773   \n",
       "117105  82ec5f749b66f1857e868b6414a67ab3  5a8a4dc28b16fb90469ad749f9535773   \n",
       "117129  78a159045124eb7601951b917a42034f  b159d0ce7cd881052da94fa165617b05   \n",
       "117573  0f75924cbbe60142068f4029d744b724  6560fb10610771449cb0463c5ba12199   \n",
       "117574  0f75924cbbe60142068f4029d744b724  6560fb10610771449cb0463c5ba12199   \n",
       "\n",
       "       order_status  item_price  freight_value  payment_value  \\\n",
       "467        canceled        25.0           8.34          33.34   \n",
       "733        canceled        69.9          26.11          96.01   \n",
       "734        canceled        69.9          26.11          96.01   \n",
       "1265       canceled        35.9          15.10          14.12   \n",
       "1266       canceled        35.9          15.10          36.88   \n",
       "...             ...         ...            ...            ...   \n",
       "117104     canceled       149.0          11.67         321.34   \n",
       "117105     canceled       149.0          11.67         321.34   \n",
       "117129     canceled        19.7          10.96          30.66   \n",
       "117573     canceled       150.0          16.81         333.62   \n",
       "117574     canceled       150.0          16.81         333.62   \n",
       "\n",
       "        payment_sequential payment_type  payment_installments  review_score  \\\n",
       "467                      1       boleto                     1             1   \n",
       "733                      1  credit_card                     4             1   \n",
       "734                      1  credit_card                     4             1   \n",
       "1265                     1  credit_card                     1             1   \n",
       "1266                     2      voucher                     1             1   \n",
       "...                    ...          ...                   ...           ...   \n",
       "117104                   1       boleto                     1             5   \n",
       "117105                   1       boleto                     1             5   \n",
       "117129                   1  credit_card                     1             1   \n",
       "117573                   1  credit_card                     3             1   \n",
       "117574                   1  credit_card                     3             1   \n",
       "\n",
       "       product_category_name_english  order_processing_time  \\\n",
       "467            computers_accessories                    2.0   \n",
       "733                  furniture_decor                    0.0   \n",
       "734                  furniture_decor                    0.0   \n",
       "1265                  sports_leisure                    0.0   \n",
       "1266                  sports_leisure                    0.0   \n",
       "...                              ...                    ...   \n",
       "117104                  garden_tools                    0.0   \n",
       "117105                  garden_tools                    0.0   \n",
       "117129                          auto                    0.0   \n",
       "117573         computers_accessories                    0.0   \n",
       "117574         computers_accessories                    0.0   \n",
       "\n",
       "       order_purchase_date delivery_delay  days_late_count  \\\n",
       "467             2018-08-04            NaN              0.0   \n",
       "733             2018-01-26            NaN              0.0   \n",
       "734             2018-01-26            NaN              0.0   \n",
       "1265            2018-01-25            NaN              0.0   \n",
       "1266            2018-01-25            NaN              0.0   \n",
       "...                    ...            ...              ...   \n",
       "117104          2018-03-13            NaN              0.0   \n",
       "117105          2018-03-13            NaN              0.0   \n",
       "117129          2017-03-11            NaN              0.0   \n",
       "117573          2017-10-01            NaN              0.0   \n",
       "117574          2017-10-01            NaN              0.0   \n",
       "\n",
       "       order_purchase_time_bin  canceled_orders  \n",
       "467                  Afternoon                1  \n",
       "733                    Evening                1  \n",
       "734                    Evening                1  \n",
       "1265                      Noon                1  \n",
       "1266                      Noon                1  \n",
       "...                        ...              ...  \n",
       "117104                 Morning                1  \n",
       "117105                 Morning                1  \n",
       "117129                 Evening                1  \n",
       "117573                 Evening                1  \n",
       "117574                 Evening                1  \n",
       "\n",
       "[540 rows x 17 columns]"
      ]
     },
     "execution_count": 27,
     "metadata": {},
     "output_type": "execute_result"
    }
   ],
   "source": [
    "# In order to count the number of cancelled order  per customer\n",
    "df_temp[\"canceled_orders\"] = df_temp[\"order_status\"].apply(\n",
    "    lambda x: 1 if x == \"canceled\" else 0\n",
    ")\n",
    "df_temp.loc[df_temp[\"order_status\"] == \"canceled\"]"
   ]
  },
  {
   "cell_type": "markdown",
   "metadata": {},
   "source": [
    "## Evaluate deliveries delays"
   ]
  },
  {
   "cell_type": "code",
   "execution_count": 28,
   "metadata": {},
   "outputs": [
    {
     "data": {
      "text/plain": [
       "np.int64(2469)"
      ]
     },
     "execution_count": 28,
     "metadata": {},
     "output_type": "execute_result"
    }
   ],
   "source": [
    "df_temp[\"delivery_delay\"].isna().sum()"
   ]
  },
  {
   "cell_type": "code",
   "execution_count": 29,
   "metadata": {},
   "outputs": [
    {
     "data": {
      "text/plain": [
       "np.int64(539)"
      ]
     },
     "execution_count": 29,
     "metadata": {},
     "output_type": "execute_result"
    }
   ],
   "source": [
    "#convert delivery_delay into integer\n",
    "df_temp[\"delivery_delay\"] = pd.to_timedelta(df_temp[\"delivery_delay\"]).dt.days\n",
    "\n",
    "# As we do not have the information regarding the missing deliveries, we decided to replace the missing values by the median of the column only if not cacelled delivery\n",
    "median_delivery_delay = df_temp[df_temp[\"order_status\"] != \"canceled\"][\n",
    "    \"delivery_delay\"\n",
    "].median()\n",
    "df_temp.loc[\n",
    "    (df_temp[\"order_status\"] != \"canceled\") & (df_temp[\"delivery_delay\"].isna()),\n",
    "    \"delivery_delay\",\n",
    "] = median_delivery_delay\n",
    "df_temp[\"delivery_delay\"].isna().sum()"
   ]
  },
  {
   "cell_type": "markdown",
   "metadata": {},
   "source": [
    "## Save orders DF"
   ]
  },
  {
   "cell_type": "markdown",
   "metadata": {},
   "source": [
    "Before going any further, we are going to save this dataset. It will help us working on the clustering update."
   ]
  },
  {
   "cell_type": "code",
   "execution_count": 30,
   "metadata": {},
   "outputs": [],
   "source": [
    "# Save th dataset to  pickle file\n",
    "df_temp.to_pickle(\"../data/df_orders_details.pkl\")"
   ]
  },
  {
   "cell_type": "markdown",
   "metadata": {},
   "source": [
    "Now we can aggregate all data to get a customer informations set"
   ]
  },
  {
   "cell_type": "code",
   "execution_count": 31,
   "metadata": {},
   "outputs": [
    {
     "name": "stdout",
     "output_type": "stream",
     "text": [
      "<class 'pandas.core.frame.DataFrame'>\n",
      "Index: 93406 entries, 0 to 93810\n",
      "Data columns (total 22 columns):\n",
      " #   Column                          Non-Null Count  Dtype         \n",
      "---  ------                          --------------  -----         \n",
      " 0   customer_unique_id              93406 non-null  object        \n",
      " 1   first_order_date                93406 non-null  datetime64[ns]\n",
      " 2   last_order_date                 93406 non-null  datetime64[ns]\n",
      " 3   total_orders                    93406 non-null  int64         \n",
      " 4   average_processing_time         93406 non-null  float64       \n",
      " 5   cancelled_orders                93406 non-null  int64         \n",
      " 6   total_expenses                  93406 non-null  float64       \n",
      " 7   total_items_values              93406 non-null  float64       \n",
      " 8   total_freight_value             93406 non-null  float64       \n",
      " 9   average_order_value             93406 non-null  float64       \n",
      " 10  average_freight_value           93406 non-null  float64       \n",
      " 11  average_payment_installement    93406 non-null  float64       \n",
      " 12  most_used_payment_method        93406 non-null  object        \n",
      " 13  usual_moment_of_order_str       93406 non-null  category      \n",
      " 14  most_ordered_category           93406 non-null  object        \n",
      " 15  number_of_different_categories  93406 non-null  int64         \n",
      " 16  average_review_score            93406 non-null  float64       \n",
      " 17  average_delivery_delays         93406 non-null  float64       \n",
      " 18  average_days_late               93406 non-null  float64       \n",
      " 19  days_since_last_order           93406 non-null  int64         \n",
      " 20  average_days_between_orders     93406 non-null  float64       \n",
      " 21  days_as_customer                93406 non-null  int64         \n",
      "dtypes: category(1), datetime64[ns](2), float64(11), int64(5), object(3)\n",
      "memory usage: 15.8+ MB\n"
     ]
    }
   ],
   "source": [
    "# Change dates column to pd.datetime\n",
    "df_temp[\"order_purchase_date\"] = pd.to_datetime(df_temp[\"order_purchase_date\"])\n",
    "\n",
    "current_date = pd.to_datetime(\"2018-09-04\")\n",
    "# Get the average number of days between orders for each customer\n",
    "df_sorted = df_temp.sort_values(by=[\"customer_unique_id\", \"order_purchase_date\"])\n",
    "df_grouped = df_sorted.groupby(\"customer_unique_id\")\n",
    "\n",
    "df_customers = df_grouped.agg(\n",
    "    first_order_date=(\"order_purchase_date\", \"min\"),\n",
    "    last_order_date=(\"order_purchase_date\", \"max\"),\n",
    "    total_orders=(\"order_id\", \"count\"),\n",
    "    average_processing_time=(\"order_processing_time\", \"mean\"),\n",
    "    cancelled_orders=(\"canceled_orders\", \"sum\"),\n",
    "    total_expenses=(\"payment_value\", \"sum\"),\n",
    "    total_items_values=(\"item_price\", \"sum\"),\n",
    "    total_freight_value=(\"freight_value\", \"sum\"),\n",
    "    average_order_value=(\"payment_value\", \"mean\"),\n",
    "    average_freight_value=(\"freight_value\", \"mean\"),\n",
    "    average_payment_installement=(\"payment_installments\", \"mean\"),\n",
    "    most_used_payment_method=(\"payment_type\", lambda x: x.mode()[0]),\n",
    "    usual_moment_of_order_str=(\"order_purchase_time_bin\", lambda x: x.mode()[0]),\n",
    "    most_ordered_category=(\"product_category_name_english\", lambda x: x.mode()[0]),\n",
    "    number_of_different_categories=(\"product_category_name_english\", \"nunique\"),\n",
    "    average_review_score=(\"review_score\", \"mean\"),\n",
    "    average_delivery_delays=(\"delivery_delay\", \"mean\"),\n",
    "    average_days_late=(\"days_late_count\", \"mean\"),\n",
    ")\n",
    "\n",
    "# Calculate the average days between orders if more than one order\n",
    "df_sorted[\"days_since_previous_orders\"] = (\n",
    "    df_grouped[\"order_purchase_date\"].diff().dt.days.fillna(0)\n",
    ")\n",
    "\n",
    "average_days_between_orders = (\n",
    "    df_sorted.groupby(\"customer_unique_id\")[\"days_since_previous_orders\"]\n",
    "    .mean()\n",
    "    .fillna(0)\n",
    ")\n",
    "\n",
    "df_customers = df_customers.reset_index()\n",
    "\n",
    "# Calculate the number of days since the last order\n",
    "df_customers[\"days_since_last_order\"] = (current_date - df_customers[\"last_order_date\"]).dt.days\n",
    "\n",
    "# Add average days between orders to the customers dataframe\n",
    "df_customers = df_customers.merge(average_days_between_orders.rename(\"average_days_between_orders\"), on=\"customer_unique_id\", how=\"left\")\n",
    "\n",
    "# drop customers with only 1 order that was cancelled\n",
    "df_customers = df_customers[\n",
    "    (df_customers[\"total_orders\"] >= 1) | (df_customers[\"cancelled_orders\"] == 0)\n",
    "]\n",
    "\n",
    "# how long a customer is a customer\n",
    "df_customers[\"days_as_customer\"] = (df_customers[\"last_order_date\"] - df_customers[\"first_order_date\"]).dt.days\n",
    "# replace firstime customers with 1\n",
    "df_customers[\"days_as_customer\"] = df_customers[\"days_as_customer\"].apply(lambda x: 1 if x == 0 else x)\n",
    "\n",
    "# drop rows where total orders = total cancelled orders\n",
    "df_customers = df_customers[df_customers[\"total_orders\"] != df_customers[\"cancelled_orders\"]]\n",
    "\n",
    "df_customers.info()"
   ]
  },
  {
   "cell_type": "markdown",
   "metadata": {},
   "source": [
    "## working on categories"
   ]
  },
  {
   "cell_type": "markdown",
   "metadata": {},
   "source": [
    "### Time of ordering"
   ]
  },
  {
   "cell_type": "code",
   "execution_count": 32,
   "metadata": {},
   "outputs": [],
   "source": [
    "# Ordinal encoding of time of the day\n",
    "# We will use the following order : Night < Morning < Noon < Afternoon < Evening\n",
    "time_of_day_order = [\"Night\", \"Morning\", \"Noon\", \"Afternoon\", \"Evening\"]\n",
    "df_customers[\"usual_moment_of_order_int\"] = df_customers[\"usual_moment_of_order_str\"].apply(\n",
    "    lambda x: time_of_day_order.index(x)\n",
    ")\n"
   ]
  },
  {
   "cell_type": "markdown",
   "metadata": {},
   "source": [
    "# SAVE DATAFRAMES"
   ]
  },
  {
   "cell_type": "code",
   "execution_count": 33,
   "metadata": {},
   "outputs": [],
   "source": [
    "# Save to pickle\n",
    "df_customers.to_pickle(\"../data/customers.pkl\")"
   ]
  }
 ],
 "metadata": {
  "kernelspec": {
   "display_name": "myvenv",
   "language": "python",
   "name": "python3"
  },
  "language_info": {
   "codemirror_mode": {
    "name": "ipython",
    "version": 3
   },
   "file_extension": ".py",
   "mimetype": "text/x-python",
   "name": "python",
   "nbconvert_exporter": "python",
   "pygments_lexer": "ipython3",
   "version": "3.13.1"
  }
 },
 "nbformat": 4,
 "nbformat_minor": 2
}
